{
 "cells": [
  {
   "cell_type": "markdown",
   "metadata": {},
   "source": [
    "# Présentation de la boite à outil Julia pour l'Algèbre Max-Plus\n",
    "\n",
    "L'algebre Max-Plus redéfinit les opérateurs addition et multiplication par les opérateurs max et addition.\n",
    "\n",
    "$$a \\oplus b = \\max(a,b)$$\n",
    "$$a \\otimes b = a + b$$\n",
    "\n",
    "L'algebre Max-Plus permet de modéliser et d'évaluer les performances de systèmes à évènements discrets (réseaux de transport ou de télécom, systèmes de production), mais également dans des domaines tels que et théorie de la décision, recherche opérationnelle.\n",
    "\n",
    "Une boite à outils Max-Plus est directement intégrée dans le logiciel [ScicosLab](http://www.scicoslab.org) qui est le fork officiel de Scilab maintenu par les anciens développeurs. Dans ce document nous allons utiliser le langage Julia (version >= 1.0.3 bien qu'une version > 1.3 soit plus recommandée car elle apporte des correctifs sur les matrices creuses) ainsi que ce [package MaxPlus](https://github.com/Lecrapouille/MaxPlus.jl). Ce document permet à la fois d'introduire cette algèbre et de présenter les fonctions de base pour Julia.\n",
    "\n",
    "Pour commencer, nous allons télécharger cette boite à outils Julia. Vous avez deux options:\n",
    "- si vous travaillez depuis une session REPL Julia, vous pouvez télécharger la dernière version sur GitHub :"
   ]
  },
  {
   "cell_type": "code",
   "execution_count": null,
   "metadata": {},
   "outputs": [],
   "source": [
    "# using Pkg; Pkg.add(PackageSpec(url=\"https://github.com/Lecrapouille/MaxPlus.jl\"));\n",
    "# using MaxPlus;"
   ]
  },
  {
   "cell_type": "markdown",
   "metadata": {},
   "source": [
    "- Soit depuis le gestionaire de package Julia:"
   ]
  },
  {
   "cell_type": "code",
   "execution_count": null,
   "metadata": {},
   "outputs": [],
   "source": [
    "# using Pkg; Pkg.add(\"MaxPlus\")"
   ]
  },
  {
   "cell_type": "markdown",
   "metadata": {},
   "source": [
    "- Soit depuis ce document Jupyter (le code précédent ne fonctionnant pas avec un document Jupyter) :"
   ]
  },
  {
   "cell_type": "code",
   "execution_count": 1,
   "metadata": {},
   "outputs": [],
   "source": [
    "push!(LOAD_PATH, pwd())\n",
    "using MaxPlus"
   ]
  },
  {
   "cell_type": "markdown",
   "metadata": {},
   "source": [
    "Pour le moment et dans un soucis pédagogique on active un mode d'affichage particulier des nombres max-plus. L'explication sera donnée plus tard."
   ]
  },
  {
   "cell_type": "code",
   "execution_count": 3,
   "metadata": {},
   "outputs": [],
   "source": [
    "mp_change_display(0);"
   ]
  },
  {
   "cell_type": "markdown",
   "metadata": {},
   "source": [
    "Verifions le version de votre Julia. Une version > 1.3 est le plus recommandée car elle apporte des correctifs sur les matrices creuses. Certains correctifs sont pris en compte avec le package MaxPlus."
   ]
  },
  {
   "cell_type": "code",
   "execution_count": 11,
   "metadata": {},
   "outputs": [
    {
     "name": "stdout",
     "output_type": "stream",
     "text": [
      "Julia Version 1.0.3\n",
      "Platform Info:\n",
      "  OS: Linux (x86_64-linux-gnu)\n",
      "  CPU: AMD Ryzen 7 1800X Eight-Core Processor\n",
      "  WORD_SIZE: 64\n",
      "  LIBM: libopenlibm\n",
      "  LLVM: libLLVM-6.0.0 (ORCJIT, znver1)\n"
     ]
    }
   ],
   "source": [
    "versioninfo()"
   ]
  },
  {
   "cell_type": "markdown",
   "metadata": {},
   "source": [
    "---\n",
    "## Les types Max-Plus\n",
    "\n",
    "Crééons quelques nombres max-plus sous Julia. Ces nombres sont templatés (Float ou Int). Par exemple on écrira :"
   ]
  },
  {
   "cell_type": "code",
   "execution_count": 4,
   "metadata": {},
   "outputs": [
    {
     "data": {
      "text/plain": [
       "42.0"
      ]
     },
     "execution_count": 4,
     "metadata": {},
     "output_type": "execute_result"
    }
   ],
   "source": [
    "MP{Float64}(42)"
   ]
  },
  {
   "cell_type": "markdown",
   "metadata": {},
   "source": [
    "Ou bien plus court :"
   ]
  },
  {
   "cell_type": "code",
   "execution_count": 5,
   "metadata": {},
   "outputs": [
    {
     "data": {
      "text/plain": [
       "MP{Float64}"
      ]
     },
     "execution_count": 5,
     "metadata": {},
     "output_type": "execute_result"
    }
   ],
   "source": [
    "a = MP(1.0)\n",
    "b = MP(3.0)\n",
    "typeof(a)"
   ]
  },
  {
   "cell_type": "markdown",
   "metadata": {},
   "source": [
    "Même idée pour les entiers :"
   ]
  },
  {
   "cell_type": "code",
   "execution_count": 6,
   "metadata": {},
   "outputs": [
    {
     "data": {
      "text/plain": [
       "MP{Int64}"
      ]
     },
     "execution_count": 6,
     "metadata": {},
     "output_type": "execute_result"
    }
   ],
   "source": [
    "c = MP(3)\n",
    "typeof(c)"
   ]
  },
  {
   "cell_type": "markdown",
   "metadata": {},
   "source": [
    "Les nombres max-plus contaminent sur les autres nombres : ils convertisent un nombre non max-plus en nombre max-plus via les opérateurs :"
   ]
  },
  {
   "cell_type": "code",
   "execution_count": 7,
   "metadata": {},
   "outputs": [
    {
     "data": {
      "text/plain": [
       "1×3 Array{DataType,2}:\n",
       " MP{Int64}  Float64  MP{Float64}"
      ]
     },
     "execution_count": 7,
     "metadata": {},
     "output_type": "execute_result"
    }
   ],
   "source": [
    "d = 1.0\n",
    "[typeof(c) typeof(d) typeof(c + d)]"
   ]
  },
  {
   "cell_type": "markdown",
   "metadata": {},
   "source": [
    "Nous voyons que l'addition max-plus à transformer la variable c MP{Int64} en MP{Float64}.\n",
    "\n",
    "Même idée pour les matrices denses (et creuses) :"
   ]
  },
  {
   "cell_type": "code",
   "execution_count": 8,
   "metadata": {},
   "outputs": [
    {
     "data": {
      "text/plain": [
       "2×2 Array{MP{Float64},2}:\n",
       " 1.0  2.0\n",
       " 3.0  4.0"
      ]
     },
     "execution_count": 8,
     "metadata": {},
     "output_type": "execute_result"
    }
   ],
   "source": [
    "[MP(1.0) 2; 3 4]"
   ]
  },
  {
   "cell_type": "markdown",
   "metadata": {},
   "source": [
    "MP(1.0) de type MP{Float64} a contaminé les nombres entiers *classiques* 2 3 et 4 en MP{Float64}.\n",
    "\n",
    "Voici une façon de le faire plus simple :"
   ]
  },
  {
   "cell_type": "code",
   "execution_count": 9,
   "metadata": {},
   "outputs": [
    {
     "data": {
      "text/plain": [
       "2×2 Array{MP{Float64},2}:\n",
       " 1.0  2.0\n",
       " 3.0  4.0"
      ]
     },
     "execution_count": 9,
     "metadata": {},
     "output_type": "execute_result"
    }
   ],
   "source": [
    "MP([1.0 2; 3 4])"
   ]
  },
  {
   "cell_type": "markdown",
   "metadata": {},
   "source": [
    "Voici un autre exmple plus complexe de matrice contenant des nombres infinis $-\\infty$ (qui sont du type MP{Float}):"
   ]
  },
  {
   "cell_type": "code",
   "execution_count": 10,
   "metadata": {},
   "outputs": [
    {
     "data": {
      "text/plain": [
       "2×2 Array{MP{Float64},2}:\n",
       " -Inf       0.0\n",
       "    0.0  -Inf  "
      ]
     },
     "execution_count": 10,
     "metadata": {},
     "output_type": "execute_result"
    }
   ],
   "source": [
    "I = MP([-Inf 0; 0 -Inf])"
   ]
  },
  {
   "cell_type": "markdown",
   "metadata": {},
   "source": [
    "Si l'on désire convertir un nombre max-plus en un nombre ordinaire (au sens algèbre classique, celle que l'on utilise tous les jours) :"
   ]
  },
  {
   "cell_type": "code",
   "execution_count": 12,
   "metadata": {},
   "outputs": [
    {
     "data": {
      "text/plain": [
       "1×3 Array{DataType,2}:\n",
       " MP{Float64}  Float64  MP{Float64}"
      ]
     },
     "execution_count": 12,
     "metadata": {},
     "output_type": "execute_result"
    }
   ],
   "source": [
    "e = plustimes(a)\n",
    "[typeof(a) typeof(e) typeof(MP(e))]"
   ]
  },
  {
   "cell_type": "markdown",
   "metadata": {},
   "source": [
    "Nous voyons que la variable e étant du type MP{Float64} est devenue de type Float64. Elle se comportera désormais comme un vrai nombre :"
   ]
  },
  {
   "cell_type": "code",
   "execution_count": 13,
   "metadata": {},
   "outputs": [
    {
     "data": {
      "text/plain": [
       "2×2 Array{MP{Float64},2}:\n",
       " 1.0  1.0\n",
       " 2.0  1.0"
      ]
     },
     "execution_count": 13,
     "metadata": {},
     "output_type": "execute_result"
    }
   ],
   "source": [
    "[e       a\n",
    " e + e   a + a]"
   ]
  },
  {
   "cell_type": "markdown",
   "metadata": {},
   "source": [
    "On peut vouloir convertir les valeurs pour l'algèbre min-plus (les signes des $-\\infty$ sont inversés) :"
   ]
  },
  {
   "cell_type": "code",
   "execution_count": 79,
   "metadata": {},
   "outputs": [
    {
     "data": {
      "text/plain": [
       "Inf"
      ]
     },
     "execution_count": 79,
     "metadata": {},
     "output_type": "execute_result"
    }
   ],
   "source": [
    "minplus(MP(-Inf))"
   ]
  },
  {
   "cell_type": "markdown",
   "metadata": {},
   "source": [
    "---\n",
    "### Constantes Julia max-plus\n",
    "\n",
    "Certaines constantes max-plus sont prédéfinies:\n",
    "- mp0 pour $-\\infty$ (que l'on note en général $\\varepsilon$),\n",
    "- mp1 pour 0 (que l'on note en général $e$),\n",
    "- mptop pour $+\\infty$ (utilisé pour l'algèbre min-plus)."
   ]
  },
  {
   "cell_type": "code",
   "execution_count": 14,
   "metadata": {},
   "outputs": [
    {
     "data": {
      "text/plain": [
       "2×3 Array{MP{Float64},2}:\n",
       " -Inf  0.0  Inf\n",
       " -Inf  0.0  Inf"
      ]
     },
     "execution_count": 14,
     "metadata": {},
     "output_type": "execute_result"
    }
   ],
   "source": [
    "[mp0 mp1 mptop; mpzero(Float64) mpone(Float64) mptop]"
   ]
  },
  {
   "cell_type": "markdown",
   "metadata": {},
   "source": [
    "Le template peuvent être changé :"
   ]
  },
  {
   "cell_type": "code",
   "execution_count": 18,
   "metadata": {},
   "outputs": [
    {
     "data": {
      "text/plain": [
       "1×2 Array{MP{Int64},2}:\n",
       " -9223372036854775808  0"
      ]
     },
     "execution_count": 18,
     "metadata": {},
     "output_type": "execute_result"
    }
   ],
   "source": [
    "[mpzero(Int64) mpone(Int64)]"
   ]
  },
  {
   "cell_type": "markdown",
   "metadata": {},
   "source": [
    "Mais attention mp0, mp1 et mptop sont prédéfinis avec le type MP{Float}."
   ]
  },
  {
   "cell_type": "markdown",
   "metadata": {},
   "source": [
    "---\n",
    "### Affichage des nombres max-plus\n",
    "\n",
    "Il y a 4 styles d'affichage possibles:\n",
    "- Style 0: les nombres $-\\infty$ et les zéros sont affichés tels quels.\n",
    "- Style 1 ou 2: les nombres $-\\infty$ sont affiché sous la forme d'un point.\n",
    "- Style 3 ou 4: les nombres $-\\infty$ sont affichés sous la forme $\\varepsilon$.\n",
    "- Style 1 ou 3: les zeros sont affichés $0$.\n",
    "- Style 2 ou 4: les zeros sont affichés $e$.\n",
    "\n",
    "Le style 2 est activé par défaut et correspond à l'affichage de ScicosLab. Notons que les nombres réels qui peuvent être écrits comme des entiers seront affichés comme des entiers. Ce choix en combinaison des diffèrents modes permet de comprésser l'affichage des matrices. En effet, il est commun en max-plus de devoir ma,ipuler et afficher de grosses matrices creuses."
   ]
  },
  {
   "cell_type": "code",
   "execution_count": 24,
   "metadata": {},
   "outputs": [
    {
     "data": {
      "text/plain": [
       "2×2 Array{MP{Float64},2}:\n",
       " -Inf       0.0\n",
       "    0.0  -Inf  "
      ]
     },
     "execution_count": 24,
     "metadata": {},
     "output_type": "execute_result"
    }
   ],
   "source": [
    "mp_change_display(0)\n",
    "I = MP([-Inf 0; 0 -Inf])"
   ]
  },
  {
   "cell_type": "code",
   "execution_count": 25,
   "metadata": {},
   "outputs": [
    {
     "data": {
      "text/plain": [
       "2×2 Array{MP{Float64},2}:\n",
       "  .  0 \n",
       " 0    ."
      ]
     },
     "execution_count": 25,
     "metadata": {},
     "output_type": "execute_result"
    }
   ],
   "source": [
    "mp_change_display(1)\n",
    "I"
   ]
  },
  {
   "cell_type": "code",
   "execution_count": 21,
   "metadata": {},
   "outputs": [
    {
     "data": {
      "text/plain": [
       "2×2 Array{MP{Float64},2}:\n",
       " .  e\n",
       " e  ."
      ]
     },
     "execution_count": 21,
     "metadata": {},
     "output_type": "execute_result"
    }
   ],
   "source": [
    "mp_change_display(2)\n",
    "I"
   ]
  },
  {
   "cell_type": "code",
   "execution_count": 22,
   "metadata": {},
   "outputs": [
    {
     "data": {
      "text/plain": [
       "2×2 Array{MP{Float64},2}:\n",
       " ε  0\n",
       " 0  ε"
      ]
     },
     "execution_count": 22,
     "metadata": {},
     "output_type": "execute_result"
    }
   ],
   "source": [
    "mp_change_display(3)\n",
    "I"
   ]
  },
  {
   "cell_type": "code",
   "execution_count": 29,
   "metadata": {},
   "outputs": [
    {
     "data": {
      "text/plain": [
       "2×2 Array{MP{Float64},2}:\n",
       " ε    e\n",
       "  e  ε "
      ]
     },
     "execution_count": 29,
     "metadata": {},
     "output_type": "execute_result"
    }
   ],
   "source": [
    "mp_change_display(4)\n",
    "I"
   ]
  },
  {
   "cell_type": "markdown",
   "metadata": {},
   "source": [
    "On peut générer du code LaTeX à partir d'une matrice max-plus. la fonction mp_change_display() modifie également le code LaTeX généré."
   ]
  },
  {
   "cell_type": "code",
   "execution_count": 30,
   "metadata": {},
   "outputs": [
    {
     "name": "stdout",
     "output_type": "stream",
     "text": [
      "\\left[\n",
      "\\begin{array}{*{20}c}\n",
      "\\varepsilon & e \\\\\n",
      "e & \\varepsilon \\\\\n",
      "\\end{array}\n",
      "\\right]\n"
     ]
    }
   ],
   "source": [
    "LaTeX(stdout, I)"
   ]
  },
  {
   "cell_type": "markdown",
   "metadata": {},
   "source": [
    "Qui donnera :\n",
    "\n",
    "$$\\left[\n",
    "\\begin{array}{*{20}c}\n",
    "\\varepsilon & e \\\\\n",
    "e & \\varepsilon \\\\\n",
    "\\end{array}\n",
    "\\right]$$"
   ]
  },
  {
   "cell_type": "code",
   "execution_count": 60,
   "metadata": {},
   "outputs": [
    {
     "name": "stdout",
     "output_type": "stream",
     "text": [
      "\\left[\n",
      "\\begin{array}{*{20}c}\n",
      "-\\infty & 0 \\\\\n",
      "0 & -\\infty \\\\\n",
      "\\end{array}\n",
      "\\right]\n"
     ]
    }
   ],
   "source": [
    "mp_change_display(0)\n",
    "LaTeX(stdout, I)"
   ]
  },
  {
   "cell_type": "markdown",
   "metadata": {},
   "source": [
    "Donnera :\n",
    "$$\\left[\n",
    "\\begin{array}{*{20}c}\n",
    "-\\infty & 0 \\\\\n",
    "0 & -\\infty \\\\\n",
    "\\end{array}\n",
    "\\right]$$"
   ]
  },
  {
   "cell_type": "markdown",
   "metadata": {},
   "source": [
    "---\n",
    "### Max-Plus opérateur $\\oplus$\n",
    "\n",
    "L'opérateur addition est redéfini par l'opérateur max() qui est associatif, commutatif, a un élément neutre (noté $\\varepsilon$) et est idempotent.\n",
    "\n",
    "$$a \\oplus b \\triangleq \\max(a,b)$$"
   ]
  },
  {
   "cell_type": "code",
   "execution_count": 34,
   "metadata": {},
   "outputs": [
    {
     "data": {
      "text/plain": [
       "1×2 Array{MP{Float64},2}:\n",
       " 1  3"
      ]
     },
     "execution_count": 34,
     "metadata": {},
     "output_type": "execute_result"
    }
   ],
   "source": [
    "[a b]"
   ]
  },
  {
   "cell_type": "code",
   "execution_count": 33,
   "metadata": {},
   "outputs": [
    {
     "data": {
      "text/plain": [
       "3"
      ]
     },
     "execution_count": 33,
     "metadata": {},
     "output_type": "execute_result"
    }
   ],
   "source": [
    "a + b    # ≜ max(a, b) == max(1, 3) == 3"
   ]
  },
  {
   "cell_type": "markdown",
   "metadata": {},
   "source": [
    "#### Commutativité\n",
    "\n",
    "$$a \\oplus b = b \\oplus a$$\n",
    "$$\\triangleq$$\n",
    "$$\\max(a,b) = \\max(b,a)$$"
   ]
  },
  {
   "cell_type": "code",
   "execution_count": 35,
   "metadata": {},
   "outputs": [
    {
     "data": {
      "text/plain": [
       "true"
      ]
     },
     "execution_count": 35,
     "metadata": {},
     "output_type": "execute_result"
    }
   ],
   "source": [
    "a + b == b + a"
   ]
  },
  {
   "cell_type": "markdown",
   "metadata": {},
   "source": [
    "#### Associativité\n",
    "\n",
    "$$a \\oplus b \\oplus c = (a \\oplus b) \\oplus c = a \\oplus (b \\oplus c)$$"
   ]
  },
  {
   "cell_type": "code",
   "execution_count": 36,
   "metadata": {},
   "outputs": [
    {
     "data": {
      "text/plain": [
       "true"
      ]
     },
     "execution_count": 36,
     "metadata": {},
     "output_type": "execute_result"
    }
   ],
   "source": [
    "a + b + c == (a + b) + c == a + (b + c)"
   ]
  },
  {
   "cell_type": "markdown",
   "metadata": {},
   "source": [
    "#### Elément neutre $\\varepsilon$\n",
    "\n",
    "$$a \\oplus \\varepsilon = \\varepsilon \\oplus a = a$$\n",
    "$$\\triangleq$$\n",
    "$$\\max(a,-\\infty) = \\max(-\\infty,a) = a$$"
   ]
  },
  {
   "cell_type": "code",
   "execution_count": 45,
   "metadata": {},
   "outputs": [
    {
     "data": {
      "text/plain": [
       "true"
      ]
     },
     "execution_count": 45,
     "metadata": {},
     "output_type": "execute_result"
    }
   ],
   "source": [
    "a + mp0 == mp0 + a == a"
   ]
  },
  {
   "cell_type": "markdown",
   "metadata": {},
   "source": [
    "Notons que $0$ est neutre pour les nombres positifs :"
   ]
  },
  {
   "cell_type": "code",
   "execution_count": 46,
   "metadata": {},
   "outputs": [
    {
     "data": {
      "text/plain": [
       "true"
      ]
     },
     "execution_count": 46,
     "metadata": {},
     "output_type": "execute_result"
    }
   ],
   "source": [
    "a + 0 == 0 + a == a"
   ]
  },
  {
   "cell_type": "markdown",
   "metadata": {},
   "source": [
    "#### Elément absorbant $\\infty$\n",
    "\n",
    "$$a \\oplus \\infty = \\infty \\oplus a$$\n",
    "$$\\triangleq$$\n",
    "$$\\max(a,\\infty) = \\max(\\infty,a) = \\infty$$"
   ]
  },
  {
   "cell_type": "code",
   "execution_count": 38,
   "metadata": {},
   "outputs": [
    {
     "data": {
      "text/plain": [
       "true"
      ]
     },
     "execution_count": 38,
     "metadata": {},
     "output_type": "execute_result"
    }
   ],
   "source": [
    "a + mptop == mptop + a == mptop"
   ]
  },
  {
   "cell_type": "markdown",
   "metadata": {},
   "source": [
    "#### Idempotent"
   ]
  },
  {
   "cell_type": "code",
   "execution_count": 39,
   "metadata": {},
   "outputs": [
    {
     "data": {
      "text/plain": [
       "1"
      ]
     },
     "execution_count": 39,
     "metadata": {},
     "output_type": "execute_result"
    }
   ],
   "source": [
    "a + a    # ≜ max(a, a) == max(1, 1) == 1"
   ]
  },
  {
   "cell_type": "markdown",
   "metadata": {},
   "source": [
    "---\n",
    "### Max-Plus opérateur $\\otimes$\n",
    "\n",
    "L'opérateur multiplication est redéfini par l'opérateur addition qui est associatif, commutatif, a l'élément neutre $e$, l'élément absorbant $\\varepsilon$ et est distributif sur $\\oplus$."
   ]
  },
  {
   "cell_type": "code",
   "execution_count": 41,
   "metadata": {},
   "outputs": [
    {
     "data": {
      "text/plain": [
       "4"
      ]
     },
     "execution_count": 41,
     "metadata": {},
     "output_type": "execute_result"
    }
   ],
   "source": [
    "a * b    # ≜ a + b == 1 + 3 == 4"
   ]
  },
  {
   "cell_type": "markdown",
   "metadata": {},
   "source": [
    "#### Commutativité\n",
    "\n",
    "$$a \\otimes b = b \\otimes a$$\n",
    "$$\\triangleq$$\n",
    "$$a + b = b + a$$"
   ]
  },
  {
   "cell_type": "code",
   "execution_count": 42,
   "metadata": {},
   "outputs": [
    {
     "data": {
      "text/plain": [
       "true"
      ]
     },
     "execution_count": 42,
     "metadata": {},
     "output_type": "execute_result"
    }
   ],
   "source": [
    "a * b == b * a"
   ]
  },
  {
   "cell_type": "markdown",
   "metadata": {},
   "source": [
    "#### Associativité\n",
    "\n",
    "$$a \\otimes b \\otimes c = (a \\otimes b) \\otimes c = a \\otimes (b \\otimes c)$$"
   ]
  },
  {
   "cell_type": "code",
   "execution_count": 43,
   "metadata": {},
   "outputs": [
    {
     "data": {
      "text/plain": [
       "true"
      ]
     },
     "execution_count": 43,
     "metadata": {},
     "output_type": "execute_result"
    }
   ],
   "source": [
    "a * b * c == (a * b) * c == a * (b * c)"
   ]
  },
  {
   "cell_type": "markdown",
   "metadata": {},
   "source": [
    "#### Elément neutre $e$\n",
    "\n",
    "$$a \\otimes e = e \\otimes a = a$$\n",
    "$$\\triangleq$$\n",
    "$$a + 0 = 0 + a = a$$"
   ]
  },
  {
   "cell_type": "code",
   "execution_count": null,
   "metadata": {},
   "outputs": [],
   "source": [
    "a * mp1 == mp1 * a == a "
   ]
  },
  {
   "cell_type": "markdown",
   "metadata": {},
   "source": [
    "#### Elément absorbant $\\varepsilon$\n",
    "\n",
    "$$a \\otimes \\varepsilon = \\varepsilon \\otimes a = \\varepsilon$$\n",
    "$$\\triangleq$$\n",
    "$$a -\\infty = -\\infty + a = -\\infty$$"
   ]
  },
  {
   "cell_type": "code",
   "execution_count": null,
   "metadata": {},
   "outputs": [],
   "source": [
    "a * mp0 == mp0 * a == mp0"
   ]
  },
  {
   "cell_type": "markdown",
   "metadata": {},
   "source": [
    "Par convention:\n",
    "\n",
    "$$\\infty \\otimes \\varepsilon = \\varepsilon \\otimes \\infty = \\varepsilon$$"
   ]
  },
  {
   "cell_type": "code",
   "execution_count": 50,
   "metadata": {},
   "outputs": [],
   "source": [
    "# mptop * mp0 TODO shall return mp0"
   ]
  },
  {
   "cell_type": "markdown",
   "metadata": {},
   "source": [
    "**FIXME**"
   ]
  },
  {
   "cell_type": "markdown",
   "metadata": {},
   "source": [
    "#### N'est pas idempotent"
   ]
  },
  {
   "cell_type": "code",
   "execution_count": null,
   "metadata": {},
   "outputs": [],
   "source": [
    "a * a    # ≜ a + a == 1 + 1 == 2"
   ]
  },
  {
   "cell_type": "markdown",
   "metadata": {},
   "source": [
    "---\n",
    "### Distributivité de $\\otimes$ sur $\\oplus$\n",
    "\n",
    "$$a \\otimes (b \\oplus c) = (a \\otimes b) \\oplus (a \\otimes c)$$\n",
    "$$(b \\oplus c) \\otimes a = (b \\otimes a) \\oplus (c \\otimes a)$$\n",
    "\n",
    "$$a \\oplus b \\otimes c = a + \\max(a, b)$$\n",
    "$$a \\otimes c \\oplus b \\otimes c = \\max(a+c,b+c)$$"
   ]
  },
  {
   "cell_type": "code",
   "execution_count": 51,
   "metadata": {},
   "outputs": [
    {
     "data": {
      "text/plain": [
       "true"
      ]
     },
     "execution_count": 51,
     "metadata": {},
     "output_type": "execute_result"
    }
   ],
   "source": [
    "(a + b) * c == (a * c) + (b * c)     # => max(a, b) + c == max(a + c, b + c) "
   ]
  },
  {
   "cell_type": "code",
   "execution_count": 52,
   "metadata": {},
   "outputs": [
    {
     "data": {
      "text/plain": [
       "6"
      ]
     },
     "execution_count": 52,
     "metadata": {},
     "output_type": "execute_result"
    }
   ],
   "source": [
    "(a * c) + (b * c)"
   ]
  },
  {
   "cell_type": "markdown",
   "metadata": {},
   "source": [
    "---\n",
    "### Produit matriciel\n",
    "\n",
    "Les matrices peuvent être de type max-plus. Le produit matriciel correspond au produit matriciel avec les operateurs $+$ et $\\times$ surchargés.\n",
    "\n",
    "$$A=\\begin{bmatrix}\n",
    "4 & 3 \\\\\n",
    "7 & -\\infty\n",
    "\\end{bmatrix}\\;,$$\n",
    "\n",
    "$$A \\otimes A = \\begin{bmatrix}\n",
    "4 \\otimes 4 \\oplus 7 \\otimes7 & 4 \\otimes 3 \\oplus 3 \\otimes -\\infty \\\\\n",
    "7 \\otimes 4 \\oplus -\\infty \\otimes 7 & 7 \\otimes 3 \\oplus -\\infty \\otimes -\\infty\n",
    "\\end{bmatrix}\\; = \\begin{bmatrix}\n",
    "10 & 7 \\\\\n",
    "11 & 10\n",
    "\\end{bmatrix}\\; = A^2.$$"
   ]
  },
  {
   "cell_type": "code",
   "execution_count": 54,
   "metadata": {},
   "outputs": [
    {
     "data": {
      "text/plain": [
       "2×2 Array{MP{Float64},2}:\n",
       " 10   7\n",
       " 11  10"
      ]
     },
     "execution_count": 54,
     "metadata": {},
     "output_type": "execute_result"
    }
   ],
   "source": [
    "A = MP([4 3; 7 -Inf])\n",
    "A * A"
   ]
  },
  {
   "cell_type": "code",
   "execution_count": 55,
   "metadata": {},
   "outputs": [
    {
     "data": {
      "text/plain": [
       "true"
      ]
     },
     "execution_count": 55,
     "metadata": {},
     "output_type": "execute_result"
    }
   ],
   "source": [
    "A * A == A^2"
   ]
  },
  {
   "cell_type": "markdown",
   "metadata": {},
   "source": [
    "En algébre max-plus l'opérateur puissance devient une simple multiplication :"
   ]
  },
  {
   "cell_type": "code",
   "execution_count": 64,
   "metadata": {},
   "outputs": [
    {
     "data": {
      "text/plain": [
       "10.0"
      ]
     },
     "execution_count": 64,
     "metadata": {},
     "output_type": "execute_result"
    }
   ],
   "source": [
    "MP(2.0)^5   # ==> 2.0 * 5.0 "
   ]
  },
  {
   "cell_type": "code",
   "execution_count": 61,
   "metadata": {},
   "outputs": [
    {
     "data": {
      "text/plain": [
       "0.0"
      ]
     },
     "execution_count": 61,
     "metadata": {},
     "output_type": "execute_result"
    }
   ],
   "source": [
    "MP(2.0)^0"
   ]
  },
  {
   "cell_type": "markdown",
   "metadata": {},
   "source": [
    "S'applique également aux matrices :"
   ]
  },
  {
   "cell_type": "code",
   "execution_count": 62,
   "metadata": {},
   "outputs": [
    {
     "data": {
      "text/plain": [
       "2×2 Array{MP{Float64},2}:\n",
       " 24.0  23.0\n",
       " 27.0  24.0"
      ]
     },
     "execution_count": 62,
     "metadata": {},
     "output_type": "execute_result"
    }
   ],
   "source": [
    "A^5"
   ]
  },
  {
   "cell_type": "code",
   "execution_count": 63,
   "metadata": {},
   "outputs": [
    {
     "data": {
      "text/plain": [
       "2×2 Array{MP{Float64},2}:\n",
       "    0.0  -Inf  \n",
       " -Inf       0.0"
      ]
     },
     "execution_count": 63,
     "metadata": {},
     "output_type": "execute_result"
    }
   ],
   "source": [
    "A^0"
   ]
  },
  {
   "cell_type": "markdown",
   "metadata": {},
   "source": [
    "---\n",
    "### Quelques matrice utiles\n",
    "\n",
    "Matrice identité de dimension 2x2 :\n",
    "\n",
    "$$\\left[\n",
    "\\begin{array}{*{20}c}\n",
    "e & \\varepsilon \\\\\n",
    "\\varepsilon & e \\\\\n",
    "\\end{array}\n",
    "\\right]$$"
   ]
  },
  {
   "cell_type": "code",
   "execution_count": 73,
   "metadata": {},
   "outputs": [
    {
     "data": {
      "text/plain": [
       "2×2 Array{MP{Float64},2}:\n",
       "    0.0  -Inf  \n",
       " -Inf       0.0"
      ]
     },
     "execution_count": 73,
     "metadata": {},
     "output_type": "execute_result"
    }
   ],
   "source": [
    "I = mpeye(Float64, 2,2)"
   ]
  },
  {
   "cell_type": "markdown",
   "metadata": {},
   "source": [
    "Matrices remplies uniquement de $e$ :\n",
    "\n",
    "$$\\left[\n",
    "\\begin{array}{*{20}c}\n",
    "e & e \\\\\n",
    "e & e \\\\\n",
    "\\end{array}\n",
    "\\right]$$"
   ]
  },
  {
   "cell_type": "code",
   "execution_count": 74,
   "metadata": {},
   "outputs": [
    {
     "data": {
      "text/plain": [
       "2×2 Array{MP{Float64},2}:\n",
       " 0.0  0.0\n",
       " 0.0  0.0"
      ]
     },
     "execution_count": 74,
     "metadata": {},
     "output_type": "execute_result"
    }
   ],
   "source": [
    "O = mpones(Float64, 2,2)"
   ]
  },
  {
   "cell_type": "markdown",
   "metadata": {},
   "source": [
    "Matrices remplies de $\\varepsilon$ :\n",
    "\n",
    "$$\\left[\n",
    "\\begin{array}{*{20}c}\n",
    "\\varepsilon & \\varepsilon \\\\\n",
    "\\varepsilon & \\varepsilon \\\\\n",
    "\\end{array}\n",
    "\\right]$$"
   ]
  },
  {
   "cell_type": "code",
   "execution_count": 77,
   "metadata": {},
   "outputs": [
    {
     "data": {
      "text/plain": [
       "2×2 Array{MP{Float64},2}:\n",
       " -Inf  -Inf\n",
       " -Inf  -Inf"
      ]
     },
     "execution_count": 77,
     "metadata": {},
     "output_type": "execute_result"
    }
   ],
   "source": [
    "Z = full(mpzeros(Float64, 2,2))"
   ]
  },
  {
   "cell_type": "markdown",
   "metadata": {},
   "source": [
    "**Note :** On notera la présence de la fonction full(). En effet la fonction mpzeros() retournera une matrice creuse (que l'on verra plus loin dans ce document). "
   ]
  },
  {
   "cell_type": "markdown",
   "metadata": {},
   "source": [
    "---\n",
    "### Matrices creuses\n",
    "\n",
    "Une matrice creuse est une matrice contenant beaucoup de zéros. La structure des matrices creuses évitent de garder en mémoire ces zéros. La structure internet d'une matrices creuse en Julia est trois vecteurs : un vecteur pour garder les données non nulles et deux vecteurs pour mémoriser les indices de ces données.\n",
    "\n",
    "Beaucoup d'exemples dans la natures sont représentés par une matrice creuse. Par exemple pour stocker un graphe on peut utiliser des matrices (dites d'ajacence). Le réseau routier est un graphe: les routes sont les arcs et les carrefours sont les noeuds. En général un carrefour permet de rejoindre 3 ou 4 routes. On utilisera une matrice d'ajacence creuse.\n",
    "\n",
    "En algébre classique les zéros sont 0 (pour les entiers) ou 0.0 (réels) mais en max-plus les zéros valent $-\\infty$.\n",
    "\n",
    "Pour la suite de ce document on aura besoin d'un package Julia de base supplémentaire :"
   ]
  },
  {
   "cell_type": "code",
   "execution_count": 93,
   "metadata": {},
   "outputs": [],
   "source": [
    "using SparseArrays"
   ]
  },
  {
   "cell_type": "markdown",
   "metadata": {},
   "source": [
    "**Note: On préfèrera la version Julia > 1.3 qui corrige des bugs dans les matrices creuses. Les matrices creuses max-plus ne stockent pas les valeurs $-\\infty$ mais dans les versions précédentes de Julia les valeurs zéros étaient écrites sous la forme litérale $0$ au lieu de la fonction zero() entrainant des cas d'erreurs. Le package MaxPlus en corrige certains mais il n'est pas garantit qu'il les corrige tous !**"
   ]
  },
  {
   "cell_type": "markdown",
   "metadata": {},
   "source": [
    "Création d'une matrice creuse de taille 2x2 max-plus vide :"
   ]
  },
  {
   "cell_type": "code",
   "execution_count": 94,
   "metadata": {},
   "outputs": [
    {
     "data": {
      "text/plain": [
       "2×2 SparseMatrixCSC{MP{Float64},Int64} with 0 stored entries"
      ]
     },
     "execution_count": 94,
     "metadata": {},
     "output_type": "execute_result"
    }
   ],
   "source": [
    "Z = mpzeros(Float64, 2,2)"
   ]
  },
  {
   "cell_type": "markdown",
   "metadata": {},
   "source": [
    "Création d'une matrice creuse avec des données non max-plus:"
   ]
  },
  {
   "cell_type": "code",
   "execution_count": 98,
   "metadata": {},
   "outputs": [
    {
     "data": {
      "text/plain": [
       "3×3 SparseMatrixCSC{MP{Int64},Int64} with 3 stored entries:\n",
       "  [1, 1]  =  5\n",
       "  [2, 2]  =  2\n",
       "  [3, 3]  =  6"
      ]
     },
     "execution_count": 98,
     "metadata": {},
     "output_type": "execute_result"
    }
   ],
   "source": [
    "MP(sparse([1, 2, 3], [1, 2, 3], [5, 2, 6]))"
   ]
  },
  {
   "cell_type": "markdown",
   "metadata": {},
   "source": [
    "Création d'une matrice creuse avec des données max-plus :"
   ]
  },
  {
   "cell_type": "code",
   "execution_count": 97,
   "metadata": {},
   "outputs": [
    {
     "data": {
      "text/plain": [
       "3×3 SparseMatrixCSC{MP{Int64},Int64} with 3 stored entries:\n",
       "  [1, 1]  =  5\n",
       "  [2, 2]  =  2\n",
       "  [3, 3]  =  6"
      ]
     },
     "execution_count": 97,
     "metadata": {},
     "output_type": "execute_result"
    }
   ],
   "source": [
    "sparse([1, 2, 3], [1, 2, 3], MP([5, 2, 6]))"
   ]
  },
  {
   "cell_type": "markdown",
   "metadata": {},
   "source": [
    "Julia autorise de créer des matrices contenant des éléments zéros :"
   ]
  },
  {
   "cell_type": "code",
   "execution_count": 99,
   "metadata": {},
   "outputs": [
    {
     "data": {
      "text/plain": [
       "3×3 SparseMatrixCSC{MP{Float64},Int64} with 3 stored entries:\n",
       "  [1, 1]  =  -Inf\n",
       "  [2, 2]  =  2.0\n",
       "  [3, 3]  =  0.0"
      ]
     },
     "execution_count": 99,
     "metadata": {},
     "output_type": "execute_result"
    }
   ],
   "source": [
    "A = MP(sparse([1, 2, 3], [1, 2, 3], [-Inf, 2, 0]))"
   ]
  },
  {
   "cell_type": "markdown",
   "metadata": {},
   "source": [
    "Ici le -Inf est bien stocké. Mais il n'est pas utilsé. Par exemple :"
   ]
  },
  {
   "cell_type": "code",
   "execution_count": 103,
   "metadata": {},
   "outputs": [
    {
     "data": {
      "text/plain": [
       "3×3 SparseMatrixCSC{MP{Float64},Int64} with 2 stored entries:\n",
       "  [2, 2]  =  2.0\n",
       "  [3, 3]  =  0.0"
      ]
     },
     "execution_count": 103,
     "metadata": {},
     "output_type": "execute_result"
    }
   ],
   "source": [
    "B = MP(sparse([2, 3], [2, 3], [2.0, 0]))"
   ]
  },
  {
   "cell_type": "code",
   "execution_count": 104,
   "metadata": {},
   "outputs": [
    {
     "data": {
      "text/plain": [
       "true"
      ]
     },
     "execution_count": 104,
     "metadata": {},
     "output_type": "execute_result"
    }
   ],
   "source": [
    "A == B"
   ]
  },
  {
   "cell_type": "markdown",
   "metadata": {},
   "source": [
    "Le $-\\infty$ n'est pas testé."
   ]
  },
  {
   "cell_type": "markdown",
   "metadata": {},
   "source": [
    "Conversion d'une matrice creuse en matrice pleine :"
   ]
  },
  {
   "cell_type": "code",
   "execution_count": 84,
   "metadata": {},
   "outputs": [
    {
     "data": {
      "text/plain": [
       "2×2 Array{MP{Float64},2}:\n",
       " -Inf  -Inf\n",
       " -Inf  -Inf"
      ]
     },
     "execution_count": 84,
     "metadata": {},
     "output_type": "execute_result"
    }
   ],
   "source": [
    "full(Z)  # ou bien dense(Z) ou bien Array(Z)"
   ]
  },
  {
   "cell_type": "markdown",
   "metadata": {},
   "source": [
    "On remarquera que cette matrice contient que des $-\\infty$. En effet, ils correspondent aux 0 éliminés des matrices creuses en algébre classique. Une matrice creuse max-plus ne stocke pas les nombres max-plus $-\\infty$ (**note:** enfin jusqu'à Julia > 1.3 car les versions précédentes avaient un bug elles confondaient 0 et zero(T) avec T template de type MP). \n",
    "\n",
    "Conversion d'une matrice creuse max-plus à partir d'une matrice pleine en algébre classique :"
   ]
  },
  {
   "cell_type": "code",
   "execution_count": 105,
   "metadata": {},
   "outputs": [
    {
     "data": {
      "text/plain": [
       "2×2 Array{Float64,2}:\n",
       " 4.0     0.0\n",
       " 7.0  -Inf  "
      ]
     },
     "execution_count": 105,
     "metadata": {},
     "output_type": "execute_result"
    }
   ],
   "source": [
    "A = [4 0; 7 -Inf]"
   ]
  },
  {
   "cell_type": "code",
   "execution_count": 116,
   "metadata": {},
   "outputs": [
    {
     "data": {
      "text/plain": [
       "2×2 SparseMatrixCSC{MP{Float64},Int64} with 3 stored entries:\n",
       "  [1, 1]  =  4.0\n",
       "  [2, 1]  =  7.0\n",
       "  [1, 2]  =  0.0"
      ]
     },
     "execution_count": 116,
     "metadata": {},
     "output_type": "execute_result"
    }
   ],
   "source": [
    "mpsparse(A)"
   ]
  },
  {
   "cell_type": "markdown",
   "metadata": {},
   "source": [
    "On remarquera que le $-\\infty$ a disparu. Si on voulait le garder : **FIXME**"
   ]
  },
  {
   "cell_type": "code",
   "execution_count": 109,
   "metadata": {},
   "outputs": [],
   "source": [
    "# mpsparse(A; preserve=true) TODO"
   ]
  },
  {
   "cell_type": "markdown",
   "metadata": {},
   "source": [
    "Que l'on peut éléminer par :"
   ]
  },
  {
   "cell_type": "code",
   "execution_count": 121,
   "metadata": {},
   "outputs": [
    {
     "data": {
      "text/plain": [
       "3×3 SparseMatrixCSC{MP{Float64},Int64} with 1 stored entry:\n",
       "  [2, 2]  =  2.0"
      ]
     },
     "execution_count": 121,
     "metadata": {},
     "output_type": "execute_result"
    }
   ],
   "source": [
    "MP(sparse([1, 2, 3], [1, 2, 3], [-Inf, 2, 0]), preserve=false)"
   ]
  },
  {
   "cell_type": "code",
   "execution_count": 119,
   "metadata": {},
   "outputs": [
    {
     "data": {
      "text/plain": [
       "3×3 SparseMatrixCSC{MP{Float64},Int64} with 3 stored entries:\n",
       "  [1, 1]  =  -Inf\n",
       "  [2, 2]  =  2.0\n",
       "  [3, 3]  =  0.0"
      ]
     },
     "execution_count": 119,
     "metadata": {},
     "output_type": "execute_result"
    }
   ],
   "source": [
    "MP(sparse([1, 2, 3], [1, 2, 3], [-Inf, 2, 0]), preserve=true)"
   ]
  },
  {
   "cell_type": "markdown",
   "metadata": {},
   "source": [
    "---\n",
    "### Conversion de matrices max-plus\n",
    "\n",
    "On peut vouloir convertir les valeurs pour l'algèbre min-plus (les signes des $-\\infty$ sont inversés) :"
   ]
  },
  {
   "cell_type": "code",
   "execution_count": 80,
   "metadata": {},
   "outputs": [
    {
     "data": {
      "text/plain": [
       "2×2 Array{MP{Float64},2}:\n",
       " Inf  Inf\n",
       " Inf  Inf"
      ]
     },
     "execution_count": 80,
     "metadata": {},
     "output_type": "execute_result"
    }
   ],
   "source": [
    "minplus(Z)"
   ]
  },
  {
   "cell_type": "markdown",
   "metadata": {},
   "source": [
    "On peut vouloir convertir une matrice max-plus en valeurs non max-plus :"
   ]
  },
  {
   "cell_type": "code",
   "execution_count": 81,
   "metadata": {},
   "outputs": [
    {
     "data": {
      "text/plain": [
       "2×2 Array{Float64,2}:\n",
       " -Inf  -Inf\n",
       " -Inf  -Inf"
      ]
     },
     "execution_count": 81,
     "metadata": {},
     "output_type": "execute_result"
    }
   ],
   "source": [
    "plustimes(Z)"
   ]
  },
  {
   "cell_type": "markdown",
   "metadata": {},
   "source": [
    "---\n",
    "### Trace d'une matrice\n",
    "\n",
    "Est la somme max-plus des élements diagnonaux."
   ]
  },
  {
   "cell_type": "code",
   "execution_count": 65,
   "metadata": {},
   "outputs": [
    {
     "data": {
      "text/plain": [
       "4.0"
      ]
     },
     "execution_count": 65,
     "metadata": {},
     "output_type": "execute_result"
    }
   ],
   "source": [
    "mptrace(A)"
   ]
  },
  {
   "cell_type": "code",
   "execution_count": 66,
   "metadata": {},
   "outputs": [
    {
     "data": {
      "text/plain": [
       "true"
      ]
     },
     "execution_count": 66,
     "metadata": {},
     "output_type": "execute_result"
    }
   ],
   "source": [
    "mptrace(A) == A[1,1] + A[2,2]"
   ]
  },
  {
   "cell_type": "markdown",
   "metadata": {},
   "source": [
    "---\n",
    "### Norme d'une matrice"
   ]
  },
  {
   "cell_type": "code",
   "execution_count": 72,
   "metadata": {},
   "outputs": [
    {
     "data": {
      "text/plain": [
       "Inf"
      ]
     },
     "execution_count": 72,
     "metadata": {},
     "output_type": "execute_result"
    }
   ],
   "source": [
    "mpnorm(mpeye(Float64, 2,2))"
   ]
  },
  {
   "cell_type": "markdown",
   "metadata": {},
   "source": [
    "---\n",
    "### Algorithme $A^*$ (A star)"
   ]
  },
  {
   "cell_type": "markdown",
   "metadata": {},
   "source": [
    "---\n",
    "### Valeurs propres d'une matrice"
   ]
  }
 ],
 "metadata": {
  "kernelspec": {
   "display_name": "Julia 1.0.3",
   "language": "julia",
   "name": "julia-1.0"
  },
  "language_info": {
   "file_extension": ".jl",
   "mimetype": "application/julia",
   "name": "julia",
   "version": "1.0.3"
  }
 },
 "nbformat": 4,
 "nbformat_minor": 2
}
