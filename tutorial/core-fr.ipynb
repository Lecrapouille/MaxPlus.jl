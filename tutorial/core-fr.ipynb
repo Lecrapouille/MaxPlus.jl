{
 "cells": [
  {
   "cell_type": "markdown",
   "metadata": {},
   "source": [
    "# Présentation de la boîte à outil Julia pour l'algèbre Max-Plus\n",
    "\n",
    "L'algebre Max-Plus (max+) redéfinit les opérateurs addition et multiplication de l'algèbre classique par respectivement les opérateurs maximum et addition :\n",
    "\n",
    "$$a \\oplus b \\triangleq \\max(a,b)$$\n",
    "$$a \\otimes b \\triangleq a + b$$\n",
    "\n",
    "L'algebre Max-Plus permet de modéliser et d'évaluer les performances de systèmes à évènements discrets (réseaux de transport ou de télécom, systèmes de production), mais également dans des domaines tels que la théorie de la décision, recherche opérationnelle ...\n",
    "\n",
    "Une boîte à outil Max-Plus pour le langage Julia version >= 1.0.3 peut être téléchargée depuis ce repo GitHub https://github.com/Lecrapouille/MaxPlus.jl ou bien depuis le système de paquets de Julia via la commande `] add MaxPlus`. Ce projet est un portage de la boîte à outil qui état intégrée dans le logiciel Scilab, puis par la suite, dans le logiciel [ScicosLab](http://www.scicoslab.org), un fork maintenu à l'époque par les anciens chercheurs de Scilab mais qui est désormais remplacé par le second fork [NSP](https://cermics.enpc.fr/~jpc/nsp-tiddly/mine.html).\n",
    "\n",
    "Ce document permet à la fois d'introduire l'algèbre Max-Plus tout en présentant les fonctions de base de cette boîte à outils Julia. Pour ceux qui maîtrisent déjà cette algèbre, peuvent aller directement consulter cette [bibliographie](../docs/src/bibliography.md). Pour ceux qui désirent comparer les résultats obtenus avec ceux fournis par Sicoslab on rappellera qu'un nombre Max-Plus Sicoslab est créé avec la notation suivante `#(42)`, que les éléments neutres et absorbants obtenus par `%0` et `%1` et qu'une démonstration interactive de la boîte à outil peut être lancée depuis leur menu."
   ]
  },
  {
   "cell_type": "markdown",
   "metadata": {},
   "source": [
    "## Installation de la boîte à outil Julia"
   ]
  },
  {
   "cell_type": "markdown",
   "metadata": {},
   "source": [
    "Tout d'abord vérifions la version de votre Julia. Cette boîte à outils Max-Plus fonctionne doit fonctionner avec toutes les versions de Julia même celles obsolètes (v0.4, v0.7). Certaines versions de Julia apportent des correctifs (comme sur les matrices creuses: v1.3), d'autres ajoutent des régressions (matrice identité: v1.0; produit matriciel matrice creuse avec matrice pleine: v1.4). Certains bugs sont vieux et ne sont pas corrigés (correctifs non pris en compte) mais ils seront appliqués avec ce paquet Max-Plus. Pour plus d'information, confère le fichier `fallbacks.jl`."
   ]
  },
  {
   "cell_type": "code",
   "execution_count": 1,
   "metadata": {},
   "outputs": [
    {
     "name": "stdout",
     "output_type": "stream",
     "text": [
      "Julia Version 1.6.0\n",
      "Commit f9720dc2eb (2021-03-24 12:55 UTC)\n",
      "Platform Info:\n",
      "  OS: Linux (x86_64-pc-linux-gnu)\n",
      "  CPU: AMD Ryzen 7 1800X Eight-Core Processor\n",
      "  WORD_SIZE: 64\n",
      "  LIBM: libopenlibm\n",
      "  LLVM: libLLVM-11.0.1 (ORCJIT, znver1)\n"
     ]
    }
   ],
   "source": [
    "versioninfo()"
   ]
  },
  {
   "cell_type": "markdown",
   "metadata": {},
   "source": [
    "Ensuite, nous allons installer la boîte à outils Max-Plus Julia. Vous avez plusieurs options pour le faire. Les codes suivants ne fonctionnent pas directement depuis ce document Jupyter, pensez donc à les décommenter et de les exécuter depuis le mode interactif Julia (REPL) :\n",
    "- vous pouvez télécharger la version du code source depuis GitHub :"
   ]
  },
  {
   "cell_type": "code",
   "execution_count": null,
   "metadata": {},
   "outputs": [],
   "source": [
    "# using Pkg; Pkg.add(PackageSpec(url=\"https://github.com/Lecrapouille/MaxPlus.jl\"));\n",
    "# using MaxPlus;"
   ]
  },
  {
   "cell_type": "markdown",
   "metadata": {},
   "source": [
    "- Soit depuis le gestionnaire de paquet Julia (version stable):"
   ]
  },
  {
   "cell_type": "code",
   "execution_count": null,
   "metadata": {},
   "outputs": [],
   "source": [
    "# using Pkg; Pkg.add(\"MaxPlus\")"
   ]
  },
  {
   "cell_type": "markdown",
   "metadata": {},
   "source": [
    "## Utiliser Max-Plus depuis un document Jupyter\n",
    "\n",
    "Une fois le paquet Julia Max-Plus installé depuis le REPL Julia, lancez un notebook Jupyter et ouvrez cette page ci via les commandes REPL suivantes :"
   ]
  },
  {
   "cell_type": "code",
   "execution_count": null,
   "metadata": {},
   "outputs": [],
   "source": [
    "# using IJulia\n",
    "# notebook()"
   ]
  },
  {
   "cell_type": "markdown",
   "metadata": {},
   "source": [
    "Depuis ce document Jupyter (celui que vous lisez), chargez la boîte à outil Max-Plus depuis le dossier MaxPlus.jl :"
   ]
  },
  {
   "cell_type": "code",
   "execution_count": 2,
   "metadata": {},
   "outputs": [
    {
     "name": "stderr",
     "output_type": "stream",
     "text": [
      "┌ Info: Precompiling MaxPlus [41177cfe-c387-11e9-2806-edd030e4594e]\n",
      "└ @ Base loading.jl:1317\n"
     ]
    }
   ],
   "source": [
    "push!(LOAD_PATH, pwd())\n",
    "using MaxPlus"
   ]
  },
  {
   "cell_type": "markdown",
   "metadata": {},
   "source": [
    "Pour le moment et dans un soucis pédagogique on active un mode d'affichage particulier des nombres Max-Plus. L'explication sera donnée plus tard."
   ]
  },
  {
   "cell_type": "code",
   "execution_count": 3,
   "metadata": {},
   "outputs": [],
   "source": [
    "# Force l'affichage des nombres Max-Plus pour afficher les -infini\n",
    "mp_change_display(0);"
   ]
  },
  {
   "cell_type": "markdown",
   "metadata": {},
   "source": [
    "Sur Jupyter le mode $\\LaTeX$ semble être forcé, hors cette boîte à outils permet d'afficher les matrices Max-Plus en code $\\LaTeX$ ce qu'on ne veut pas ! On force donc l'affichage en texte plein."
   ]
  },
  {
   "cell_type": "code",
   "execution_count": 4,
   "metadata": {},
   "outputs": [],
   "source": [
    "Base.show(io::IO, ::MIME\"text/latex\", x::MP{T}) where T = show(io, MIME\"text/plain\", x)\n",
    "Base.show(io::IO, ::MIME\"text/latex\", A::ArrMP{T}) where T = show(io, MIME\"text/plain\", A)\n",
    "Base.show(io::IO, ::MIME\"text/latex\", S::SpaMP{T}) where T = show(io, MIME\"text/plain\", S)"
   ]
  },
  {
   "cell_type": "markdown",
   "metadata": {},
   "source": [
    "## Les types Max-Plus pour Julia\n",
    "\n",
    "Avant de présenter l'algèbre Max-Plus, créons quelques nombres scalaires Max-Plus sous Julia. Par exemple, on écrira :"
   ]
  },
  {
   "cell_type": "code",
   "execution_count": 5,
   "metadata": {},
   "outputs": [
    {
     "data": {
      "text/plain": [
       "(MP{Float64}, MP{Float64}, MP{Int64})"
      ]
     },
     "execution_count": 5,
     "metadata": {},
     "output_type": "execute_result"
    }
   ],
   "source": [
    "a = MP(1.0)\n",
    "b = MP(3.0)\n",
    "c = MP(5)\n",
    "typeof(a), typeof(b), typeof(c)"
   ]
  },
  {
   "cell_type": "markdown",
   "metadata": {},
   "source": [
    "Les nombres max+ sont en fait templatés (Float ou Int) mais Julia déduit directement leur type. On peut éventuellement forcer leur type : "
   ]
  },
  {
   "cell_type": "code",
   "execution_count": 6,
   "metadata": {},
   "outputs": [
    {
     "data": {
      "text/plain": [
       "(42.0, MP{Float64})"
      ]
     },
     "execution_count": 6,
     "metadata": {},
     "output_type": "execute_result"
    }
   ],
   "source": [
    "a = MP{Float64}(42)\n",
    "a, typeof(a)"
   ]
  },
  {
   "cell_type": "markdown",
   "metadata": {},
   "source": [
    "Même idée pour les entiers (bien que les entiers soient moins recommandés) :"
   ]
  },
  {
   "cell_type": "code",
   "execution_count": 7,
   "metadata": {},
   "outputs": [
    {
     "data": {
      "text/plain": [
       "(3, MP{Int64})"
      ]
     },
     "execution_count": 7,
     "metadata": {},
     "output_type": "execute_result"
    }
   ],
   "source": [
    "b = MP{Int64}(3)\n",
    "b, typeof(b)"
   ]
  },
  {
   "cell_type": "markdown",
   "metadata": {},
   "source": [
    "Les nombres max+ contaminent sur les autres nombres (entiers, réels) : ils convertissent un nombre non max+ en nombre max+ via les opérateurs arithmétiques où opérateurs de promotion implicites :"
   ]
  },
  {
   "cell_type": "code",
   "execution_count": 8,
   "metadata": {},
   "outputs": [
    {
     "data": {
      "text/plain": [
       "(MP{Int64}, Float64, MP{Float64})"
      ]
     },
     "execution_count": 8,
     "metadata": {},
     "output_type": "execute_result"
    }
   ],
   "source": [
    "d = 1.0\n",
    "typeof(c), typeof(d), typeof(c + d)"
   ]
  },
  {
   "cell_type": "markdown",
   "metadata": {},
   "source": [
    "Nous voyons que l'addition Max-Plus à transformé la variable `c` de type MP{Int64} en type MP{Float64}. Même idée pour les nombres entiers :"
   ]
  },
  {
   "cell_type": "code",
   "execution_count": 9,
   "metadata": {},
   "outputs": [
    {
     "data": {
      "text/plain": [
       "(MP{Int64}, Int64, MP{Int64})"
      ]
     },
     "execution_count": 9,
     "metadata": {},
     "output_type": "execute_result"
    }
   ],
   "source": [
    "f = 1\n",
    "typeof(c), typeof(f), typeof(c + f)"
   ]
  },
  {
   "cell_type": "markdown",
   "metadata": {},
   "source": [
    "La contamination fonctionne également sur les matrices denses et creuses :"
   ]
  },
  {
   "cell_type": "code",
   "execution_count": 10,
   "metadata": {},
   "outputs": [
    {
     "data": {
      "text/plain": [
       "2×2 Matrix{MP{Float64}}:\n",
       "  1.0   2.0\n",
       "  3.0   4.0\n"
      ]
     },
     "execution_count": 10,
     "metadata": {},
     "output_type": "execute_result"
    }
   ],
   "source": [
    "[MP(1.0) 2; 3 4]"
   ]
  },
  {
   "cell_type": "markdown",
   "metadata": {},
   "source": [
    "MP(1.0) de type MP{Float64} a contaminé les nombres entiers *classiques* 2 3 et 4 en MP{Float64}.\n",
    "\n",
    "Voici une autre façon de le faire :"
   ]
  },
  {
   "cell_type": "code",
   "execution_count": 11,
   "metadata": {},
   "outputs": [
    {
     "data": {
      "text/plain": [
       "2×2 Matrix{MP{Float64}}:\n",
       "  1.0   2.0\n",
       "  3.0   4.0\n"
      ]
     },
     "execution_count": 11,
     "metadata": {},
     "output_type": "execute_result"
    }
   ],
   "source": [
    "MP([1.0 2; 3 4])"
   ]
  },
  {
   "cell_type": "code",
   "execution_count": 17,
   "metadata": {},
   "outputs": [
    {
     "data": {
      "text/plain": [
       "2×2 SparseMatrixCSC{MP{Float64}, Int64} with 4 stored entries:\n",
       "  1   2\n",
       "  3   4\n"
      ]
     },
     "execution_count": 17,
     "metadata": {},
     "output_type": "execute_result"
    }
   ],
   "source": [
    "mpsparse([1.0 2; 3 4])"
   ]
  },
  {
   "cell_type": "markdown",
   "metadata": {},
   "source": [
    "Voici un autre exemple plus complexe de matrice contenant des nombres infinis $-\\infty$ (qui sont du type MP{Float}):"
   ]
  },
  {
   "cell_type": "code",
   "execution_count": 12,
   "metadata": {},
   "outputs": [
    {
     "data": {
      "text/plain": [
       "2×2 Matrix{MP{Float64}}:\n",
       "  -Inf    0.0\n",
       "   0.0   -Inf\n"
      ]
     },
     "execution_count": 12,
     "metadata": {},
     "output_type": "execute_result"
    }
   ],
   "source": [
    "I = MP([-Inf 0; 0 -Inf])"
   ]
  },
  {
   "cell_type": "code",
   "execution_count": 18,
   "metadata": {},
   "outputs": [
    {
     "data": {
      "text/plain": [
       "2×2 SparseMatrixCSC{MP{Float64}, Int64} with 2 stored entries:\n",
       "  .   .\n",
       "  .   .\n"
      ]
     },
     "execution_count": 18,
     "metadata": {},
     "output_type": "execute_result"
    }
   ],
   "source": [
    "# FIXME\n",
    "J = mpsparse([-Inf 0; 0 -Inf])\n",
    "J.nzval"
   ]
  },
  {
   "cell_type": "markdown",
   "metadata": {},
   "source": [
    "Si l'on désire convertir un nombre Max-Plus en un nombre ordinaire (au sens algèbre classique, celle que l'on utilise tous les jours) :"
   ]
  },
  {
   "cell_type": "code",
   "execution_count": 13,
   "metadata": {},
   "outputs": [
    {
     "data": {
      "text/plain": [
       "(MP{Float64}, Int64, MP{Float64}, Float64)"
      ]
     },
     "execution_count": 13,
     "metadata": {},
     "output_type": "execute_result"
    }
   ],
   "source": [
    "b = plustimes(a)\n",
    "typeof(a), typeof(f), typeof(MP(b)), typeof(plustimes(MP(b)))"
   ]
  },
  {
   "cell_type": "markdown",
   "metadata": {},
   "source": [
    "Nous voyons que la variable `a` étant du type MP{Float64}, `b` est devenu de type Float64. Elle se comportera désormais comme un nombre de l'algèbre classique."
   ]
  },
  {
   "cell_type": "code",
   "execution_count": 14,
   "metadata": {},
   "outputs": [
    {
     "data": {
      "text/plain": [
       "2×2 Matrix{MP{Float64}}:\n",
       "  1.0   42.0\n",
       "  2.0   42.0\n"
      ]
     },
     "execution_count": 14,
     "metadata": {},
     "output_type": "execute_result"
    }
   ],
   "source": [
    "[f       a\n",
    " f + f   a + a]"
   ]
  },
  {
   "cell_type": "markdown",
   "metadata": {},
   "source": [
    "Vu que `a` est de MP{Float64} il contamine `e` et la matrice est du type MP{Float64}."
   ]
  },
  {
   "cell_type": "markdown",
   "metadata": {},
   "source": [
    "On peut vouloir convertir les nombres Max-Plus en nombre de l'algèbre Min-Plus (où les signes des $-\\infty$ sont inversés) bien que le type soit toujours du type Max-Plus :"
   ]
  },
  {
   "cell_type": "code",
   "execution_count": 15,
   "metadata": {},
   "outputs": [
    {
     "data": {
      "text/plain": [
       "(Inf, MP{Float64})"
      ]
     },
     "execution_count": 15,
     "metadata": {},
     "output_type": "execute_result"
    }
   ],
   "source": [
    "p = minplus(MP(-Inf))\n",
    "p, typeof(p)"
   ]
  },
  {
   "cell_type": "markdown",
   "metadata": {},
   "source": [
    "## Les constantes Max-Plus pour Julia\n",
    "\n",
    "Certaines constantes (éléments neutres et absorbants que l'on verra plus tard) Max-Plus sont prédéfinies :\n",
    "- mp0 pour $-\\infty$ (que l'on note en général $\\varepsilon$ ou parfois $\\mathbb{0}$),\n",
    "- mp1 pour 0 (que l'on note en général $e$ ou parfois $\\mathbb{1}$),\n",
    "- mptop pour $+\\infty$ (utilisé pour l'algèbre Min-Plus)."
   ]
  },
  {
   "cell_type": "code",
   "execution_count": null,
   "metadata": {},
   "outputs": [],
   "source": [
    "mp0, ϵ, mp1, mptop, mpzero(), mpone(), mptop"
   ]
  },
  {
   "cell_type": "markdown",
   "metadata": {},
   "source": [
    "Le template peuvent être ajouté :"
   ]
  },
  {
   "cell_type": "code",
   "execution_count": null,
   "metadata": {},
   "outputs": [],
   "source": [
    "mpzero(Int64), mpone(Int64), mpzero(Float64), mpone(Float64)"
   ]
  },
  {
   "cell_type": "markdown",
   "metadata": {},
   "source": [
    "Mais attention mp0, mp1, $\\epsilon$, `e` et mptop sont prédéfinis avec le type MP{Float}."
   ]
  },
  {
   "cell_type": "markdown",
   "metadata": {},
   "source": [
    "## Affichage des nombres Max-Plus\n",
    "\n",
    "Il y a 4 styles possibles d'affichage des nombres Max-Plus que l'on peut contrôler avec la fonction `mp_change_display`, le mode $1$ étant celui défini par défaut :\n",
    "- Style 0: les nombres $-\\infty$ et les $0$ sont affichés tel quel.\n",
    "- Style 1 ou 2: les nombres $-\\infty$ sont affiché sous la forme d'un point.\n",
    "- Style 3 ou 4: les nombres $-\\infty$ sont affichés sous la forme $\\varepsilon$.\n",
    "- Style 1 ou 3: les zéros sont affichés $0$.\n",
    "- Style 2 ou 4: les zéros sont affichés $e$.\n",
    "\n",
    "Notons que les nombres réels qui peuvent être écrits comme des entiers seront affichés comme des entiers et que le style par défaut est le $1$ car il correspond à l'affichage de ScicosLab car ils permettent d'afficher les matrices creuses de façon compacte. En effet, il est commun en Max-Plus de devoir manipuler et afficher de grosses matrices creuses."
   ]
  },
  {
   "cell_type": "code",
   "execution_count": null,
   "metadata": {},
   "outputs": [],
   "source": [
    "mp_change_display(0)\n",
    "I = MP([-Inf 0; 0 -Inf])"
   ]
  },
  {
   "cell_type": "code",
   "execution_count": null,
   "metadata": {},
   "outputs": [],
   "source": [
    "mp_change_display(2)\n",
    "I"
   ]
  },
  {
   "cell_type": "code",
   "execution_count": null,
   "metadata": {},
   "outputs": [],
   "source": [
    "mp_change_display(3)\n",
    "I"
   ]
  },
  {
   "cell_type": "code",
   "execution_count": null,
   "metadata": {},
   "outputs": [],
   "source": [
    "mp_change_display(4)\n",
    "I"
   ]
  },
  {
   "cell_type": "code",
   "execution_count": null,
   "metadata": {},
   "outputs": [],
   "source": [
    "# Le mode par défaut :\n",
    "mp_change_display(1)\n",
    "I"
   ]
  },
  {
   "cell_type": "markdown",
   "metadata": {},
   "source": [
    "A partir d'une matrice Max-Plus, on peut générer le code $\\LaTeX$ grâce à la fonction `LaTeX` ou via la fonction `show` avec l'argument `MIME\"text/latex\"`. La fonction `mp_change_display` modifie en conséquence le code LaTeX généré."
   ]
  },
  {
   "cell_type": "code",
   "execution_count": null,
   "metadata": {
    "scrolled": false
   },
   "outputs": [],
   "source": [
    "mp_change_display(0)\n",
    "LaTeX(stdout, I)"
   ]
  },
  {
   "cell_type": "markdown",
   "metadata": {},
   "source": [
    "Une fois ce code $\\LaTeX$ compilé, il affichera :\n",
    "\n",
    "$$\\left[\n",
    "\\begin{array}{*{20}c}\n",
    "-\\infty & 0 \\\\\n",
    "0 & -\\infty \\\\\n",
    "\\end{array}\n",
    "\\right]$$\n",
    "\n",
    "Alors que :"
   ]
  },
  {
   "cell_type": "code",
   "execution_count": null,
   "metadata": {},
   "outputs": [],
   "source": [
    "mp_change_display(2)\n",
    "LaTeX(stdout, I)"
   ]
  },
  {
   "cell_type": "markdown",
   "metadata": {},
   "source": [
    "Une fois ce code $\\LaTeX$ compilé, il affichera :\n",
    "\n",
    "$$\\left[\n",
    "\\begin{array}{*{20}c}\n",
    "\\varepsilon & e \\\\\n",
    "e & \\varepsilon \\\\\n",
    "\\end{array}\n",
    "\\right]$$"
   ]
  },
  {
   "cell_type": "markdown",
   "metadata": {},
   "source": [
    "## Opérateur Max-Plus $\\oplus$\n",
    "\n",
    "L'opérateur addition redéfini par l'opérateur max() de l'algèbre classique. Son symbole, pour le différencier de l'addition dans l'algèbre classique, est $\\oplus$. Mais en Julia on gardera le symbole `+`. Cet opérateur est associatif, commutatif, a un élément neutre (noté $\\varepsilon$) et est idempotent.\n",
    "\n",
    "$$a \\oplus b \\triangleq \\max(a,b)$$"
   ]
  },
  {
   "cell_type": "code",
   "execution_count": null,
   "metadata": {},
   "outputs": [],
   "source": [
    "mp_change_display(1);\n",
    "a = MP(1.0); b = MP(3.0); c = MP(5.0);\n",
    "(a, b, c)"
   ]
  },
  {
   "cell_type": "code",
   "execution_count": null,
   "metadata": {},
   "outputs": [],
   "source": [
    "a + b    # ≜ max(a, b) == max(1, 3) == 3"
   ]
  },
  {
   "cell_type": "markdown",
   "metadata": {},
   "source": [
    "#### Commutativité de $\\oplus$\n",
    "\n",
    "$$a \\oplus b = b \\oplus a$$\n",
    "$$\\triangleq$$\n",
    "$$\\max(a,b) = \\max(b,a)$$"
   ]
  },
  {
   "cell_type": "code",
   "execution_count": null,
   "metadata": {},
   "outputs": [],
   "source": [
    "a + b == b + a"
   ]
  },
  {
   "cell_type": "markdown",
   "metadata": {},
   "source": [
    "#### Associativité de $\\oplus$\n",
    "\n",
    "$$a \\oplus b \\oplus c = (a \\oplus b) \\oplus c = a \\oplus (b \\oplus c)$$"
   ]
  },
  {
   "cell_type": "code",
   "execution_count": null,
   "metadata": {},
   "outputs": [],
   "source": [
    "a + b + c == (a + b) + c == a + (b + c)"
   ]
  },
  {
   "cell_type": "code",
   "execution_count": null,
   "metadata": {},
   "outputs": [],
   "source": [
    "a + b + c # ≜ max(a, b, c) == max(1, 3, 5)"
   ]
  },
  {
   "cell_type": "markdown",
   "metadata": {},
   "source": [
    "#### Elément neutre $\\varepsilon$ pour $\\oplus$\n",
    "\n",
    "$$a \\oplus \\varepsilon = \\varepsilon \\oplus a = a$$\n",
    "$$\\triangleq$$\n",
    "$$\\max(a,-\\infty) = \\max(-\\infty,a) = a$$"
   ]
  },
  {
   "cell_type": "code",
   "execution_count": null,
   "metadata": {},
   "outputs": [],
   "source": [
    "a + mp0 == mp0 + a == a"
   ]
  },
  {
   "cell_type": "code",
   "execution_count": null,
   "metadata": {},
   "outputs": [],
   "source": [
    "a + ϵ == ϵ + a == a"
   ]
  },
  {
   "cell_type": "code",
   "execution_count": null,
   "metadata": {},
   "outputs": [],
   "source": [
    "(a, mp0, ϵ), (a + mp0, a + ϵ), (mp0 + a, ϵ + a)"
   ]
  },
  {
   "cell_type": "markdown",
   "metadata": {},
   "source": [
    "Notons que 0 est neutre pour les nombres positifs :"
   ]
  },
  {
   "cell_type": "code",
   "execution_count": null,
   "metadata": {},
   "outputs": [],
   "source": [
    "a + 0 == 0 + a == a"
   ]
  },
  {
   "cell_type": "code",
   "execution_count": null,
   "metadata": {},
   "outputs": [],
   "source": [
    "a, 0, a + 0"
   ]
  },
  {
   "cell_type": "markdown",
   "metadata": {},
   "source": [
    "#### Elément absorbant $\\infty$ pour $\\oplus$\n",
    "\n",
    "$$a \\oplus \\infty = \\infty \\oplus a$$\n",
    "$$\\triangleq$$\n",
    "$$\\max(a,\\infty) = \\max(\\infty,a) = \\infty$$"
   ]
  },
  {
   "cell_type": "code",
   "execution_count": null,
   "metadata": {},
   "outputs": [],
   "source": [
    "a + mptop == mptop + a == mptop"
   ]
  },
  {
   "cell_type": "code",
   "execution_count": null,
   "metadata": {},
   "outputs": [],
   "source": [
    "a, mptop, a + mptop"
   ]
  },
  {
   "cell_type": "markdown",
   "metadata": {},
   "source": [
    "#### $\\oplus$ est idempotent"
   ]
  },
  {
   "cell_type": "code",
   "execution_count": null,
   "metadata": {},
   "outputs": [],
   "source": [
    "a + a    # ≜ max(a, a) == max(1, 1) == 1"
   ]
  },
  {
   "cell_type": "markdown",
   "metadata": {},
   "source": [
    "## Opérateur Max-Plus $\\otimes$\n",
    "\n",
    "L'opérateur multiplication est redéfini par l'opérateur addition qui est associatif, commutatif, a l'élément neutre $e$, l'élément absorbant $\\varepsilon$ et est distributif sur $\\oplus$."
   ]
  },
  {
   "cell_type": "code",
   "execution_count": null,
   "metadata": {},
   "outputs": [],
   "source": [
    "a * b    # ≜ a + b == 1 + 3 == 4"
   ]
  },
  {
   "cell_type": "markdown",
   "metadata": {},
   "source": [
    "#### Commutativité de $\\otimes$\n",
    "\n",
    "$$a \\otimes b = b \\otimes a$$\n",
    "$$\\triangleq$$\n",
    "$$a + b = b + a$$"
   ]
  },
  {
   "cell_type": "code",
   "execution_count": null,
   "metadata": {},
   "outputs": [],
   "source": [
    "a * b == b * a"
   ]
  },
  {
   "cell_type": "markdown",
   "metadata": {},
   "source": [
    "#### Associativité de $\\otimes$\n",
    "\n",
    "$$a \\otimes b \\otimes c = (a \\otimes b) \\otimes c = a \\otimes (b \\otimes c)$$"
   ]
  },
  {
   "cell_type": "code",
   "execution_count": null,
   "metadata": {},
   "outputs": [],
   "source": [
    "a * b * c == (a * b) * c == a * (b * c)"
   ]
  },
  {
   "cell_type": "code",
   "execution_count": null,
   "metadata": {},
   "outputs": [],
   "source": [
    "a * b * c"
   ]
  },
  {
   "cell_type": "markdown",
   "metadata": {},
   "source": [
    "#### Elément neutre $e$ pour $\\otimes$\n",
    "\n",
    "$$a \\otimes e = e \\otimes a = a$$\n",
    "$$\\triangleq$$\n",
    "$$a + 0 = 0 + a = a$$"
   ]
  },
  {
   "cell_type": "code",
   "execution_count": null,
   "metadata": {},
   "outputs": [],
   "source": [
    "a * mp1 == mp1 * a == a"
   ]
  },
  {
   "cell_type": "code",
   "execution_count": null,
   "metadata": {},
   "outputs": [],
   "source": [
    "a * e == e * a == a"
   ]
  },
  {
   "cell_type": "markdown",
   "metadata": {},
   "source": [
    "#### Elément absorbant $\\varepsilon$ pour $\\otimes$\n",
    "\n",
    "$$a \\otimes \\varepsilon = \\varepsilon \\otimes a = \\varepsilon$$\n",
    "$$\\triangleq$$\n",
    "$$a -\\infty = -\\infty + a = -\\infty$$"
   ]
  },
  {
   "cell_type": "code",
   "execution_count": null,
   "metadata": {},
   "outputs": [],
   "source": [
    "a * mp0 == mp0 * a == mp0"
   ]
  },
  {
   "cell_type": "code",
   "execution_count": null,
   "metadata": {},
   "outputs": [],
   "source": [
    "a * ϵ == ϵ * a == ϵ"
   ]
  },
  {
   "cell_type": "markdown",
   "metadata": {},
   "source": [
    "Par convention:\n",
    "\n",
    "$$\\infty \\otimes \\varepsilon = \\varepsilon \\otimes \\infty = \\varepsilon$$"
   ]
  },
  {
   "cell_type": "code",
   "execution_count": null,
   "metadata": {},
   "outputs": [],
   "source": [
    "# mptop * mp0 # FIXME shall return mp0"
   ]
  },
  {
   "cell_type": "markdown",
   "metadata": {},
   "source": [
    "**FIXME** Help wanted"
   ]
  },
  {
   "cell_type": "markdown",
   "metadata": {},
   "source": [
    "#### $\\otimes$ n'est pas idempotent"
   ]
  },
  {
   "cell_type": "code",
   "execution_count": null,
   "metadata": {},
   "outputs": [],
   "source": [
    "a * a    # ≜ a + a == 1 + 1 == 2"
   ]
  },
  {
   "cell_type": "markdown",
   "metadata": {},
   "source": [
    "---\n",
    "### Distributivité de $\\otimes$ sur $\\oplus$\n",
    "\n",
    "$$a \\otimes (b \\oplus c) = (a \\otimes b) \\oplus (a \\otimes c)$$\n",
    "$$(b \\oplus c) \\otimes a = (b \\otimes a) \\oplus (c \\otimes a)$$\n",
    "\n",
    "$$a \\oplus b \\otimes c = a + \\max(a, b)$$\n",
    "$$a \\otimes c \\oplus b \\otimes c = \\max(a+c,b+c)$$"
   ]
  },
  {
   "cell_type": "code",
   "execution_count": null,
   "metadata": {},
   "outputs": [],
   "source": [
    "(a + b) * c == (a * c) + (b * c)     # => max(a, b) + c == max(a + c, b + c) "
   ]
  },
  {
   "cell_type": "code",
   "execution_count": null,
   "metadata": {},
   "outputs": [],
   "source": [
    "(a * c) + (b * c)"
   ]
  },
  {
   "cell_type": "markdown",
   "metadata": {},
   "source": [
    "## TODO"
   ]
  },
  {
   "cell_type": "code",
   "execution_count": 27,
   "metadata": {},
   "outputs": [
    {
     "data": {
      "text/plain": [
       "2×2 Matrix{MP{Float64}}:\n",
       "  1.0   2.0\n",
       "  3.0   4.0\n"
      ]
     },
     "execution_count": 27,
     "metadata": {},
     "output_type": "execute_result"
    }
   ],
   "source": [
    "Q = MP([1.0 2; 3 4])"
   ]
  },
  {
   "cell_type": "code",
   "execution_count": 28,
   "metadata": {},
   "outputs": [
    {
     "data": {
      "text/plain": [
       "2×2 Matrix{MP{Float64}}:\n",
       "  2.0   2.0\n",
       "  3.0   4.0\n"
      ]
     },
     "execution_count": 28,
     "metadata": {},
     "output_type": "execute_result"
    }
   ],
   "source": [
    "Q .+ 2.0"
   ]
  },
  {
   "cell_type": "code",
   "execution_count": 26,
   "metadata": {},
   "outputs": [
    {
     "data": {
      "text/plain": [
       "2×2 Matrix{MP{Float64}}:\n",
       "  3.0   4.0\n",
       "  5.0   6.0\n"
      ]
     },
     "execution_count": 26,
     "metadata": {},
     "output_type": "execute_result"
    }
   ],
   "source": [
    "Q .* 2.0"
   ]
  },
  {
   "cell_type": "markdown",
   "metadata": {},
   "source": [
    "## Produit matriciel\n",
    "\n",
    "Les matrices peuvent être de type Max-Plus. Le produit matriciel correspond au produit matriciel avec les opérateurs $+$ et $\\times$ surchargés.\n",
    "\n",
    "$$A=\\begin{bmatrix}\n",
    "4 & 3 \\\\\n",
    "7 & -\\infty\n",
    "\\end{bmatrix}\\;,$$\n",
    "\n",
    "$$A \\otimes A = \\begin{bmatrix}\n",
    "4 \\otimes 4 \\oplus 3 \\otimes7 & 4 \\otimes 3 \\oplus 3 \\otimes -\\infty \\\\\n",
    "7 \\otimes 4 \\oplus -\\infty \\otimes 7 & 7 \\otimes 3 \\oplus -\\infty \\otimes -\\infty\n",
    "\\end{bmatrix}\\; = \\begin{bmatrix}\n",
    "10 & 7 \\\\\n",
    "11 & 10\n",
    "\\end{bmatrix}\\; = A^2.$$"
   ]
  },
  {
   "cell_type": "code",
   "execution_count": 21,
   "metadata": {},
   "outputs": [
    {
     "data": {
      "text/plain": [
       "2×2 Matrix{MP{Float64}}:\n",
       "  10.0    7.0\n",
       "  11.0   10.0\n"
      ]
     },
     "execution_count": 21,
     "metadata": {},
     "output_type": "execute_result"
    }
   ],
   "source": [
    "A = MP([4 3; 7 -Inf])\n",
    "A * A"
   ]
  },
  {
   "cell_type": "code",
   "execution_count": 22,
   "metadata": {},
   "outputs": [
    {
     "data": {
      "text/plain": [
       "true"
      ]
     },
     "execution_count": 22,
     "metadata": {},
     "output_type": "execute_result"
    }
   ],
   "source": [
    "A * A == A^2"
   ]
  },
  {
   "cell_type": "markdown",
   "metadata": {},
   "source": [
    "Fonctionne égallement sur les matrices creuses :"
   ]
  },
  {
   "cell_type": "code",
   "execution_count": 23,
   "metadata": {},
   "outputs": [
    {
     "ename": "LoadError",
     "evalue": "UndefVarError: sparse not defined",
     "output_type": "error",
     "traceback": [
      "UndefVarError: sparse not defined",
      "",
      "Stacktrace:",
      " [1] top-level scope",
      "   @ In[23]:1",
      " [2] eval",
      "   @ ./boot.jl:360 [inlined]",
      " [3] include_string(mapexpr::typeof(REPL.softscope), mod::Module, code::String, filename::String)",
      "   @ Base ./loading.jl:1094"
     ]
    }
   ],
   "source": [
    "A * sparse(A) == sparse(A) * A == sparse(A) * sparse(A)"
   ]
  },
  {
   "cell_type": "markdown",
   "metadata": {},
   "source": [
    "En algèbre Max-Plus l'opérateur puissance se comporte comme une multiplication dans l'algèbre classique :"
   ]
  },
  {
   "cell_type": "code",
   "execution_count": null,
   "metadata": {},
   "outputs": [],
   "source": [
    "MP(2.0)^5   # ==> 2 * 5"
   ]
  },
  {
   "cell_type": "code",
   "execution_count": null,
   "metadata": {},
   "outputs": [],
   "source": [
    "MP(2.0)^0   # ==> 2 * 0"
   ]
  },
  {
   "cell_type": "markdown",
   "metadata": {},
   "source": [
    "S'applique également aux matrices :"
   ]
  },
  {
   "cell_type": "code",
   "execution_count": null,
   "metadata": {},
   "outputs": [],
   "source": [
    "A^5"
   ]
  },
  {
   "cell_type": "code",
   "execution_count": null,
   "metadata": {},
   "outputs": [],
   "source": [
    "A^0"
   ]
  },
  {
   "cell_type": "markdown",
   "metadata": {},
   "source": [
    "## Quelques matrice utiles\n",
    "\n",
    "### Matrice dense d'identité\n",
    "\n",
    "Taille 2 $\\times$ 2 :\n",
    "\n",
    "$$\\left[\n",
    "\\begin{array}{*{20}c}\n",
    "e & \\varepsilon \\\\\n",
    "\\varepsilon & e \\\\\n",
    "\\end{array}\n",
    "\\right]$$"
   ]
  },
  {
   "cell_type": "code",
   "execution_count": null,
   "metadata": {},
   "outputs": [],
   "source": [
    "I = mpeye(2,2) # Equivalent à : mpeye(Float64, 2,2)"
   ]
  },
  {
   "cell_type": "code",
   "execution_count": null,
   "metadata": {},
   "outputs": [],
   "source": [
    "I = mpeye(3) # Equivalent à : mpeye(3,3)"
   ]
  },
  {
   "cell_type": "markdown",
   "metadata": {},
   "source": [
    "Taille 3 $\\times$ 2 :"
   ]
  },
  {
   "cell_type": "code",
   "execution_count": null,
   "metadata": {},
   "outputs": [],
   "source": [
    "I = mpeye(3,2)"
   ]
  },
  {
   "cell_type": "markdown",
   "metadata": {},
   "source": [
    "### Matrices denses remplies uniquement de $e$ :\n",
    "\n",
    "$$\\left[\n",
    "\\begin{array}{*{20}c}\n",
    "e & e \\\\\n",
    "e & e \\\\\n",
    "\\end{array}\n",
    "\\right]$$"
   ]
  },
  {
   "cell_type": "code",
   "execution_count": null,
   "metadata": {},
   "outputs": [],
   "source": [
    "O = mpones(2,2) # Equivalent à : mpones(Float64, 2,2)"
   ]
  },
  {
   "cell_type": "code",
   "execution_count": null,
   "metadata": {},
   "outputs": [],
   "source": [
    "O = mpones(2,3)"
   ]
  },
  {
   "cell_type": "code",
   "execution_count": null,
   "metadata": {},
   "outputs": [],
   "source": [
    "O = mpones(2)"
   ]
  },
  {
   "cell_type": "markdown",
   "metadata": {},
   "source": [
    "### Matrices creuses remplies de $\\varepsilon$ :\n",
    "\n",
    "$$\\left[\n",
    "\\begin{array}{*{20}c}\n",
    "\\varepsilon & \\varepsilon \\\\\n",
    "\\varepsilon & \\varepsilon \\\\\n",
    "\\end{array}\n",
    "\\right]$$"
   ]
  },
  {
   "cell_type": "code",
   "execution_count": null,
   "metadata": {},
   "outputs": [],
   "source": [
    "Z = mpzeros(2,2) # Equivalent à mpzeros(Float64, 2,2)"
   ]
  },
  {
   "cell_type": "code",
   "execution_count": null,
   "metadata": {},
   "outputs": [],
   "source": [
    "Z = mpzeros(2,3)"
   ]
  },
  {
   "cell_type": "code",
   "execution_count": null,
   "metadata": {},
   "outputs": [],
   "source": [
    "Z = mpzeros(2)"
   ]
  },
  {
   "cell_type": "markdown",
   "metadata": {},
   "source": [
    "### Matrices denses remplies de $\\varepsilon$ :"
   ]
  },
  {
   "cell_type": "code",
   "execution_count": null,
   "metadata": {},
   "outputs": [],
   "source": [
    "Z = full(mpzeros(Float64, 2,2))"
   ]
  },
  {
   "cell_type": "markdown",
   "metadata": {},
   "source": [
    "**Note :** On notera la présence de la fonction full() (ou son alias dense()) pour convertir une matrice creuse en matrice pleine (dense)."
   ]
  },
  {
   "cell_type": "markdown",
   "metadata": {},
   "source": [
    "## Matrices creuses\n",
    "\n",
    "Une matrice creuse est une matrice contenant beaucoup de zéros. En algèbre classique les zéros sont 0 (pour les entiers) ou 0.0 (réels) mais en Max-Plus les zéros valent $-\\infty$. La structure interne des matrices creuses est conçu pour ne pas garder en mémoire ces zéros (sauf si demandé explicitement). Pour créer une matrice creuse en Julia il faut donner trois vecteurs : un vecteur pour garder les données non nulles et deux vecteurs pour mémoriser les index de ces données.\n",
    "\n",
    "Beaucoup d'exemples dans la nature peuvent être représenté par des matrices creuses plutôt que par des matrices pleines comme par exemple le réseau routier est un graphe où les routes sont les arcs et les carrefours sont les noeuds. Les graphes sont représentés en mémoire soit sous forme de liste d'ajacence soit sous forme de matrice. Comme en général un carrefour permet de rejoindre entre 2 à 4 routes et que par conséquent jamais il n'existera une ville où tous les carrefours seront lés les uns aux autres il est donc préférable d'utiliser une matrice creuse. Mais à cause des leur index, les algorithmes sur les matrices seront plus pénalisés en temps d'exécution que pour les matrices pleines.\n",
    "\n",
    "Pour la suite de ce document on aura besoin d'un paquet Julia de base supplémentaire :"
   ]
  },
  {
   "cell_type": "code",
   "execution_count": null,
   "metadata": {},
   "outputs": [],
   "source": [
    "using SparseArrays"
   ]
  },
  {
   "cell_type": "markdown",
   "metadata": {},
   "source": [
    "**Note: On préférera la version Julia > 1.3 qui corrige des bogues dans les matrices creuses. Les matrices creuses Max-Plus ne stockent pas les valeurs $-\\infty$ mais dans les versions précédentes de Julia les valeurs zéros étaient écrites sous la forme littérale $0$ au lieu de la fonction zero() entraînant des cas d'erreurs. Le paquet MaxPlus en corrige certains mais il n'est pas garanti qu'il les corrige tous ou n'entraine pas des nouveaux !**"
   ]
  },
  {
   "cell_type": "markdown",
   "metadata": {},
   "source": [
    "Création d'une matrice creuse de taille 2x2 Max-Plus vide :"
   ]
  },
  {
   "cell_type": "code",
   "execution_count": null,
   "metadata": {},
   "outputs": [],
   "source": [
    "Z = mpzeros(2,2) # ou son équivalent mpzeros(Float64, 2,2)"
   ]
  },
  {
   "cell_type": "markdown",
   "metadata": {},
   "source": [
    "Création d'une matrice creuse Max-Plus via des données non Max-Plus:"
   ]
  },
  {
   "cell_type": "code",
   "execution_count": null,
   "metadata": {},
   "outputs": [],
   "source": [
    "MP(sparse([1, 2, 3], [1, 2, 3], [5, 2, 6]))"
   ]
  },
  {
   "cell_type": "markdown",
   "metadata": {},
   "source": [
    "Création d'une matrice creuse Max-Plus avec des données Max-Plus :"
   ]
  },
  {
   "cell_type": "code",
   "execution_count": null,
   "metadata": {},
   "outputs": [],
   "source": [
    "sparse([1, 2, 3], [1, 2, 3], MP([5, 2, 6]))"
   ]
  },
  {
   "cell_type": "markdown",
   "metadata": {},
   "source": [
    "Julia autorise de créer des matrices stockant les éléments zéros qui ils sont explicitement donnés :"
   ]
  },
  {
   "cell_type": "code",
   "execution_count": null,
   "metadata": {},
   "outputs": [],
   "source": [
    "A = MP(sparse([1, 2, 3], [1, 2, 3], [-Inf, 2, 0]))"
   ]
  },
  {
   "cell_type": "markdown",
   "metadata": {},
   "source": [
    "Ici le -Inf n'est pas affiché mais il est bien stocké (3 stored entries)."
   ]
  },
  {
   "cell_type": "code",
   "execution_count": null,
   "metadata": {},
   "outputs": [],
   "source": [
    "mp_change_display(0);\n",
    "A.nzval      # nzval = Non-Zero values"
   ]
  },
  {
   "cell_type": "markdown",
   "metadata": {},
   "source": [
    "Mais il n'est pas utilisé. Par exemple :"
   ]
  },
  {
   "cell_type": "code",
   "execution_count": null,
   "metadata": {},
   "outputs": [],
   "source": [
    "B = MP(sparse([2, 3], [2, 3], [2.0, 0]))"
   ]
  },
  {
   "cell_type": "code",
   "execution_count": null,
   "metadata": {},
   "outputs": [],
   "source": [
    "B.nzval"
   ]
  },
  {
   "cell_type": "code",
   "execution_count": null,
   "metadata": {},
   "outputs": [],
   "source": [
    "A == B"
   ]
  },
  {
   "cell_type": "markdown",
   "metadata": {},
   "source": [
    "Le $-\\infty$ n'est pas testé. Si l'on ne désire pas stocker les $\\epsilon$ on peut ajouter le paramètre `preserve=false` :"
   ]
  },
  {
   "cell_type": "code",
   "execution_count": null,
   "metadata": {},
   "outputs": [],
   "source": [
    "C = MP(sparse([1, 2, 3], [1, 2, 3], [-Inf, 2, 0]), keepzeros=false)"
   ]
  },
  {
   "cell_type": "code",
   "execution_count": null,
   "metadata": {},
   "outputs": [],
   "source": [
    "C.nzval"
   ]
  },
  {
   "cell_type": "code",
   "execution_count": null,
   "metadata": {},
   "outputs": [],
   "source": [
    "A == B == C"
   ]
  },
  {
   "cell_type": "markdown",
   "metadata": {},
   "source": [
    "### Conversion d'une matrice creuse en matrice pleine :\n",
    "\n",
    "Les trois fonctions produisent le même résultat :"
   ]
  },
  {
   "cell_type": "code",
   "execution_count": null,
   "metadata": {},
   "outputs": [],
   "source": [
    "full(Z), dense(Z), Array(Z)"
   ]
  },
  {
   "cell_type": "code",
   "execution_count": null,
   "metadata": {},
   "outputs": [],
   "source": [
    "full(Z)"
   ]
  },
  {
   "cell_type": "markdown",
   "metadata": {},
   "source": [
    "On remarquera que cette matrice contient que des $-\\infty$. En effet, ils correspondent aux 0 éliminés des matrices creuses en algèbre classique. Une matrice creuse Max-Plus ne stocke pas les nombres Max-Plus $-\\infty$ (**note:** enfin jusqu'à Julia > 1.3 car les versions précédentes avaient un bogue elles confondaient 0 et zero(T) avec T template de type MP). \n",
    "\n",
    "Conversion d'une matrice creuse Max-Plus à partir d'une matrice pleine en algèbre classique :"
   ]
  },
  {
   "cell_type": "code",
   "execution_count": null,
   "metadata": {},
   "outputs": [],
   "source": [
    "A = [4.0 0; 7 5]"
   ]
  },
  {
   "cell_type": "code",
   "execution_count": null,
   "metadata": {},
   "outputs": [],
   "source": [
    "B = mpsparse(A)"
   ]
  },
  {
   "cell_type": "markdown",
   "metadata": {},
   "source": [
    "On remarquera que le $-\\infty$ a disparu. Si on voulait le garder : **FIXME**"
   ]
  },
  {
   "cell_type": "code",
   "execution_count": null,
   "metadata": {},
   "outputs": [],
   "source": [
    "mpsparse([4 0; 7 -Inf])"
   ]
  },
  {
   "cell_type": "code",
   "execution_count": null,
   "metadata": {},
   "outputs": [],
   "source": [
    "C = sparse(MP(A))"
   ]
  },
  {
   "cell_type": "code",
   "execution_count": null,
   "metadata": {},
   "outputs": [],
   "source": [
    "B.nzval, C.nzval"
   ]
  },
  {
   "cell_type": "markdown",
   "metadata": {},
   "source": [
    "## Conversion de matrices Max-Plus\n",
    "\n",
    "### Max-Plus vers Min-Plus\n",
    "\n",
    "On peut vouloir convertir les valeurs pour l'algèbre Min-Plus (les signes des $-\\infty$ sont inversés) pour les scalaires, matrices creuses et pleines :"
   ]
  },
  {
   "cell_type": "code",
   "execution_count": null,
   "metadata": {},
   "outputs": [],
   "source": [
    "# Scalaires :\n",
    "mp0, minplus(mp0)"
   ]
  },
  {
   "cell_type": "code",
   "execution_count": null,
   "metadata": {},
   "outputs": [],
   "source": [
    "# Matrices creuses :\n",
    "Z, minplus(Z)"
   ]
  },
  {
   "cell_type": "code",
   "execution_count": null,
   "metadata": {},
   "outputs": [],
   "source": [
    "# Matrices pleines :\n",
    "A = MP([4 0; 7 -Inf])\n",
    "MP(A), minplus(MP(A))"
   ]
  },
  {
   "cell_type": "markdown",
   "metadata": {},
   "source": [
    "### Max-Plus vers algèbre classique\n",
    "\n",
    "On peut vouloir convertir une matrice Max-Plus en valeurs non Max-Plus :"
   ]
  },
  {
   "cell_type": "code",
   "execution_count": null,
   "metadata": {},
   "outputs": [],
   "source": [
    "# Scalaires :\n",
    "typeof(mp0), typeof(plustimes(mp0))"
   ]
  },
  {
   "cell_type": "code",
   "execution_count": null,
   "metadata": {},
   "outputs": [],
   "source": [
    "plustimes(Z)"
   ]
  },
  {
   "cell_type": "code",
   "execution_count": null,
   "metadata": {},
   "outputs": [],
   "source": [
    "plustimes(MP(A))"
   ]
  },
  {
   "cell_type": "markdown",
   "metadata": {},
   "source": [
    "## Calcul sur les matrices\n",
    "### Trace d'une matrice\n",
    "\n",
    "La trace est la somme Max-Plus des éléments diagonaux."
   ]
  },
  {
   "cell_type": "code",
   "execution_count": null,
   "metadata": {},
   "outputs": [],
   "source": [
    "mptrace(A)"
   ]
  },
  {
   "cell_type": "code",
   "execution_count": null,
   "metadata": {},
   "outputs": [],
   "source": [
    "mptrace(A) == A[1,1] + A[2,2]"
   ]
  },
  {
   "cell_type": "markdown",
   "metadata": {},
   "source": [
    "### Norme d'une matrice"
   ]
  },
  {
   "cell_type": "code",
   "execution_count": null,
   "metadata": {},
   "outputs": [],
   "source": [
    "mpnorm(mpeye(Float64, 2,2))"
   ]
  },
  {
   "cell_type": "markdown",
   "metadata": {},
   "source": [
    "### Valeurs propres d'une matrice"
   ]
  },
  {
   "cell_type": "code",
   "execution_count": null,
   "metadata": {},
   "outputs": [],
   "source": [
    "A = mpsparse([1.0 2; 3 4])\n",
    "l,v = howard(A)"
   ]
  },
  {
   "cell_type": "code",
   "execution_count": null,
   "metadata": {},
   "outputs": [],
   "source": [
    "A"
   ]
  },
  {
   "cell_type": "code",
   "execution_count": null,
   "metadata": {},
   "outputs": [],
   "source": [
    "full(A)*v == l[1]*v"
   ]
  },
  {
   "cell_type": "code",
   "execution_count": null,
   "metadata": {},
   "outputs": [],
   "source": [
    "A*v, full(A)*v # FIXME BUG JULIA"
   ]
  },
  {
   "cell_type": "code",
   "execution_count": null,
   "metadata": {},
   "outputs": [],
   "source": [
    "full(A)*A"
   ]
  },
  {
   "cell_type": "code",
   "execution_count": null,
   "metadata": {},
   "outputs": [],
   "source": [
    "A*full(A)"
   ]
  },
  {
   "cell_type": "code",
   "execution_count": null,
   "metadata": {},
   "outputs": [],
   "source": [
    "A*A"
   ]
  },
  {
   "cell_type": "markdown",
   "metadata": {},
   "source": [
    "---\n",
    "### Algorithme $A^*$ (A star)"
   ]
  }
 ],
 "metadata": {
  "kernelspec": {
   "display_name": "Julia 1.6.0",
   "language": "julia",
   "name": "julia-1.6"
  },
  "language_info": {
   "file_extension": ".jl",
   "mimetype": "application/julia",
   "name": "julia",
   "version": "1.6.0"
  }
 },
 "nbformat": 4,
 "nbformat_minor": 2
}
