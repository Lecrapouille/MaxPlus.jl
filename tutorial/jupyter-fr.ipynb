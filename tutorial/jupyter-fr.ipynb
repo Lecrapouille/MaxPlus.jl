{
 "cells": [
  {
   "cell_type": "markdown",
   "metadata": {},
   "source": [
    "# Présentation de la boîte à outils Julia MaxPlus.jl pour l'algèbre tropicale"
   ]
  },
  {
   "cell_type": "markdown",
   "metadata": {},
   "source": [
    "## Algèbre tropicale"
   ]
  },
  {
   "cell_type": "markdown",
   "metadata": {},
   "source": [
    "L'algèbre (max,+) (se prononce max-plus) redéfinit les opérateurs addition et multiplication de l'algèbre classique par respectivement les opérateurs maximum noté $\\oplus$ et addition noté $\\otimes$ dans le domaine des nombres réels $\\mathbb{R}$ augmenté du nombre moins l'infini ($\\varepsilon = -\\infty$) que l'on nomme $\\mathbb{R}_{\\varepsilon} = \\mathbb{R} \\cup \\{ -\\infty \\}$. Sa structure algébrique est celle d'un dioïde selectif-inversible selon la classification de Gondran-Minoux (cette structure est appelée plus fréquemment semi-corps idempotent) $(\\mathbb{R}_{\\varepsilon}, \\oplus, \\otimes)$.\n",
    "\n",
    "$$\\forall a,b \\in \\mathbb{R}_{\\varepsilon}: a \\oplus b \\triangleq \\max(a,b)$$\n",
    "$$\\forall a,b \\in \\mathbb{R}_{\\varepsilon}: a \\otimes b \\triangleq a + b$$\n",
    "\n",
    "L'algèbre (min,+) (se prononce min-plus) redéfinit les opérateurs addition et multiplication de l'algèbre classique par respectivement les opérateurs minimum noté $\\oplus$ et addition noté $\\otimes$ dans le domaine des nombres réels $\\mathbb{R}$ augmenté du nombre plus l'infini ($\\varepsilon = +\\infty$) que l'on nomme $\\mathbb{R}_{\\varepsilon} = \\mathbb{R} \\cup \\{ +\\infty \\}$. Sa structure algébrique est celle d'un dioïde selectif-inversible selon la classification de Gondran-Minoux (cette structure est appelée plus fréquemment semi-corps idempotent) $(\\mathbb{R}_{\\varepsilon}, \\oplus, \\otimes)$.\n",
    "\n",
    "$$\\forall a,b \\in \\mathbb{R}_{\\varepsilon}: a \\oplus b \\triangleq \\min(a,b)$$\n",
    "$$\\forall a,b \\in \\mathbb{R}_{\\varepsilon}: a \\otimes b \\triangleq a + b$$\n",
    "\n",
    "Les algèbres Max-Plus ou Min-Plus sont parfois qualifiées de tropicales. \n",
    "\n",
    "L'intérêt du calcul matriciel dans cette algèbre est enseigné dès les années 60 par J. Kuntzman dans sa théorie des réseaux. Elle est utilisée dans de nombreux domaines Recherche opérationnelle (théorie des réseaux), Physique (Quantification), Probabilité (transformée de Cramer), Automatique (systèmes à événements discrets), Informatique (théorie des automates, Réseaux de Pétri), Mathématiques (géométrie algébrique). On pourra consulter la [bibliographie](../docs/src/bibliography.md) pour plus d'informations."
   ]
  },
  {
   "cell_type": "markdown",
   "metadata": {},
   "source": [
    "## Boîtes à outils pour l'algébre tropicale"
   ]
  },
  {
   "cell_type": "markdown",
   "metadata": {},
   "source": [
    "L'une des premières boîtes à outils Max-Plus disponibles a été fournie par l'[INRIA](https://www.inria.fr) avec le logiciel Scilab qui est devenu [ScicosLab](http://www.scicoslab.org) (fork) puis par son remplacement [NSP](https://cermics.enpc.fr/~jpc/nsp-tiddly/mine.html). Le but essentiel de cette boîte à outil est de faciliter les calculs matriciels dans cette algèbre et tire parti du livre [SYNCHRONIZATION AND LINEARITY: An Algebra for Discrete Event Systems](https://www.rocq.inria.fr/metalau/cohen/SED/book-online.html).\n",
    "\n",
    "Scilab n'étant plus maintenu par les auteurs originaux, un portage de la boîte à outils Max-Plus pour le langage Julia vous est proposé dont le code est téléchargeable soit sur le dépôt GitHub https://github.com/Lecrapouille/MaxPlus.jl soit depuis le système de paquets de Julia avec la commande `] add MaxPlus`. Initiallement, cette boîte devait uniquement se focaliser sur l'algèbre (max,+) mais de fil en aiguille, des fonctions pour l'algèbre (min,+) ont été introduites (version > 0.2.0) mais le nom du package `MaxPlus.jl` n'a pas changé.\n",
    "\n",
    "Pour information, il existe autre paquet Julia https://github.com/TensorBFS/TropicalNumbers.jl (développement actif) ainsi qu'une boîte à outils pour Matlab http://www.stanczyk.pro/mpa/ (dont le développement semble être abandonné). Mais aucun d'eux n'est un portage de Scilab.\n",
    "\n",
    "Ce présent document présente uniquement comment installer et démarer la boîte à outils `MaxPlus.jl` depuis un document Jupyter notebook. Les tutoriels suivants montrent les différentes fonctions qu'offre la boîte à outils tout en introduisant les bases de l'algèbre (max,+), l'algèbre (min,+) ainsi que des applications en relation avec ces algèbres."
   ]
  },
  {
   "cell_type": "markdown",
   "metadata": {},
   "source": [
    "## Installation de la boîte à outils Julia Max-Plus.jl"
   ]
  },
  {
   "cell_type": "markdown",
   "metadata": {},
   "source": [
    "Tout d'abord vérifions la version de Julia. Cette boîte à outils Max-Plus devrait fonctionner avec toutes les versions de Julia même celles obsolètes (v0.4, v0.7). Certaines versions de Julia apportent des correctifs (sur les matrices creuses: v1.3), d'autres font des régressions (v1.0: matrice identité; v1.4: produit matriciel matrice creuse avec matrice pleine; v1.5: affichage des matrices creuses comme des matrices denses). D'autres bugs sont vieux (> 3 ans) et ne sont pas corrigés sur la version 1.8 mais des correctifs sont automatiquement appliqués avec ce paquet Max-Plus. Pour plus d'information, confère le fichier `fallbacks.jl`. Norallement la version de Julia >= 1.9 devrait contenir tous les correctifs des bugs détectés."
   ]
  },
  {
   "cell_type": "code",
   "execution_count": 1,
   "metadata": {},
   "outputs": [
    {
     "data": {
      "text/plain": [
       "v\"1.8.1\""
      ]
     },
     "execution_count": 1,
     "metadata": {},
     "output_type": "execute_result"
    }
   ],
   "source": [
    "VERSION"
   ]
  },
  {
   "cell_type": "markdown",
   "metadata": {},
   "source": [
    "Pour installer la boîte à outils Max-Plus Julia on a plusieurs options. Les codes suivants ne fonctionnent pas directement depuis ce document Jupyter, pensez donc à les décommenter et à les exécuter depuis le mode interactif Julia (REPL) :\n",
    "- Soit depuis le gestionnaire de paquet Julia (version stable):"
   ]
  },
  {
   "cell_type": "code",
   "execution_count": 2,
   "metadata": {},
   "outputs": [],
   "source": [
    "# using Pkg; Pkg.add(\"MaxPlus\")"
   ]
  },
  {
   "cell_type": "markdown",
   "metadata": {},
   "source": [
    "- Vous pouvez télécharger la version du code source depuis GitHub :"
   ]
  },
  {
   "cell_type": "code",
   "execution_count": 3,
   "metadata": {},
   "outputs": [],
   "source": [
    "# using Pkg; Pkg.add(PackageSpec(url=\"https://github.com/Lecrapouille/MaxPlus.jl\"))"
   ]
  },
  {
   "cell_type": "markdown",
   "metadata": {},
   "source": [
    "- Soit, ma solution préférée et pour les developpeurs, depuis une console Linux télécharger:\n",
    "```\n",
    "git clone https://github.com/Lecrapouille/MaxPlus.jl\n",
    "cd MaxPlus.jl\n",
    "julia\n",
    "```\n",
    "\n",
    "Il est important d'être correctement placé dans le dossier racine MaxPlus.jl.\n",
    "\n",
    "Puis dans le système de package `]` :"
   ]
  },
  {
   "cell_type": "code",
   "execution_count": 4,
   "metadata": {},
   "outputs": [],
   "source": [
    "# (@v1.8) pkg> add ."
   ]
  },
  {
   "cell_type": "markdown",
   "metadata": {},
   "source": [
    "## Utiliser Max-Plus depuis un document Jupyter\n",
    "\n",
    "Le paquet Julia Max-Plus étant installé sur votre système, on peut l'utiliser depuis le REPL de Julia via `using MaxPlus` mais il est plus agréable de l'utiliser dans un document Jupyter. Pour ce faire, il suffit  de lancer un notebook Jupyter depuis le REPL avant le chargement de la boîte à outils. Voici les commandes à taper depuis votre REPL depuis le dossier racine `MaxPlus.jl`:"
   ]
  },
  {
   "cell_type": "code",
   "execution_count": 5,
   "metadata": {},
   "outputs": [],
   "source": [
    "# using IJulia\n",
    "# notebook()"
   ]
  },
  {
   "cell_type": "markdown",
   "metadata": {},
   "source": [
    "Créer un nouveau document Jupyter, pensez à vérifier que votre document est connecté à Julia. Puis dans ce document Jupyter créé, chargez la boîte à outil Max-Plus depuis le dossier MaxPlus.jl:"
   ]
  },
  {
   "cell_type": "code",
   "execution_count": 6,
   "metadata": {
    "scrolled": true
   },
   "outputs": [],
   "source": [
    "push!(LOAD_PATH, pwd())\n",
    "using MaxPlus"
   ]
  },
  {
   "cell_type": "markdown",
   "metadata": {},
   "source": [
    "Tapons notre premier nombre Max-Plus :"
   ]
  },
  {
   "cell_type": "code",
   "execution_count": 7,
   "metadata": {},
   "outputs": [
    {
     "data": {
      "text/plain": [
       "(max,+) 5"
      ]
     },
     "execution_count": 7,
     "metadata": {},
     "output_type": "execute_result"
    }
   ],
   "source": [
    "MP(5)"
   ]
  },
  {
   "cell_type": "markdown",
   "metadata": {},
   "source": [
    "Tapons notre premier nombre Min-Plus :"
   ]
  },
  {
   "cell_type": "code",
   "execution_count": 8,
   "metadata": {},
   "outputs": [
    {
     "data": {
      "text/plain": [
       "(min,+) 5"
      ]
     },
     "execution_count": 8,
     "metadata": {},
     "output_type": "execute_result"
    }
   ],
   "source": [
    "MI(5)"
   ]
  },
  {
   "cell_type": "markdown",
   "metadata": {},
   "source": [
    "Si vous voyez le bon résultat, vous pouvez continuer les autres tutoriels."
   ]
  }
 ],
 "metadata": {
  "kernelspec": {
   "display_name": "Julia 1.8.1",
   "language": "julia",
   "name": "julia-1.8"
  },
  "language_info": {
   "file_extension": ".jl",
   "mimetype": "application/julia",
   "name": "julia",
   "version": "1.8.1"
  }
 },
 "nbformat": 4,
 "nbformat_minor": 2
}
