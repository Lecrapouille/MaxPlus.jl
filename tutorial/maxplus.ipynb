{
 "cells": [
  {
   "cell_type": "markdown",
   "metadata": {},
   "source": [
    "# Algèbre Max-Plus\n",
    "\n",
    "L'algebre Max-Plus redéfinit les opérateurs addition et multiplication par les opérateurs max\n",
    "et addition.\n",
    "\n",
    "$$a \\oplus b = max(a,b)$$\n",
    "$$a \\odot b = a + b$$\n",
    "\n",
    "L'algebre Max-Plus permet de modéliser et d'évaluer les performances\n",
    "de systèmes à évènements discrets (réseaux de transport ou de télécom,\n",
    "systèmes de production), mais également dans des domaines tels que et\n",
    "théorie de la décision, recherche opérationnelle."
   ]
  },
  {
   "cell_type": "markdown",
   "metadata": {},
   "source": [
    "## Boite à outil Julia\n",
    "\n",
    "Une boite à outils Max-Plus est directement intégré dans le\n",
    "[ScicosLab](http://www.scicoslab.org) qui est un fork officiel\n",
    "de Scilab. Dans ce document nous allons utiliser le langage Julia."
   ]
  },
  {
   "cell_type": "code",
   "execution_count": 3,
   "metadata": {},
   "outputs": [
    {
     "ename": "ErrorException",
     "evalue": "error compiling #add_or_develop#13: error compiling shred!: error compiling #26: error compiling with: error compiling #27: could not load library \"libgit2\"\n/usr/lib/x86_64-linux-gnu/libmbedx509.so.0: undefined symbol: mbedtls_mutex_unlock",
     "output_type": "error",
     "traceback": [
      "error compiling #add_or_develop#13: error compiling shred!: error compiling #26: error compiling with: error compiling #27: could not load library \"libgit2\"\n/usr/lib/x86_64-linux-gnu/libmbedx509.so.0: undefined symbol: mbedtls_mutex_unlock",
      "",
      "Stacktrace:",
      " [1] #add_or_develop at ./none:0 [inlined]",
      " [2] #add_or_develop#12 at /build/julia-wJr69F/julia-1.0.3+dfsg/usr/share/julia/stdlib/v1.0/Pkg/src/API.jl:29 [inlined]",
      " [3] #add_or_develop at ./none:0 [inlined]",
      " [4] #add_or_develop#10 at /build/julia-wJr69F/julia-1.0.3+dfsg/usr/share/julia/stdlib/v1.0/Pkg/src/API.jl:27 [inlined]",
      " [5] #add_or_develop at ./none:0 [inlined]",
      " [6] #add#18 at /build/julia-wJr69F/julia-1.0.3+dfsg/usr/share/julia/stdlib/v1.0/Pkg/src/API.jl:69 [inlined]",
      " [7] add(::Pkg.Types.PackageSpec) at /build/julia-wJr69F/julia-1.0.3+dfsg/usr/share/julia/stdlib/v1.0/Pkg/src/API.jl:69",
      " [8] top-level scope at In[3]:1"
     ]
    }
   ],
   "source": [
    "using Pkg; Pkg.add(PackageSpec(url=\"https://github.com/Lecrapouille/MaxPlus.jl\"));\n",
    "using MaxPlus;"
   ]
  },
  {
   "cell_type": "markdown",
   "metadata": {},
   "source": [
    "### Max-Plus typage Julia"
   ]
  },
  {
   "cell_type": "code",
   "execution_count": 6,
   "metadata": {},
   "outputs": [
    {
     "ename": "UndefVarError",
     "evalue": "UndefVarError: MP not defined",
     "output_type": "error",
     "traceback": [
      "UndefVarError: MP not defined",
      "",
      "Stacktrace:",
      " [1] top-level scope at In[6]:1"
     ]
    }
   ],
   "source": [
    "# Max-plus float\n",
    "a = MP(1.0)\n",
    "b = MP(3.0)\n",
    "typeof(a)\n",
    "\n",
    "# Max-plus integer\n",
    "c = MP(3)\n",
    "typeof(c)\n",
    "\n",
    "# Real to max-plus conversion\n",
    "d = 1.0\n",
    "typeof(d)\n",
    "typeof(a + d)\n",
    "\n",
    "# Max-plus to real\n",
    "e = a.v\n",
    "typeof(e)\n",
    "typeof(a.v)"
   ]
  },
  {
   "cell_type": "markdown",
   "metadata": {},
   "source": [
    "### Max-Plus opérations basiques"
   ]
  },
  {
   "cell_type": "code",
   "execution_count": 7,
   "metadata": {},
   "outputs": [
    {
     "ename": "UndefVarError",
     "evalue": "UndefVarError: a not defined",
     "output_type": "error",
     "traceback": [
      "UndefVarError: a not defined",
      "",
      "Stacktrace:",
      " [1] top-level scope at In[7]:1"
     ]
    }
   ],
   "source": [
    "a + b    # => max(a, b) == max(1, 3) == 3\n",
    "a + a    # => a\n",
    "a * b    # => a + b == 1 + 3 == 4\n",
    "a * a    # => a + a"
   ]
  },
  {
   "cell_type": "markdown",
   "metadata": {},
   "source": [
    "Ces opérateurs sont commutatifs, associatifs, ont des éléments neutres\n",
    "mais seul l'opérateur $\\odot$ est distributif sur $\\oplus$ et $\\oplus$\n",
    "a un élément absorbant. Donnons quelques exemples."
   ]
  },
  {
   "cell_type": "markdown",
   "metadata": {},
   "source": [
    "### Associativité\n",
    "\n",
    "$$(a \\oplus b) \\oplus c = a \\oplus (b \\oplus c) = a \\oplus b \\oplus c$$\n",
    "$$(a \\odot b) \\odot c = a \\odot (b \\odot c) = a \\odot b \\odot c$$"
   ]
  },
  {
   "cell_type": "code",
   "execution_count": 9,
   "metadata": {},
   "outputs": [
    {
     "ename": "UndefVarError",
     "evalue": "UndefVarError: MP not defined",
     "output_type": "error",
     "traceback": [
      "UndefVarError: MP not defined",
      "",
      "Stacktrace:",
      " [1] top-level scope at In[9]:1"
     ]
    }
   ],
   "source": [
    "c = MP(5)\n",
    "a + b + c\n",
    "(a + b) + c\n",
    "a + (b + c)\n",
    "\n",
    "a * b * c\n",
    "(a * b) * c\n",
    "a * (b * c)"
   ]
  },
  {
   "cell_type": "markdown",
   "metadata": {},
   "source": [
    "### Commutativité. Eléments neutres\n",
    "\n",
    "$$-\\infty \\oplus a = a \\oplus (-\\infty) = max(-\\infty,a) = max(a,-\\infty) = a$$\n",
    "$$0 \\odot a = a \\odot 0 = 0+a = a+0 = a$$"
   ]
  },
  {
   "cell_type": "code",
   "execution_count": null,
   "metadata": {},
   "outputs": [],
   "source": [
    "O = zero(MP{Float64})  # => -Inf\n",
    "O + a                  # => max(-Inf, a) = a\n",
    "a + O                  # => max(a, -Inf) = a\n",
    "\n",
    "E = one(MP{Float64})   # => 0\n",
    "E * a                  # => 0 + a = a\n",
    "a * E                  # => a + 0 = a"
   ]
  },
  {
   "cell_type": "markdown",
   "metadata": {},
   "source": [
    "### Commutativité. Eléments absorbants\n",
    "\n",
    "$$\\infty \\oplus a = a \\oplus \\infty = max(\\infty,a) = max(a,\\infty) = \\infty$$\n",
    "\n",
    "L'opérateur $\\odot$ n'a pas d'élément absorbant."
   ]
  },
  {
   "cell_type": "code",
   "execution_count": null,
   "metadata": {},
   "outputs": [],
   "source": [
    "Inf + a # => max(Inf, a) = Inf\n",
    "a + Inf # => max(a, Inf) = Inf"
   ]
  },
  {
   "cell_type": "markdown",
   "metadata": {},
   "source": [
    "### Distributivité\n",
    "\n",
    "$$(a \\oplus b) \\odot c = max(a,b)+c$$\n",
    "$$(a \\odot c) \\oplus (b \\odot c) = max(a+c,b+c)$$"
   ]
  },
  {
   "cell_type": "code",
   "execution_count": 5,
   "metadata": {},
   "outputs": [],
   "source": [
    "(a + b) * c       # => max(a, b) + c\n",
    "(a * c) + (b * c) # => max(a + c, b + c) "
   ]
  },
  {
   "cell_type": "markdown",
   "metadata": {},
   "source": [
    "### Produit matriciel\n",
    "\n",
    "$$A=\\begin{bmatrix}\n",
    "4 & 3 \\\\\n",
    "7 & -\\infty\n",
    "\\end{bmatrix}\\;,\\;\n",
    "A^2=\\begin{bmatrix}\n",
    "10 & 7 \\\\\n",
    "11 & 10\n",
    "\\end{bmatrix}\\;.$$"
   ]
  },
  {
   "cell_type": "code",
   "execution_count": null,
   "metadata": {},
   "outputs": [],
   "source": [
    "A  = mparray([4 3; 7 -Inf])\n",
    "AA = A * A\n",
    "\n",
    "B = [MP(10) 7; 11 10]\n",
    "B == A"
   ]
  },
  {
   "cell_type": "markdown",
   "metadata": {},
   "source": [
    "### Matrice identité"
   ]
  },
  {
   "cell_type": "code",
   "execution_count": null,
   "metadata": {},
   "outputs": [],
   "source": [
    "I=mpeye(2,2)"
   ]
  }
 ],
 "metadata": {
  "kernelspec": {
   "display_name": "Julia 1.0.3",
   "language": "julia",
   "name": "julia-1.0"
  },
  "language_info": {
   "file_extension": ".jl",
   "mimetype": "application/julia",
   "name": "julia",
   "version": "1.0.3"
  }
 },
 "nbformat": 4,
 "nbformat_minor": 2
}
