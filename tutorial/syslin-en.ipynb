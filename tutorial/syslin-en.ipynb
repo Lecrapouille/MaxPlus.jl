{
 "cells": [
  {
   "cell_type": "markdown",
   "metadata": {},
   "source": [
    "# Max-Plus Implicit and Explicit Linear System\n",
    "\n",
    "Just like the Scilab toolbox, a Max-Plus structure for Julia is proposed in order to manipulate implicit linear dynamical systems in the following form:\n",
    "\n",
    "$$\\left \\{ \\begin{array}{l}\n",
    "X(n) &= D X(n) \\oplus A X(n-1) \\oplus B U(n) \\\\\n",
    "Y(n) &= C X(n)\n",
    "\\end{array} \\right.$$\n",
    "\n",
    "With $x(0) = x_0$ known. The quintuplet $(A,B,C,D,x_0)$ is manipulated by the structure `MPSysLin`. The $\\otimes$ is implied for readability. This document follows the [introduction of the Julia toolbox for Max-Plus algebra](https://nbviewer.jupyter.org/github/Lecrapouille/MaxPlus.jl/blob/master/tutorial/core-fr.ipynb) and we will see how to manipulate this structure which will be used on a concrete problem in the [following document](https://nbviewer.jupyter.org/github/Lecrapouille/MaxPlus.jl/blob/master/tutorial/flowshop-fr.ipynb)."
   ]
  },
  {
   "cell_type": "markdown",
   "metadata": {},
   "source": [
    "# Prerequisites\n",
    "\n",
    "If not already, let's load the Max-Plus Toolbox. As a reminder, the previous document explains in more detail how to do this."
   ]
  },
  {
   "cell_type": "code",
   "execution_count": 1,
   "metadata": {
    "scrolled": true
   },
   "outputs": [],
   "source": [
    "push!(LOAD_PATH, pwd())\n",
    "using MaxPlus, SparseArrays"
   ]
  },
  {
   "cell_type": "markdown",
   "metadata": {},
   "source": [
    "Still for function call concerns `Base.show` from a Jupyter document, we force the display in full mode:"
   ]
  },
  {
   "cell_type": "code",
   "execution_count": 2,
   "metadata": {},
   "outputs": [],
   "source": [
    "Base.show(io::IO, ::MIME\"text/latex\", x::MP) = show(io, MIME\"text/plain\", x)\n",
    "Base.show(io::IO, ::MIME\"text/latex\", A::MPAbstractVecOrMat) = show(io, MIME\"text/plain\", A)\n",
    "Base.show(io::IO, ::MIME\"text/latex\", S::MPSysLin) = show(io, MIME\"text/plain\", S)"
   ]
  },
  {
   "cell_type": "markdown",
   "metadata": {},
   "source": [
    "## Construction of an Implicit Max-Plus Linear System\n",
    "\n",
    "Let's create our first implicit Max-Plus linear system thanks to the constructors of the associated Julia structure `MPSysLin(A, B, C [,D, x0])` :\n",
    "\n",
    "$$S_1=\\left\\{\\begin{array}{lcl}\n",
    "x_n & = & \\left[\n",
    "\\begin{array}{*{20}c}\n",
    "0 & . \\\\\n",
    ". & 0 \\\\\n",
    "\\end{array}\n",
    "\\right]\n",
    " x_n \\oplus \\left[\n",
    "\\begin{array}{*{20}c}\n",
    "1 & 2 \\\\\n",
    "3 & 4 \\\\\n",
    "\\end{array}\n",
    "\\right]\n",
    " x_{n-1} \\oplus \\left[\n",
    "\\begin{array}{*{20}c}\n",
    "0 \\\\\n",
    "0 \\\\\n",
    "\\end{array}\n",
    "\\right]\n",
    " u_n\\\\y_n & = & \\left[\n",
    "\\begin{array}{*{20}c}\n",
    "0 & 0 \\\\\n",
    "\\end{array}\n",
    "\\right]\n",
    " x_n\\\\x_0 & = & \\left[\n",
    "\\begin{array}{*{20}c}\n",
    ". \\\\\n",
    ". \\\\\n",
    "\\end{array}\n",
    "\\right]\n",
    "\\end{array}\\right.$$\n",
    "\n",
    "The matrix $D$ and the vector $x_0$ are optional. If they are not given they will be automatically created and filled with $\\varepsilon$."
   ]
  },
  {
   "cell_type": "code",
   "execution_count": 3,
   "metadata": {},
   "outputs": [
    {
     "data": {
      "text/plain": [
       "2×2 (max,+) sparse matrix with 2 stored entries:\n",
       "  [1, 1]  =  0\n",
       "  [2, 2]  =  0"
      ]
     },
     "execution_count": 3,
     "metadata": {},
     "output_type": "execute_result"
    }
   ],
   "source": [
    "speye(MP,2,2)"
   ]
  },
  {
   "cell_type": "code",
   "execution_count": 4,
   "metadata": {},
   "outputs": [
    {
     "data": {
      "text/plain": [
       "Implicit dynamic linear Max-Plus system:\n",
       "  x(n) = D*x(n) + A*x(n-1) + B*u(n)\n",
       "  y(n) = C*x(n)\n",
       "  x(0) = x0\n",
       "\n",
       "with:\n",
       "D = 2×2 (max,+) dense matrix:\n",
       "  0   .\n",
       "  .   0\n",
       "\n",
       "A = 2×2 (max,+) dense matrix:\n",
       "  1   2\n",
       "  3   4\n",
       "\n",
       "B = 2-element (max,+) vector:\n",
       "  0\n",
       "  0\n",
       "\n",
       "C = 1×2 (max,+) dense matrix:\n",
       "  0   0\n",
       "\n",
       "x0 = 2×1 (max,+) dense matrix:\n",
       "  .\n",
       "  .\n"
      ]
     },
     "execution_count": 4,
     "metadata": {},
     "output_type": "execute_result"
    }
   ],
   "source": [
    "S1 = MPSysLin(MP([1 2; 3 4]),      # A\n",
    "              MP([0;0]),           # B\n",
    "              MP([0 0]),           # C\n",
    "              speye(MP,2,2),       # D (optional)\n",
    "              spzeros(MP,2,1))     # x0 (optional)"
   ]
  },
  {
   "cell_type": "markdown",
   "metadata": {},
   "source": [
    "And the second implicit system:\n",
    "\n",
    "$$S_2=\\left\\{\\begin{array}{lcl}\n",
    "x_n & = & \\left[\n",
    "\\begin{array}{*{20}c}\n",
    "0 & . & . \\\\\n",
    ". & 0 & . \\\\\n",
    ". & . & 0 \\\\\n",
    "\\end{array}\n",
    "\\right]\n",
    " x_n \\oplus \\left[\n",
    "\\begin{array}{*{20}c}\n",
    "1 & 2 & 3 \\\\\n",
    "4 & 5 & 6 \\\\\n",
    "7 & 8 & 9 \\\\\n",
    "\\end{array}\n",
    "\\right]\n",
    " x_{n-1} \\oplus \\left[\n",
    "\\begin{array}{*{20}c}\n",
    "0 \\\\\n",
    "0 \\\\\n",
    "0 \\\\\n",
    "\\end{array}\n",
    "\\right]\n",
    " u_n\\\\y_n & = & \\left[\n",
    "\\begin{array}{*{20}c}\n",
    "0 & 0 & 0 \\\\\n",
    "\\end{array}\n",
    "\\right]\n",
    " x_n\\\\x_0 & = & \\left[\n",
    "\\begin{array}{*{20}c}\n",
    ". \\\\\n",
    ". \\\\\n",
    ". \\\\\n",
    "\\end{array}\n",
    "\\right]\n",
    "\\end{array}\\right.$$"
   ]
  },
  {
   "cell_type": "code",
   "execution_count": 5,
   "metadata": {},
   "outputs": [
    {
     "data": {
      "text/plain": [
       "Implicit dynamic linear Max-Plus system:\n",
       "  x(n) = D*x(n) + A*x(n-1) + B*u(n)\n",
       "  y(n) = C*x(n)\n",
       "  x(0) = x0\n",
       "\n",
       "with:\n",
       "D = 3×3 (max,+) dense matrix:\n",
       "  0   .   .\n",
       "  .   0   .\n",
       "  .   .   0\n",
       "\n",
       "A = 3×3 (max,+) dense matrix:\n",
       "  1   2   3\n",
       "  4   5   6\n",
       "  7   8   9\n",
       "\n",
       "B = 3-element (max,+) vector:\n",
       "  0\n",
       "  0\n",
       "  0\n",
       "\n",
       "C = 1×3 (max,+) dense matrix:\n",
       "  0   0   0\n",
       "\n",
       "x0 = 3×1 (max,+) dense matrix:\n",
       "  .\n",
       "  .\n",
       "  .\n"
      ]
     },
     "execution_count": 5,
     "metadata": {},
     "output_type": "execute_result"
    }
   ],
   "source": [
    "S2 = MPSysLin(MP([1 2 3; 4 5 6; 7 8 9]),  # A\n",
    "              MP([0;0;0]),                # B\n",
    "              MP([0 0 0]),                # C\n",
    "              eye(MP,3,3))                # D\n",
    "                                          # x0 to zeros vector"
   ]
  },
  {
   "cell_type": "markdown",
   "metadata": {},
   "source": [
    "## Access to matrices\n",
    "\n",
    "This is done directly by the fields `.D` or `.A` or `.B` or `.C` or `.x0`"
   ]
  },
  {
   "cell_type": "code",
   "execution_count": 6,
   "metadata": {},
   "outputs": [
    {
     "data": {
      "text/plain": [
       "2×2 (max,+) sparse matrix with 2 stored entries:\n",
       "  [1, 1]  =  0\n",
       "  [2, 2]  =  0"
      ]
     },
     "execution_count": 6,
     "metadata": {},
     "output_type": "execute_result"
    }
   ],
   "source": [
    "S1.D"
   ]
  },
  {
   "cell_type": "code",
   "execution_count": 7,
   "metadata": {},
   "outputs": [
    {
     "data": {
      "text/plain": [
       "2×2 (max,+) dense matrix:\n",
       "  1   2\n",
       "  3   4\n"
      ]
     },
     "execution_count": 7,
     "metadata": {},
     "output_type": "execute_result"
    }
   ],
   "source": [
    "S1.A"
   ]
  },
  {
   "cell_type": "code",
   "execution_count": 8,
   "metadata": {},
   "outputs": [
    {
     "data": {
      "text/plain": [
       "2-element (max,+) vector:\n",
       "  0\n",
       "  0\n"
      ]
     },
     "execution_count": 8,
     "metadata": {},
     "output_type": "execute_result"
    }
   ],
   "source": [
    "S1.B"
   ]
  },
  {
   "cell_type": "code",
   "execution_count": 9,
   "metadata": {},
   "outputs": [
    {
     "data": {
      "text/plain": [
       "1×2 (max,+) dense matrix:\n",
       "  0   0\n"
      ]
     },
     "execution_count": 9,
     "metadata": {},
     "output_type": "execute_result"
    }
   ],
   "source": [
    "S1.C"
   ]
  },
  {
   "cell_type": "code",
   "execution_count": 10,
   "metadata": {},
   "outputs": [
    {
     "data": {
      "text/plain": [
       "2×1 (max,+) sparse matrix with 0 stored entries"
      ]
     },
     "execution_count": 10,
     "metadata": {},
     "output_type": "execute_result"
    }
   ],
   "source": [
    "S1.x0"
   ]
  },
  {
   "cell_type": "code",
   "execution_count": 11,
   "metadata": {},
   "outputs": [
    {
     "data": {
      "text/plain": [
       "2×1 (max,+) dense matrix:\n",
       "  .\n",
       "  .\n"
      ]
     },
     "execution_count": 11,
     "metadata": {},
     "output_type": "execute_result"
    }
   ],
   "source": [
    "full(S1.x0)"
   ]
  },
  {
   "cell_type": "markdown",
   "metadata": {},
   "source": [
    "## Displaying Max-Plus Implicit Systems\n",
    "\n",
    "### Display standard output"
   ]
  },
  {
   "cell_type": "code",
   "execution_count": 12,
   "metadata": {},
   "outputs": [
    {
     "name": "stdout",
     "output_type": "stream",
     "text": [
      "Implicit dynamic linear Max-Plus system:\n",
      "  x(n) = D*x(n) + A*x(n-1) + B*u(n)\n",
      "  y(n) = C*x(n)\n",
      "  x(0) = x0\n",
      "\n",
      "with:\n",
      "D = 2×2 (max,+) dense matrix:\n",
      "  0   .\n",
      "  .   0\n",
      "\n",
      "A = 2×2 (max,+) dense matrix:\n",
      "  1   2\n",
      "  3   4\n",
      "\n",
      "B = 2-element (max,+) vector:\n",
      "  0\n",
      "  0\n",
      "\n",
      "C = 1×2 (max,+) dense matrix:\n",
      "  0   0\n",
      "\n",
      "x0 = 2×1 (max,+) dense matrix:\n",
      "  .\n",
      "  .\n"
     ]
    }
   ],
   "source": [
    "tropshow(stdout, S1)"
   ]
  },
  {
   "cell_type": "code",
   "execution_count": 13,
   "metadata": {},
   "outputs": [
    {
     "name": "stdout",
     "output_type": "stream",
     "text": [
      "Implicit dynamic linear Max-Plus system:\n",
      "  x(n) = D*x(n) + A*x(n-1) + B*u(n)\n",
      "  y(n) = C*x(n)\n",
      "  x(0) = x0\n",
      "\n",
      "with:\n",
      "D = 2×2 (max,+) dense matrix:\n",
      "  0   .\n",
      "  .   0\n",
      "\n",
      "A = 2×2 (max,+) dense matrix:\n",
      "  1   2\n",
      "  3   4\n",
      "\n",
      "B = 2-element (max,+) vector:\n",
      "  0\n",
      "  0\n",
      "\n",
      "C = 1×2 (max,+) dense matrix:\n",
      "  0   0\n",
      "\n",
      "x0 = 2×1 (max,+) dense matrix:\n",
      "  .\n",
      "  .\n"
     ]
    }
   ],
   "source": [
    "show(stdout, \"text/plain\", S1)"
   ]
  },
  {
   "cell_type": "markdown",
   "metadata": {},
   "source": [
    "### Display of Max-Plus implicit systems inIATTEX\n",
    "\n",
    "As the previous display is not the friendliest, we can improve this by generating some code $\\LaTeX$\n",
    "either with the function `LaTeX` (and if the argument is not passed `IO` then a character string will be returned) or via the function `Base.show` passing the argument `::MIME\"text/latex\"`:"
   ]
  },
  {
   "cell_type": "code",
   "execution_count": 14,
   "metadata": {},
   "outputs": [
    {
     "name": "stdout",
     "output_type": "stream",
     "text": [
      "\"\\\\left\\\\{\\\\begin{array}{lcl}\\nx_n & = & \\\\left[\\n\\\\begin{array}{*{20}c}\\n0 & . \\\\\\\\\\n. & 0 \\\\\\\\\\n\\\\end{array}\\n\\\\right]\\n x_n \\\\oplus \\\\left[\\n\\\\begin{array}{*{20}c}\\n1 & 2 \\\\\\\\\\n3 & 4 \\\\\\\\\\n\\\\end{array}\\n\\\\right]\\n x_{n-1} \\\\oplus \\\\left[\\n\\\\begin{array}{*{20}c}\\n0 \\\\\\\\\\n0 \\\\\\\\\\n\\\\end{array}\\n\\\\right]\\n u_n\\\\\\\\ y_n & = & \\\\left[\\n\\\\begin{array}{*{20}c}\\n0 & 0 \\\\\\\\\\n\\\\end{array}\\n\\\\right]\\n x_n\\\\\\\\ x_0 & = & \\\\left[\\n\\\\begin{array}{*{20}c}\\n. \\\\\\\\\\n. \\\\\\\\\\n\\\\end{array}\\n\\\\right]\\n\\\\end{array}\\\\right.\""
     ]
    }
   ],
   "source": [
    "LaTeX(stdout, S1)  # show(stdout, \"text/latex\", S1)"
   ]
  },
  {
   "cell_type": "markdown",
   "metadata": {},
   "source": [
    "Which will give when compiled:\n",
    "\n",
    "$$\\left\\{\\begin{array}{lcl}\n",
    "x_n & = & \\left[\n",
    "\\begin{array}{*{20}c}\n",
    "0 & . \\\\\n",
    ". & 0 \\\\\n",
    "\\end{array}\n",
    "\\right]\n",
    " x_n \\oplus \\left[\n",
    "\\begin{array}{*{20}c}\n",
    "1 & 2 \\\\\n",
    "3 & 4 \\\\\n",
    "\\end{array}\n",
    "\\right]\n",
    " x_{n-1} \\oplus \\left[\n",
    "\\begin{array}{*{20}c}\n",
    "0 \\\\\n",
    "0 \\\\\n",
    "\\end{array}\n",
    "\\right]\n",
    " u_n\\\\y_n & = & \\left[\n",
    "\\begin{array}{*{20}c}\n",
    "0 & 0 \\\\\n",
    "\\end{array}\n",
    "\\right]\n",
    " x_n\\\\x_0 & = & \\left[\n",
    "\\begin{array}{*{20}c}\n",
    ". \\\\\n",
    ". \\\\\n",
    "\\end{array}\n",
    "\\right]\n",
    "\\end{array}\\right.$$"
   ]
  },
  {
   "cell_type": "markdown",
   "metadata": {},
   "source": [
    "For the rest of this Jupyter document, we will create a function that will force the LaTeX display:"
   ]
  },
  {
   "cell_type": "code",
   "execution_count": 15,
   "metadata": {},
   "outputs": [
    {
     "data": {
      "text/plain": [
       "latexify (generic function with 2 methods)"
      ]
     },
     "execution_count": 15,
     "metadata": {},
     "output_type": "execute_result"
    }
   ],
   "source": [
    "using LaTeXStrings\n",
    "\n",
    "latexify(S1, name=\"S\") = latexstring(name, \"=\", LaTeX(S1))"
   ]
  },
  {
   "cell_type": "code",
   "execution_count": 16,
   "metadata": {},
   "outputs": [
    {
     "data": {
      "text/latex": [
       "$S=\\left\\{\\begin{array}{lcl}\n",
       "x_n & = & \\left[\n",
       "\\begin{array}{*{20}c}\n",
       "0 & . \\\\\n",
       ". & 0 \\\\\n",
       "\\end{array}\n",
       "\\right]\n",
       " x_n \\oplus \\left[\n",
       "\\begin{array}{*{20}c}\n",
       "1 & 2 \\\\\n",
       "3 & 4 \\\\\n",
       "\\end{array}\n",
       "\\right]\n",
       " x_{n-1} \\oplus \\left[\n",
       "\\begin{array}{*{20}c}\n",
       "0 \\\\\n",
       "0 \\\\\n",
       "\\end{array}\n",
       "\\right]\n",
       " u_n\\\\ y_n & = & \\left[\n",
       "\\begin{array}{*{20}c}\n",
       "0 & 0 \\\\\n",
       "\\end{array}\n",
       "\\right]\n",
       " x_n\\\\ x_0 & = & \\left[\n",
       "\\begin{array}{*{20}c}\n",
       ". \\\\\n",
       ". \\\\\n",
       "\\end{array}\n",
       "\\right]\n",
       "\\end{array}\\right.$"
      ],
      "text/plain": [
       "L\"$S=\\left\\{\\begin{array}{lcl}\n",
       "x_n & = & \\left[\n",
       "\\begin{array}{*{20}c}\n",
       "0 & . \\\\\n",
       ". & 0 \\\\\n",
       "\\end{array}\n",
       "\\right]\n",
       " x_n \\oplus \\left[\n",
       "\\begin{array}{*{20}c}\n",
       "1 & 2 \\\\\n",
       "3 & 4 \\\\\n",
       "\\end{array}\n",
       "\\right]\n",
       " x_{n-1} \\oplus \\left[\n",
       "\\begin{array}{*{20}c}\n",
       "0 \\\\\n",
       "0 \\\\\n",
       "\\end{array}\n",
       "\\right]\n",
       " u_n\\\\ y_n & = & \\left[\n",
       "\\begin{array}{*{20}c}\n",
       "0 & 0 \\\\\n",
       "\\end{array}\n",
       "\\right]\n",
       " x_n\\\\ x_0 & = & \\left[\n",
       "\\begin{array}{*{20}c}\n",
       ". \\\\\n",
       ". \\\\\n",
       "\\end{array}\n",
       "\\right]\n",
       "\\end{array}\\right.$\""
      ]
     },
     "execution_count": 16,
     "metadata": {},
     "output_type": "execute_result"
    }
   ],
   "source": [
    "latexify(S1)"
   ]
  },
  {
   "cell_type": "markdown",
   "metadata": {},
   "source": [
    "## Composition of Max-Plus implicit systems\n",
    "\n",
    "Just like Scilab, Julia allows you to overload basic operators, which you will use to compose linear systems."
   ]
  },
  {
   "cell_type": "markdown",
   "metadata": {},
   "source": [
    "#### Parallel composition"
   ]
  },
  {
   "cell_type": "code",
   "execution_count": 17,
   "metadata": {
    "scrolled": false
   },
   "outputs": [
    {
     "data": {
      "text/latex": [
       "$S=\\left\\{\\begin{array}{lcl}\n",
       "x_n & = & \\left[\n",
       "\\begin{array}{*{20}c}\n",
       "0 & . & . & . & . \\\\\n",
       ". & 0 & . & . & . \\\\\n",
       ". & . & 0 & . & . \\\\\n",
       ". & . & . & 0 & . \\\\\n",
       ". & . & . & . & 0 \\\\\n",
       "\\end{array}\n",
       "\\right]\n",
       " x_n \\oplus \\left[\n",
       "\\begin{array}{*{20}c}\n",
       "1 & 2 & . & . & . \\\\\n",
       "3 & 4 & . & . & . \\\\\n",
       ". & . & 1 & 2 & 3 \\\\\n",
       ". & . & 4 & 5 & 6 \\\\\n",
       ". & . & 7 & 8 & 9 \\\\\n",
       "\\end{array}\n",
       "\\right]\n",
       " x_{n-1} \\oplus \\left[\n",
       "\\begin{array}{*{20}c}\n",
       "0 \\\\\n",
       "0 \\\\\n",
       "0 \\\\\n",
       "0 \\\\\n",
       "0 \\\\\n",
       "\\end{array}\n",
       "\\right]\n",
       " u_n\\\\ y_n & = & \\left[\n",
       "\\begin{array}{*{20}c}\n",
       "0 & 0 & 0 & 0 & 0 \\\\\n",
       "\\end{array}\n",
       "\\right]\n",
       " x_n\\\\ x_0 & = & \\left[\n",
       "\\begin{array}{*{20}c}\n",
       ". \\\\\n",
       ". \\\\\n",
       ". \\\\\n",
       ". \\\\\n",
       ". \\\\\n",
       "\\end{array}\n",
       "\\right]\n",
       "\\end{array}\\right.$"
      ],
      "text/plain": [
       "\"\\$S=\\\\left\\\\{\\\\begin{array}{lcl}\\nx_n & = & \\\\left[\\n\\\\begin{array}{*{20}c}\\n0 & . & . & . & . \\\\\\\\\\n. & 0 & . & . & . \\\\\\\\\\n. & . & 0 & . & . \\\\\\\\\\n. & . & . & 0 & . \\\\\\\\\\n. & . & . & . & 0 \\\\\\\\\\n\\\\end{array}\\n\\\\right]\\n x_n \\\\oplus \\\\left[\\n\\\\begin{array}{*{20}c}\\n1 & 2 & . & . & . \\\\\\\\\\n3 & 4 & . & . & \" ⋯ 105 bytes ⋯ \"left[\\n\\\\begin{array}{*{20}c}\\n0 \\\\\\\\\\n0 \\\\\\\\\\n0 \\\\\\\\\\n0 \\\\\\\\\\n0 \\\\\\\\\\n\\\\end{array}\\n\\\\right]\\n u_n\\\\\\\\ y_n & = & \\\\left[\\n\\\\begin{array}{*{20}c}\\n0 & 0 & 0 & 0 & 0 \\\\\\\\\\n\\\\end{array}\\n\\\\right]\\n x_n\\\\\\\\ x_0 & = & \\\\left[\\n\\\\begin{array}{*{20}c}\\n. \\\\\\\\\\n. \\\\\\\\\\n. \\\\\\\\\\n. \\\\\\\\\\n. \\\\\\\\\\n\\\\end{array}\\n\\\\right]\\n\\\\end{array}\\\\right.\\$\""
      ]
     },
     "execution_count": 17,
     "metadata": {},
     "output_type": "execute_result"
    }
   ],
   "source": [
    "S = S1 + S2; latexify(S)"
   ]
  },
  {
   "cell_type": "markdown",
   "metadata": {},
   "source": [
    "#### Diagonal composition"
   ]
  },
  {
   "cell_type": "code",
   "execution_count": 18,
   "metadata": {},
   "outputs": [
    {
     "data": {
      "text/latex": [
       "$S=\\left\\{\\begin{array}{lcl}\n",
       "x_n & = & \\left[\n",
       "\\begin{array}{*{20}c}\n",
       "0 & . & . & . & . \\\\\n",
       ". & 0 & . & . & . \\\\\n",
       ". & . & 0 & . & . \\\\\n",
       ". & . & . & 0 & . \\\\\n",
       ". & . & . & . & 0 \\\\\n",
       "\\end{array}\n",
       "\\right]\n",
       " x_n \\oplus \\left[\n",
       "\\begin{array}{*{20}c}\n",
       "1 & 2 & . & . & . \\\\\n",
       "3 & 4 & . & . & . \\\\\n",
       ". & . & 1 & 2 & 3 \\\\\n",
       ". & . & 4 & 5 & 6 \\\\\n",
       ". & . & 7 & 8 & 9 \\\\\n",
       "\\end{array}\n",
       "\\right]\n",
       " x_{n-1} \\oplus \\left[\n",
       "\\begin{array}{*{20}c}\n",
       "0 & . \\\\\n",
       "0 & . \\\\\n",
       ". & 0 \\\\\n",
       ". & 0 \\\\\n",
       ". & 0 \\\\\n",
       "\\end{array}\n",
       "\\right]\n",
       " u_n\\\\ y_n & = & \\left[\n",
       "\\begin{array}{*{20}c}\n",
       "0 & 0 & . & . & . \\\\\n",
       ". & . & 0 & 0 & 0 \\\\\n",
       "\\end{array}\n",
       "\\right]\n",
       " x_n\\\\ x_0 & = & \\left[\n",
       "\\begin{array}{*{20}c}\n",
       ". \\\\\n",
       ". \\\\\n",
       ". \\\\\n",
       ". \\\\\n",
       ". \\\\\n",
       "\\end{array}\n",
       "\\right]\n",
       "\\end{array}\\right.$"
      ],
      "text/plain": [
       "\"\\$S=\\\\left\\\\{\\\\begin{array}{lcl}\\nx_n & = & \\\\left[\\n\\\\begin{array}{*{20}c}\\n0 & . & . & . & . \\\\\\\\\\n. & 0 & . & . & . \\\\\\\\\\n. & . & 0 & . & . \\\\\\\\\\n. & . & . & 0 & . \\\\\\\\\\n. & . & . & . & 0 \\\\\\\\\\n\\\\end{array}\\n\\\\right]\\n x_n \\\\oplus \\\\left[\\n\\\\begin{array}{*{20}c}\\n1 & 2 & . & . & . \\\\\\\\\\n3 & 4 & . & . & \" ⋯ 146 bytes ⋯ \". \\\\\\\\\\n. & 0 \\\\\\\\\\n. & 0 \\\\\\\\\\n. & 0 \\\\\\\\\\n\\\\end{array}\\n\\\\right]\\n u_n\\\\\\\\ y_n & = & \\\\left[\\n\\\\begin{array}{*{20}c}\\n0 & 0 & . & . & . \\\\\\\\\\n. & . & 0 & 0 & 0 \\\\\\\\\\n\\\\end{array}\\n\\\\right]\\n x_n\\\\\\\\ x_0 & = & \\\\left[\\n\\\\begin{array}{*{20}c}\\n. \\\\\\\\\\n. \\\\\\\\\\n. \\\\\\\\\\n. \\\\\\\\\\n. \\\\\\\\\\n\\\\end{array}\\n\\\\right]\\n\\\\end{array}\\\\right.\\$\""
      ]
     },
     "execution_count": 18,
     "metadata": {},
     "output_type": "execute_result"
    }
   ],
   "source": [
    "S = S1 | S2; latexify(S)"
   ]
  },
  {
   "cell_type": "markdown",
   "metadata": {},
   "source": [
    "#### Serial composition"
   ]
  },
  {
   "cell_type": "code",
   "execution_count": 19,
   "metadata": {},
   "outputs": [
    {
     "data": {
      "text/latex": [
       "$S=\\left\\{\\begin{array}{lcl}\n",
       "x_n & = & \\left[\n",
       "\\begin{array}{*{20}c}\n",
       "0 & . & . & . & . \\\\\n",
       ". & 0 & . & . & . \\\\\n",
       ". & . & 0 & . & . \\\\\n",
       "0 & 0 & 0 & 0 & . \\\\\n",
       "0 & 0 & 0 & . & 0 \\\\\n",
       "\\end{array}\n",
       "\\right]\n",
       " x_n \\oplus \\left[\n",
       "\\begin{array}{*{20}c}\n",
       "1 & 2 & 3 & . & . \\\\\n",
       "4 & 5 & 6 & . & . \\\\\n",
       "7 & 8 & 9 & . & . \\\\\n",
       ". & . & . & 1 & 2 \\\\\n",
       ". & . & . & 3 & 4 \\\\\n",
       "\\end{array}\n",
       "\\right]\n",
       " x_{n-1} \\oplus \\left[\n",
       "\\begin{array}{*{20}c}\n",
       "0 \\\\\n",
       "0 \\\\\n",
       "0 \\\\\n",
       ". \\\\\n",
       ". \\\\\n",
       "\\end{array}\n",
       "\\right]\n",
       " u_n\\\\ y_n & = & \\left[\n",
       "\\begin{array}{*{20}c}\n",
       ". & . & . & 0 & 0 \\\\\n",
       "\\end{array}\n",
       "\\right]\n",
       " x_n\\\\ x_0 & = & \\left[\n",
       "\\begin{array}{*{20}c}\n",
       ". \\\\\n",
       ". \\\\\n",
       ". \\\\\n",
       ". \\\\\n",
       ". \\\\\n",
       "\\end{array}\n",
       "\\right]\n",
       "\\end{array}\\right.$"
      ],
      "text/plain": [
       "\"\\$S=\\\\left\\\\{\\\\begin{array}{lcl}\\nx_n & = & \\\\left[\\n\\\\begin{array}{*{20}c}\\n0 & . & . & . & . \\\\\\\\\\n. & 0 & . & . & . \\\\\\\\\\n. & . & 0 & . & . \\\\\\\\\\n0 & 0 & 0 & 0 & . \\\\\\\\\\n0 & 0 & 0 & . & 0 \\\\\\\\\\n\\\\end{array}\\n\\\\right]\\n x_n \\\\oplus \\\\left[\\n\\\\begin{array}{*{20}c}\\n1 & 2 & 3 & . & . \\\\\\\\\\n4 & 5 & 6 & . & \" ⋯ 105 bytes ⋯ \"left[\\n\\\\begin{array}{*{20}c}\\n0 \\\\\\\\\\n0 \\\\\\\\\\n0 \\\\\\\\\\n. \\\\\\\\\\n. \\\\\\\\\\n\\\\end{array}\\n\\\\right]\\n u_n\\\\\\\\ y_n & = & \\\\left[\\n\\\\begin{array}{*{20}c}\\n. & . & . & 0 & 0 \\\\\\\\\\n\\\\end{array}\\n\\\\right]\\n x_n\\\\\\\\ x_0 & = & \\\\left[\\n\\\\begin{array}{*{20}c}\\n. \\\\\\\\\\n. \\\\\\\\\\n. \\\\\\\\\\n. \\\\\\\\\\n. \\\\\\\\\\n\\\\end{array}\\n\\\\right]\\n\\\\end{array}\\\\right.\\$\""
      ]
     },
     "execution_count": 19,
     "metadata": {},
     "output_type": "execute_result"
    }
   ],
   "source": [
    "S = S1 * S2; latexify(S)"
   ]
  },
  {
   "cell_type": "markdown",
   "metadata": {},
   "source": [
    "#### Common entrances"
   ]
  },
  {
   "cell_type": "code",
   "execution_count": 20,
   "metadata": {},
   "outputs": [
    {
     "data": {
      "text/latex": [
       "$S=\\left\\{\\begin{array}{lcl}\n",
       "x_n & = & \\left[\n",
       "\\begin{array}{*{20}c}\n",
       "0 & . & . & . & . \\\\\n",
       ". & 0 & . & . & . \\\\\n",
       ". & . & 0 & . & . \\\\\n",
       ". & . & . & 0 & . \\\\\n",
       ". & . & . & . & 0 \\\\\n",
       "\\end{array}\n",
       "\\right]\n",
       " x_n \\oplus \\left[\n",
       "\\begin{array}{*{20}c}\n",
       "1 & 2 & . & . & . \\\\\n",
       "3 & 4 & . & . & . \\\\\n",
       ". & . & 1 & 2 & 3 \\\\\n",
       ". & . & 4 & 5 & 6 \\\\\n",
       ". & . & 7 & 8 & 9 \\\\\n",
       "\\end{array}\n",
       "\\right]\n",
       " x_{n-1} \\oplus \\left[\n",
       "\\begin{array}{*{20}c}\n",
       "0 & . \\\\\n",
       "0 & . \\\\\n",
       ". & 0 \\\\\n",
       ". & 0 \\\\\n",
       ". & 0 \\\\\n",
       "\\end{array}\n",
       "\\right]\n",
       " u_n\\\\ y_n & = & \\left[\n",
       "\\begin{array}{*{20}c}\n",
       "0 & 0 & 0 & 0 & 0 \\\\\n",
       "\\end{array}\n",
       "\\right]\n",
       " x_n\\\\ x_0 & = & \\left[\n",
       "\\begin{array}{*{20}c}\n",
       ". \\\\\n",
       ". \\\\\n",
       ". \\\\\n",
       ". \\\\\n",
       ". \\\\\n",
       "\\end{array}\n",
       "\\right]\n",
       "\\end{array}\\right.$"
      ],
      "text/plain": [
       "\"\\$S=\\\\left\\\\{\\\\begin{array}{lcl}\\nx_n & = & \\\\left[\\n\\\\begin{array}{*{20}c}\\n0 & . & . & . & . \\\\\\\\\\n. & 0 & . & . & . \\\\\\\\\\n. & . & 0 & . & . \\\\\\\\\\n. & . & . & 0 & . \\\\\\\\\\n. & . & . & . & 0 \\\\\\\\\\n\\\\end{array}\\n\\\\right]\\n x_n \\\\oplus \\\\left[\\n\\\\begin{array}{*{20}c}\\n1 & 2 & . & . & . \\\\\\\\\\n3 & 4 & . & . & \" ⋯ 125 bytes ⋯ \"*{20}c}\\n0 & . \\\\\\\\\\n0 & . \\\\\\\\\\n. & 0 \\\\\\\\\\n. & 0 \\\\\\\\\\n. & 0 \\\\\\\\\\n\\\\end{array}\\n\\\\right]\\n u_n\\\\\\\\ y_n & = & \\\\left[\\n\\\\begin{array}{*{20}c}\\n0 & 0 & 0 & 0 & 0 \\\\\\\\\\n\\\\end{array}\\n\\\\right]\\n x_n\\\\\\\\ x_0 & = & \\\\left[\\n\\\\begin{array}{*{20}c}\\n. \\\\\\\\\\n. \\\\\\\\\\n. \\\\\\\\\\n. \\\\\\\\\\n. \\\\\\\\\\n\\\\end{array}\\n\\\\right]\\n\\\\end{array}\\\\right.\\$\""
      ]
     },
     "execution_count": 20,
     "metadata": {},
     "output_type": "execute_result"
    }
   ],
   "source": [
    "S = [S1 S2]; latexify(S)"
   ]
  },
  {
   "cell_type": "markdown",
   "metadata": {},
   "source": [
    "#### Common outputs"
   ]
  },
  {
   "cell_type": "code",
   "execution_count": 21,
   "metadata": {},
   "outputs": [
    {
     "data": {
      "text/latex": [
       "$S=\\left\\{\\begin{array}{lcl}\n",
       "x_n & = & \\left[\n",
       "\\begin{array}{*{20}c}\n",
       "0 & . & . & . & . \\\\\n",
       ". & 0 & . & . & . \\\\\n",
       ". & . & 0 & . & . \\\\\n",
       ". & . & . & 0 & . \\\\\n",
       ". & . & . & . & 0 \\\\\n",
       "\\end{array}\n",
       "\\right]\n",
       " x_n \\oplus \\left[\n",
       "\\begin{array}{*{20}c}\n",
       "1 & 2 & . & . & . \\\\\n",
       "3 & 4 & . & . & . \\\\\n",
       ". & . & 1 & 2 & 3 \\\\\n",
       ". & . & 4 & 5 & 6 \\\\\n",
       ". & . & 7 & 8 & 9 \\\\\n",
       "\\end{array}\n",
       "\\right]\n",
       " x_{n-1} \\oplus \\left[\n",
       "\\begin{array}{*{20}c}\n",
       "0 \\\\\n",
       "0 \\\\\n",
       "0 \\\\\n",
       "0 \\\\\n",
       "0 \\\\\n",
       "\\end{array}\n",
       "\\right]\n",
       " u_n\\\\ y_n & = & \\left[\n",
       "\\begin{array}{*{20}c}\n",
       "0 & 0 & . & . & . \\\\\n",
       ". & . & 0 & 0 & 0 \\\\\n",
       "\\end{array}\n",
       "\\right]\n",
       " x_n\\\\ x_0 & = & \\left[\n",
       "\\begin{array}{*{20}c}\n",
       ". \\\\\n",
       ". \\\\\n",
       ". \\\\\n",
       ". \\\\\n",
       ". \\\\\n",
       "\\end{array}\n",
       "\\right]\n",
       "\\end{array}\\right.$"
      ],
      "text/plain": [
       "\"\\$S=\\\\left\\\\{\\\\begin{array}{lcl}\\nx_n & = & \\\\left[\\n\\\\begin{array}{*{20}c}\\n0 & . & . & . & . \\\\\\\\\\n. & 0 & . & . & . \\\\\\\\\\n. & . & 0 & . & . \\\\\\\\\\n. & . & . & 0 & . \\\\\\\\\\n. & . & . & . & 0 \\\\\\\\\\n\\\\end{array}\\n\\\\right]\\n x_n \\\\oplus \\\\left[\\n\\\\begin{array}{*{20}c}\\n1 & 2 & . & . & . \\\\\\\\\\n3 & 4 & . & . & \" ⋯ 126 bytes ⋯ \"{20}c}\\n0 \\\\\\\\\\n0 \\\\\\\\\\n0 \\\\\\\\\\n0 \\\\\\\\\\n0 \\\\\\\\\\n\\\\end{array}\\n\\\\right]\\n u_n\\\\\\\\ y_n & = & \\\\left[\\n\\\\begin{array}{*{20}c}\\n0 & 0 & . & . & . \\\\\\\\\\n. & . & 0 & 0 & 0 \\\\\\\\\\n\\\\end{array}\\n\\\\right]\\n x_n\\\\\\\\ x_0 & = & \\\\left[\\n\\\\begin{array}{*{20}c}\\n. \\\\\\\\\\n. \\\\\\\\\\n. \\\\\\\\\\n. \\\\\\\\\\n. \\\\\\\\\\n\\\\end{array}\\n\\\\right]\\n\\\\end{array}\\\\right.\\$\""
      ]
     },
     "execution_count": 21,
     "metadata": {},
     "output_type": "execute_result"
    }
   ],
   "source": [
    "S = [S1; S2]; latexify(S)"
   ]
  },
  {
   "cell_type": "markdown",
   "metadata": {},
   "source": [
    "#### Composition with feedback"
   ]
  },
  {
   "cell_type": "code",
   "execution_count": 22,
   "metadata": {},
   "outputs": [
    {
     "data": {
      "text/latex": [
       "$S=\\left\\{\\begin{array}{lcl}\n",
       "x_n & = & \\left[\n",
       "\\begin{array}{*{20}c}\n",
       "0 & . & 0 & 0 & 0 \\\\\n",
       ". & 0 & 0 & 0 & 0 \\\\\n",
       "0 & 0 & 0 & . & . \\\\\n",
       "0 & 0 & . & 0 & . \\\\\n",
       "0 & 0 & . & . & 0 \\\\\n",
       "\\end{array}\n",
       "\\right]\n",
       " x_n \\oplus \\left[\n",
       "\\begin{array}{*{20}c}\n",
       "1 & 2 & . & . & . \\\\\n",
       "3 & 4 & . & . & . \\\\\n",
       ". & . & 1 & 2 & 3 \\\\\n",
       ". & . & 4 & 5 & 6 \\\\\n",
       ". & . & 7 & 8 & 9 \\\\\n",
       "\\end{array}\n",
       "\\right]\n",
       " x_{n-1} \\oplus \\left[\n",
       "\\begin{array}{*{20}c}\n",
       "0 \\\\\n",
       "0 \\\\\n",
       ". \\\\\n",
       ". \\\\\n",
       ". \\\\\n",
       "\\end{array}\n",
       "\\right]\n",
       " u_n\\\\ y_n & = & \\left[\n",
       "\\begin{array}{*{20}c}\n",
       "0 & 0 & . & . & . \\\\\n",
       "\\end{array}\n",
       "\\right]\n",
       " x_n\\\\ x_0 & = & \\left[\n",
       "\\begin{array}{*{20}c}\n",
       ". \\\\\n",
       ". \\\\\n",
       ". \\\\\n",
       ". \\\\\n",
       ". \\\\\n",
       "\\end{array}\n",
       "\\right]\n",
       "\\end{array}\\right.$"
      ],
      "text/plain": [
       "\"\\$S=\\\\left\\\\{\\\\begin{array}{lcl}\\nx_n & = & \\\\left[\\n\\\\begin{array}{*{20}c}\\n0 & . & 0 & 0 & 0 \\\\\\\\\\n. & 0 & 0 & 0 & 0 \\\\\\\\\\n0 & 0 & 0 & . & . \\\\\\\\\\n0 & 0 & . & 0 & . \\\\\\\\\\n0 & 0 & . & . & 0 \\\\\\\\\\n\\\\end{array}\\n\\\\right]\\n x_n \\\\oplus \\\\left[\\n\\\\begin{array}{*{20}c}\\n1 & 2 & . & . & . \\\\\\\\\\n3 & 4 & . & . & \" ⋯ 105 bytes ⋯ \"left[\\n\\\\begin{array}{*{20}c}\\n0 \\\\\\\\\\n0 \\\\\\\\\\n. \\\\\\\\\\n. \\\\\\\\\\n. \\\\\\\\\\n\\\\end{array}\\n\\\\right]\\n u_n\\\\\\\\ y_n & = & \\\\left[\\n\\\\begin{array}{*{20}c}\\n0 & 0 & . & . & . \\\\\\\\\\n\\\\end{array}\\n\\\\right]\\n x_n\\\\\\\\ x_0 & = & \\\\left[\\n\\\\begin{array}{*{20}c}\\n. \\\\\\\\\\n. \\\\\\\\\\n. \\\\\\\\\\n. \\\\\\\\\\n. \\\\\\\\\\n\\\\end{array}\\n\\\\right]\\n\\\\end{array}\\\\right.\\$\""
      ]
     },
     "execution_count": 22,
     "metadata": {},
     "output_type": "execute_result"
    }
   ],
   "source": [
    "S = S1 / S2; latexify(S)"
   ]
  },
  {
   "cell_type": "markdown",
   "metadata": {},
   "source": [
    "## Conversion from Max-Plus implicit system to Max-Plus explicit system"
   ]
  },
  {
   "cell_type": "code",
   "execution_count": 23,
   "metadata": {},
   "outputs": [],
   "source": [
    "# TODO S = mpexplicit(S1); latexify(S)"
   ]
  },
  {
   "cell_type": "markdown",
   "metadata": {},
   "source": [
    "## Max-Plus Linear System Simulation\n",
    "\n",
    "The function `mpsimul` returns the states $X(n)$ (or the last state) of a Max-Plus linear system by injecting data $U(n)$ Max-Plus as a vector."
   ]
  },
  {
   "cell_type": "code",
   "execution_count": 24,
   "metadata": {},
   "outputs": [
    {
     "data": {
      "text/plain": [
       "9×1 (max,+) dense matrix:\n",
       "   1\n",
       "   5\n",
       "   9\n",
       "  13\n",
       "  17\n",
       "  21\n",
       "  25\n",
       "  29\n",
       "  33\n"
      ]
     },
     "execution_count": 24,
     "metadata": {},
     "output_type": "execute_result"
    }
   ],
   "source": [
    "u = Vector(MP(1:0.5:5))\n",
    "y = mpsimul(S, u, true) # Return the history of states"
   ]
  },
  {
   "cell_type": "code",
   "execution_count": 25,
   "metadata": {},
   "outputs": [
    {
     "data": {
      "text/plain": [
       "1-element (max,+) vector:\n",
       "  33\n"
      ]
     },
     "execution_count": 25,
     "metadata": {},
     "output_type": "execute_result"
    }
   ],
   "source": [
    "mpsimul(S, u, false) #  Return the last computed state"
   ]
  },
  {
   "cell_type": "markdown",
   "metadata": {},
   "source": [
    "The result can be plotted directly from the Max-Plus numbers."
   ]
  },
  {
   "cell_type": "code",
   "execution_count": 26,
   "metadata": {},
   "outputs": [],
   "source": [
    "using Plots"
   ]
  },
  {
   "cell_type": "code",
   "execution_count": 27,
   "metadata": {
    "scrolled": false
   },
   "outputs": [
    {
     "data": {
      "image/svg+xml": [
       "<?xml version=\"1.0\" encoding=\"utf-8\"?>\n",
       "<svg xmlns=\"http://www.w3.org/2000/svg\" xmlns:xlink=\"http://www.w3.org/1999/xlink\" width=\"600\" height=\"400\" viewBox=\"0 0 2400 1600\">\n",
       "<defs>\n",
       "  <clipPath id=\"clip130\">\n",
       "    <rect x=\"0\" y=\"0\" width=\"2400\" height=\"1600\"/>\n",
       "  </clipPath>\n",
       "</defs>\n",
       "<path clip-path=\"url(#clip130)\" d=\"M0 1600 L2400 1600 L2400 0 L0 0  Z\" fill=\"#ffffff\" fill-rule=\"evenodd\" fill-opacity=\"1\"/>\n",
       "<defs>\n",
       "  <clipPath id=\"clip131\">\n",
       "    <rect x=\"480\" y=\"0\" width=\"1681\" height=\"1600\"/>\n",
       "  </clipPath>\n",
       "</defs>\n",
       "<path clip-path=\"url(#clip130)\" d=\"M140.696 1486.45 L2352.76 1486.45 L2352.76 47.2441 L140.696 47.2441  Z\" fill=\"#ffffff\" fill-rule=\"evenodd\" fill-opacity=\"1\"/>\n",
       "<defs>\n",
       "  <clipPath id=\"clip132\">\n",
       "    <rect x=\"140\" y=\"47\" width=\"2213\" height=\"1440\"/>\n",
       "  </clipPath>\n",
       "</defs>\n",
       "<polyline clip-path=\"url(#clip132)\" style=\"stroke:#000000; stroke-linecap:round; stroke-linejoin:round; stroke-width:2; stroke-opacity:0.1; fill:none\" points=\"203.301,1486.45 203.301,47.2441 \"/>\n",
       "<polyline clip-path=\"url(#clip132)\" style=\"stroke:#000000; stroke-linecap:round; stroke-linejoin:round; stroke-width:2; stroke-opacity:0.1; fill:none\" points=\"725.013,1486.45 725.013,47.2441 \"/>\n",
       "<polyline clip-path=\"url(#clip132)\" style=\"stroke:#000000; stroke-linecap:round; stroke-linejoin:round; stroke-width:2; stroke-opacity:0.1; fill:none\" points=\"1246.73,1486.45 1246.73,47.2441 \"/>\n",
       "<polyline clip-path=\"url(#clip132)\" style=\"stroke:#000000; stroke-linecap:round; stroke-linejoin:round; stroke-width:2; stroke-opacity:0.1; fill:none\" points=\"1768.44,1486.45 1768.44,47.2441 \"/>\n",
       "<polyline clip-path=\"url(#clip132)\" style=\"stroke:#000000; stroke-linecap:round; stroke-linejoin:round; stroke-width:2; stroke-opacity:0.1; fill:none\" points=\"2290.15,1486.45 2290.15,47.2441 \"/>\n",
       "<polyline clip-path=\"url(#clip130)\" style=\"stroke:#000000; stroke-linecap:round; stroke-linejoin:round; stroke-width:4; stroke-opacity:1; fill:none\" points=\"140.696,1486.45 2352.76,1486.45 \"/>\n",
       "<polyline clip-path=\"url(#clip130)\" style=\"stroke:#000000; stroke-linecap:round; stroke-linejoin:round; stroke-width:4; stroke-opacity:1; fill:none\" points=\"203.301,1486.45 203.301,1467.55 \"/>\n",
       "<polyline clip-path=\"url(#clip130)\" style=\"stroke:#000000; stroke-linecap:round; stroke-linejoin:round; stroke-width:4; stroke-opacity:1; fill:none\" points=\"725.013,1486.45 725.013,1467.55 \"/>\n",
       "<polyline clip-path=\"url(#clip130)\" style=\"stroke:#000000; stroke-linecap:round; stroke-linejoin:round; stroke-width:4; stroke-opacity:1; fill:none\" points=\"1246.73,1486.45 1246.73,1467.55 \"/>\n",
       "<polyline clip-path=\"url(#clip130)\" style=\"stroke:#000000; stroke-linecap:round; stroke-linejoin:round; stroke-width:4; stroke-opacity:1; fill:none\" points=\"1768.44,1486.45 1768.44,1467.55 \"/>\n",
       "<polyline clip-path=\"url(#clip130)\" style=\"stroke:#000000; stroke-linecap:round; stroke-linejoin:round; stroke-width:4; stroke-opacity:1; fill:none\" points=\"2290.15,1486.45 2290.15,1467.55 \"/>\n",
       "<path clip-path=\"url(#clip130)\" d=\"M193.683 1544.91 L201.322 1544.91 L201.322 1518.55 L193.012 1520.21 L193.012 1515.95 L201.276 1514.29 L205.951 1514.29 L205.951 1544.91 L213.59 1544.91 L213.59 1548.85 L193.683 1548.85 L193.683 1544.91 Z\" fill=\"#000000\" fill-rule=\"evenodd\" fill-opacity=\"1\" /><path clip-path=\"url(#clip130)\" d=\"M719.666 1544.91 L735.986 1544.91 L735.986 1548.85 L714.041 1548.85 L714.041 1544.91 Q716.703 1542.16 721.287 1537.53 Q725.893 1532.88 727.074 1531.53 Q729.319 1529.01 730.199 1527.27 Q731.101 1525.51 731.101 1523.82 Q731.101 1521.07 729.157 1519.33 Q727.236 1517.6 724.134 1517.6 Q721.935 1517.6 719.481 1518.36 Q717.05 1519.13 714.273 1520.68 L714.273 1515.95 Q717.097 1514.82 719.55 1514.24 Q722.004 1513.66 724.041 1513.66 Q729.411 1513.66 732.606 1516.35 Q735.8 1519.03 735.8 1523.52 Q735.8 1525.65 734.99 1527.57 Q734.203 1529.47 732.097 1532.07 Q731.518 1532.74 728.416 1535.95 Q725.314 1539.15 719.666 1544.91 Z\" fill=\"#000000\" fill-rule=\"evenodd\" fill-opacity=\"1\" /><path clip-path=\"url(#clip130)\" d=\"M1250.97 1530.21 Q1254.33 1530.93 1256.2 1533.2 Q1258.1 1535.47 1258.1 1538.8 Q1258.1 1543.92 1254.58 1546.72 Q1251.07 1549.52 1244.58 1549.52 Q1242.41 1549.52 1240.09 1549.08 Q1237.8 1548.66 1235.35 1547.81 L1235.35 1543.29 Q1237.29 1544.43 1239.61 1545.01 Q1241.92 1545.58 1244.45 1545.58 Q1248.84 1545.58 1251.14 1543.85 Q1253.45 1542.11 1253.45 1538.8 Q1253.45 1535.75 1251.3 1534.03 Q1249.17 1532.3 1245.35 1532.3 L1241.32 1532.3 L1241.32 1528.45 L1245.53 1528.45 Q1248.98 1528.45 1250.81 1527.09 Q1252.64 1525.7 1252.64 1523.11 Q1252.64 1520.45 1250.74 1519.03 Q1248.87 1517.6 1245.35 1517.6 Q1243.43 1517.6 1241.23 1518.01 Q1239.03 1518.43 1236.39 1519.31 L1236.39 1515.14 Q1239.05 1514.4 1241.37 1514.03 Q1243.7 1513.66 1245.77 1513.66 Q1251.09 1513.66 1254.19 1516.09 Q1257.29 1518.5 1257.29 1522.62 Q1257.29 1525.49 1255.65 1527.48 Q1254.01 1529.45 1250.97 1530.21 Z\" fill=\"#000000\" fill-rule=\"evenodd\" fill-opacity=\"1\" /><path clip-path=\"url(#clip130)\" d=\"M1771.45 1518.36 L1759.64 1536.81 L1771.45 1536.81 L1771.45 1518.36 M1770.22 1514.29 L1776.1 1514.29 L1776.1 1536.81 L1781.03 1536.81 L1781.03 1540.7 L1776.1 1540.7 L1776.1 1548.85 L1771.45 1548.85 L1771.45 1540.7 L1755.85 1540.7 L1755.85 1536.19 L1770.22 1514.29 Z\" fill=\"#000000\" fill-rule=\"evenodd\" fill-opacity=\"1\" /><path clip-path=\"url(#clip130)\" d=\"M2280.43 1514.29 L2298.78 1514.29 L2298.78 1518.22 L2284.71 1518.22 L2284.71 1526.7 Q2285.73 1526.35 2286.75 1526.19 Q2287.77 1526 2288.78 1526 Q2294.57 1526 2297.95 1529.17 Q2301.33 1532.34 2301.33 1537.76 Q2301.33 1543.34 2297.86 1546.44 Q2294.39 1549.52 2288.07 1549.52 Q2285.89 1549.52 2283.62 1549.15 Q2281.38 1548.78 2278.97 1548.04 L2278.97 1543.34 Q2281.05 1544.47 2283.28 1545.03 Q2285.5 1545.58 2287.97 1545.58 Q2291.98 1545.58 2294.32 1543.48 Q2296.66 1541.37 2296.66 1537.76 Q2296.66 1534.15 2294.32 1532.04 Q2291.98 1529.94 2287.97 1529.94 Q2286.1 1529.94 2284.22 1530.35 Q2282.37 1530.77 2280.43 1531.65 L2280.43 1514.29 Z\" fill=\"#000000\" fill-rule=\"evenodd\" fill-opacity=\"1\" /><polyline clip-path=\"url(#clip132)\" style=\"stroke:#000000; stroke-linecap:round; stroke-linejoin:round; stroke-width:2; stroke-opacity:0.1; fill:none\" points=\"140.696,1276 2352.76,1276 \"/>\n",
       "<polyline clip-path=\"url(#clip132)\" style=\"stroke:#000000; stroke-linecap:round; stroke-linejoin:round; stroke-width:2; stroke-opacity:0.1; fill:none\" points=\"140.696,1063.85 2352.76,1063.85 \"/>\n",
       "<polyline clip-path=\"url(#clip132)\" style=\"stroke:#000000; stroke-linecap:round; stroke-linejoin:round; stroke-width:2; stroke-opacity:0.1; fill:none\" points=\"140.696,851.705 2352.76,851.705 \"/>\n",
       "<polyline clip-path=\"url(#clip132)\" style=\"stroke:#000000; stroke-linecap:round; stroke-linejoin:round; stroke-width:2; stroke-opacity:0.1; fill:none\" points=\"140.696,639.558 2352.76,639.558 \"/>\n",
       "<polyline clip-path=\"url(#clip132)\" style=\"stroke:#000000; stroke-linecap:round; stroke-linejoin:round; stroke-width:2; stroke-opacity:0.1; fill:none\" points=\"140.696,427.411 2352.76,427.411 \"/>\n",
       "<polyline clip-path=\"url(#clip132)\" style=\"stroke:#000000; stroke-linecap:round; stroke-linejoin:round; stroke-width:2; stroke-opacity:0.1; fill:none\" points=\"140.696,215.264 2352.76,215.264 \"/>\n",
       "<polyline clip-path=\"url(#clip130)\" style=\"stroke:#000000; stroke-linecap:round; stroke-linejoin:round; stroke-width:4; stroke-opacity:1; fill:none\" points=\"140.696,1486.45 140.696,47.2441 \"/>\n",
       "<polyline clip-path=\"url(#clip130)\" style=\"stroke:#000000; stroke-linecap:round; stroke-linejoin:round; stroke-width:4; stroke-opacity:1; fill:none\" points=\"140.696,1276 159.593,1276 \"/>\n",
       "<polyline clip-path=\"url(#clip130)\" style=\"stroke:#000000; stroke-linecap:round; stroke-linejoin:round; stroke-width:4; stroke-opacity:1; fill:none\" points=\"140.696,1063.85 159.593,1063.85 \"/>\n",
       "<polyline clip-path=\"url(#clip130)\" style=\"stroke:#000000; stroke-linecap:round; stroke-linejoin:round; stroke-width:4; stroke-opacity:1; fill:none\" points=\"140.696,851.705 159.593,851.705 \"/>\n",
       "<polyline clip-path=\"url(#clip130)\" style=\"stroke:#000000; stroke-linecap:round; stroke-linejoin:round; stroke-width:4; stroke-opacity:1; fill:none\" points=\"140.696,639.558 159.593,639.558 \"/>\n",
       "<polyline clip-path=\"url(#clip130)\" style=\"stroke:#000000; stroke-linecap:round; stroke-linejoin:round; stroke-width:4; stroke-opacity:1; fill:none\" points=\"140.696,427.411 159.593,427.411 \"/>\n",
       "<polyline clip-path=\"url(#clip130)\" style=\"stroke:#000000; stroke-linecap:round; stroke-linejoin:round; stroke-width:4; stroke-opacity:1; fill:none\" points=\"140.696,215.264 159.593,215.264 \"/>\n",
       "<path clip-path=\"url(#clip130)\" d=\"M83.7929 1258.72 L102.149 1258.72 L102.149 1262.65 L88.0753 1262.65 L88.0753 1271.13 Q89.0938 1270.78 90.1123 1270.62 Q91.1308 1270.43 92.1493 1270.43 Q97.9363 1270.43 101.316 1273.6 Q104.696 1276.77 104.696 1282.19 Q104.696 1287.77 101.223 1290.87 Q97.7511 1293.95 91.4317 1293.95 Q89.2558 1293.95 86.9873 1293.58 Q84.7419 1293.21 82.3346 1292.47 L82.3346 1287.77 Q84.4179 1288.9 86.6401 1289.46 Q88.8623 1290.01 91.3391 1290.01 Q95.3437 1290.01 97.6817 1287.91 Q100.02 1285.8 100.02 1282.19 Q100.02 1278.58 97.6817 1276.47 Q95.3437 1274.37 91.3391 1274.37 Q89.4641 1274.37 87.5892 1274.78 Q85.7373 1275.2 83.7929 1276.08 L83.7929 1258.72 Z\" fill=\"#000000\" fill-rule=\"evenodd\" fill-opacity=\"1\" /><path clip-path=\"url(#clip130)\" d=\"M53.3995 1077.2 L61.0384 1077.2 L61.0384 1050.83 L52.7282 1052.5 L52.7282 1048.24 L60.9921 1046.57 L65.668 1046.57 L65.668 1077.2 L73.3068 1077.2 L73.3068 1081.13 L53.3995 1081.13 L53.3995 1077.2 Z\" fill=\"#000000\" fill-rule=\"evenodd\" fill-opacity=\"1\" /><path clip-path=\"url(#clip130)\" d=\"M92.7512 1049.65 Q89.1401 1049.65 87.3114 1053.21 Q85.5058 1056.76 85.5058 1063.89 Q85.5058 1070.99 87.3114 1074.56 Q89.1401 1078.1 92.7512 1078.1 Q96.3854 1078.1 98.1909 1074.56 Q100.02 1070.99 100.02 1063.89 Q100.02 1056.76 98.1909 1053.21 Q96.3854 1049.65 92.7512 1049.65 M92.7512 1045.95 Q98.5613 1045.95 101.617 1050.55 Q104.696 1055.14 104.696 1063.89 Q104.696 1072.61 101.617 1077.22 Q98.5613 1081.8 92.7512 1081.8 Q86.941 1081.8 83.8623 1077.22 Q80.8068 1072.61 80.8068 1063.89 Q80.8068 1055.14 83.8623 1050.55 Q86.941 1045.95 92.7512 1045.95 Z\" fill=\"#000000\" fill-rule=\"evenodd\" fill-opacity=\"1\" /><path clip-path=\"url(#clip130)\" d=\"M54.3949 865.05 L62.0337 865.05 L62.0337 838.684 L53.7236 840.351 L53.7236 836.091 L61.9874 834.425 L66.6633 834.425 L66.6633 865.05 L74.3022 865.05 L74.3022 868.985 L54.3949 868.985 L54.3949 865.05 Z\" fill=\"#000000\" fill-rule=\"evenodd\" fill-opacity=\"1\" /><path clip-path=\"url(#clip130)\" d=\"M83.7929 834.425 L102.149 834.425 L102.149 838.36 L88.0753 838.36 L88.0753 846.832 Q89.0938 846.485 90.1123 846.323 Q91.1308 846.138 92.1493 846.138 Q97.9363 846.138 101.316 849.309 Q104.696 852.48 104.696 857.897 Q104.696 863.475 101.223 866.577 Q97.7511 869.656 91.4317 869.656 Q89.2558 869.656 86.9873 869.286 Q84.7419 868.915 82.3346 868.175 L82.3346 863.475 Q84.4179 864.61 86.6401 865.165 Q88.8623 865.721 91.3391 865.721 Q95.3437 865.721 97.6817 863.614 Q100.02 861.508 100.02 857.897 Q100.02 854.286 97.6817 852.179 Q95.3437 850.073 91.3391 850.073 Q89.4641 850.073 87.5892 850.489 Q85.7373 850.906 83.7929 851.786 L83.7929 834.425 Z\" fill=\"#000000\" fill-rule=\"evenodd\" fill-opacity=\"1\" /><path clip-path=\"url(#clip130)\" d=\"M56.6171 652.903 L72.9365 652.903 L72.9365 656.838 L50.9921 656.838 L50.9921 652.903 Q53.6541 650.148 58.2375 645.519 Q62.8439 640.866 64.0245 639.523 Q66.2698 637 67.1494 635.264 Q68.0522 633.505 68.0522 631.815 Q68.0522 629.06 66.1078 627.324 Q64.1865 625.588 61.0847 625.588 Q58.8856 625.588 56.4319 626.352 Q54.0014 627.116 51.2236 628.667 L51.2236 623.945 Q54.0477 622.81 56.5014 622.232 Q58.955 621.653 60.9921 621.653 Q66.3624 621.653 69.5568 624.338 Q72.7513 627.023 72.7513 631.514 Q72.7513 633.644 71.9411 635.565 Q71.1541 637.463 69.0476 640.056 Q68.4689 640.727 65.367 643.944 Q62.2652 647.139 56.6171 652.903 Z\" fill=\"#000000\" fill-rule=\"evenodd\" fill-opacity=\"1\" /><path clip-path=\"url(#clip130)\" d=\"M92.7512 625.357 Q89.1401 625.357 87.3114 628.921 Q85.5058 632.463 85.5058 639.593 Q85.5058 646.699 87.3114 650.264 Q89.1401 653.806 92.7512 653.806 Q96.3854 653.806 98.1909 650.264 Q100.02 646.699 100.02 639.593 Q100.02 632.463 98.1909 628.921 Q96.3854 625.357 92.7512 625.357 M92.7512 621.653 Q98.5613 621.653 101.617 626.259 Q104.696 630.843 104.696 639.593 Q104.696 648.319 101.617 652.926 Q98.5613 657.509 92.7512 657.509 Q86.941 657.509 83.8623 652.926 Q80.8068 648.319 80.8068 639.593 Q80.8068 630.843 83.8623 626.259 Q86.941 621.653 92.7512 621.653 Z\" fill=\"#000000\" fill-rule=\"evenodd\" fill-opacity=\"1\" /><path clip-path=\"url(#clip130)\" d=\"M57.6125 440.756 L73.9318 440.756 L73.9318 444.691 L51.9875 444.691 L51.9875 440.756 Q54.6495 438.001 59.2328 433.372 Q63.8393 428.719 65.0198 427.376 Q67.2652 424.853 68.1448 423.117 Q69.0476 421.358 69.0476 419.668 Q69.0476 416.914 67.1032 415.177 Q65.1819 413.441 62.08 413.441 Q59.881 413.441 57.4273 414.205 Q54.9967 414.969 52.219 416.52 L52.219 411.798 Q55.043 410.664 57.4967 410.085 Q59.9504 409.506 61.9874 409.506 Q67.3578 409.506 70.5522 412.191 Q73.7466 414.876 73.7466 419.367 Q73.7466 421.497 72.9365 423.418 Q72.1494 425.316 70.0429 427.909 Q69.4642 428.58 66.3624 431.798 Q63.2606 434.992 57.6125 440.756 Z\" fill=\"#000000\" fill-rule=\"evenodd\" fill-opacity=\"1\" /><path clip-path=\"url(#clip130)\" d=\"M83.7929 410.131 L102.149 410.131 L102.149 414.066 L88.0753 414.066 L88.0753 422.538 Q89.0938 422.191 90.1123 422.029 Q91.1308 421.844 92.1493 421.844 Q97.9363 421.844 101.316 425.015 Q104.696 428.187 104.696 433.603 Q104.696 439.182 101.223 442.284 Q97.7511 445.362 91.4317 445.362 Q89.2558 445.362 86.9873 444.992 Q84.7419 444.622 82.3346 443.881 L82.3346 439.182 Q84.4179 440.316 86.6401 440.872 Q88.8623 441.427 91.3391 441.427 Q95.3437 441.427 97.6817 439.321 Q100.02 437.214 100.02 433.603 Q100.02 429.992 97.6817 427.886 Q95.3437 425.779 91.3391 425.779 Q89.4641 425.779 87.5892 426.196 Q85.7373 426.613 83.7929 427.492 L83.7929 410.131 Z\" fill=\"#000000\" fill-rule=\"evenodd\" fill-opacity=\"1\" /><path clip-path=\"url(#clip130)\" d=\"M66.7559 213.91 Q70.1124 214.628 71.9874 216.896 Q73.8855 219.165 73.8855 222.498 Q73.8855 227.614 70.367 230.415 Q66.8485 233.216 60.3671 233.216 Q58.1912 233.216 55.8764 232.776 Q53.5847 232.359 51.131 231.503 L51.131 226.989 Q53.0754 228.123 55.3903 228.702 Q57.7051 229.28 60.2282 229.28 Q64.6263 229.28 66.918 227.544 Q69.2328 225.808 69.2328 222.498 Q69.2328 219.443 67.08 217.73 Q64.9504 215.994 61.131 215.994 L57.1032 215.994 L57.1032 212.151 L61.3161 212.151 Q64.7652 212.151 66.5939 210.785 Q68.4226 209.396 68.4226 206.804 Q68.4226 204.142 66.5245 202.73 Q64.6495 201.295 61.131 201.295 Q59.2097 201.295 57.0106 201.711 Q54.8115 202.128 52.1727 203.007 L52.1727 198.841 Q54.8347 198.1 57.1495 197.73 Q59.4875 197.359 61.5476 197.359 Q66.8717 197.359 69.9735 199.79 Q73.0753 202.197 73.0753 206.318 Q73.0753 209.188 71.4318 211.179 Q69.7883 213.146 66.7559 213.91 Z\" fill=\"#000000\" fill-rule=\"evenodd\" fill-opacity=\"1\" /><path clip-path=\"url(#clip130)\" d=\"M92.7512 201.063 Q89.1401 201.063 87.3114 204.628 Q85.5058 208.169 85.5058 215.299 Q85.5058 222.406 87.3114 225.97 Q89.1401 229.512 92.7512 229.512 Q96.3854 229.512 98.1909 225.97 Q100.02 222.406 100.02 215.299 Q100.02 208.169 98.1909 204.628 Q96.3854 201.063 92.7512 201.063 M92.7512 197.359 Q98.5613 197.359 101.617 201.966 Q104.696 206.549 104.696 215.299 Q104.696 224.026 101.617 228.632 Q98.5613 233.216 92.7512 233.216 Q86.941 233.216 83.8623 228.632 Q80.8068 224.026 80.8068 215.299 Q80.8068 206.549 83.8623 201.966 Q86.941 197.359 92.7512 197.359 Z\" fill=\"#000000\" fill-rule=\"evenodd\" fill-opacity=\"1\" /><polyline clip-path=\"url(#clip132)\" style=\"stroke:#009af9; stroke-linecap:round; stroke-linejoin:round; stroke-width:4; stroke-opacity:1; fill:none\" points=\"203.301,1445.72 464.157,1276 725.013,1106.28 985.87,936.563 1246.73,766.846 1507.58,597.129 1768.44,427.411 2029.29,257.694 2290.15,87.9763 \"/>\n",
       "<path clip-path=\"url(#clip130)\" d=\"M214.431 198.898 L755.219 198.898 L755.219 95.2176 L214.431 95.2176  Z\" fill=\"#ffffff\" fill-rule=\"evenodd\" fill-opacity=\"1\"/>\n",
       "<polyline clip-path=\"url(#clip130)\" style=\"stroke:#000000; stroke-linecap:round; stroke-linejoin:round; stroke-width:4; stroke-opacity:1; fill:none\" points=\"214.431,198.898 755.219,198.898 755.219,95.2176 214.431,95.2176 214.431,198.898 \"/>\n",
       "<polyline clip-path=\"url(#clip130)\" style=\"stroke:#009af9; stroke-linecap:round; stroke-linejoin:round; stroke-width:4; stroke-opacity:1; fill:none\" points=\"239.009,147.058 386.48,147.058 \"/>\n",
       "<path clip-path=\"url(#clip130)\" d=\"M411.058 128.319 L420.873 128.319 L420.873 131.629 L415.318 131.629 L415.318 167.277 L420.873 167.277 L420.873 170.588 L411.058 170.588 L411.058 128.319 Z\" fill=\"#000000\" fill-rule=\"evenodd\" fill-opacity=\"1\" /><path clip-path=\"url(#clip130)\" d=\"M433.975 129.778 L433.975 142.625 L430.04 142.625 L430.04 129.778 L433.975 129.778 M442.725 129.778 L442.725 142.625 L438.79 142.625 L438.79 129.778 L442.725 129.778 Z\" fill=\"#000000\" fill-rule=\"evenodd\" fill-opacity=\"1\" /><path clip-path=\"url(#clip130)\" d=\"M468.28 139.176 L468.28 143.203 Q466.475 142.277 464.53 141.815 Q462.586 141.352 460.503 141.352 Q457.331 141.352 455.734 142.324 Q454.16 143.296 454.16 145.24 Q454.16 146.722 455.294 147.578 Q456.429 148.412 459.855 149.176 L461.313 149.5 Q465.85 150.472 467.748 152.254 Q469.669 154.014 469.669 157.185 Q469.669 160.796 466.799 162.902 Q463.952 165.009 458.952 165.009 Q456.868 165.009 454.6 164.592 Q452.355 164.199 449.855 163.388 L449.855 158.99 Q452.216 160.217 454.507 160.842 Q456.799 161.444 459.044 161.444 Q462.054 161.444 463.674 160.426 Q465.294 159.384 465.294 157.509 Q465.294 155.773 464.114 154.847 Q462.956 153.921 458.998 153.064 L457.517 152.717 Q453.558 151.884 451.799 150.171 Q450.04 148.435 450.04 145.426 Q450.04 141.768 452.632 139.778 Q455.225 137.787 459.993 137.787 Q462.354 137.787 464.438 138.134 Q466.521 138.481 468.28 139.176 Z\" fill=\"#000000\" fill-rule=\"evenodd\" fill-opacity=\"1\" /><path clip-path=\"url(#clip130)\" d=\"M476.452 138.412 L480.711 138.412 L480.711 164.338 L476.452 164.338 L476.452 138.412 M476.452 128.319 L480.711 128.319 L480.711 133.713 L476.452 133.713 L476.452 128.319 Z\" fill=\"#000000\" fill-rule=\"evenodd\" fill-opacity=\"1\" /><path clip-path=\"url(#clip130)\" d=\"M509.808 143.389 Q511.405 140.518 513.627 139.153 Q515.85 137.787 518.859 137.787 Q522.91 137.787 525.109 140.634 Q527.308 143.458 527.308 148.689 L527.308 164.338 L523.025 164.338 L523.025 148.828 Q523.025 145.102 521.706 143.296 Q520.387 141.49 517.678 141.49 Q514.368 141.49 512.447 143.69 Q510.526 145.889 510.526 149.685 L510.526 164.338 L506.243 164.338 L506.243 148.828 Q506.243 145.078 504.924 143.296 Q503.604 141.49 500.85 141.49 Q497.586 141.49 495.665 143.713 Q493.743 145.912 493.743 149.685 L493.743 164.338 L489.461 164.338 L489.461 138.412 L493.743 138.412 L493.743 142.44 Q495.202 140.055 497.239 138.921 Q499.276 137.787 502.077 137.787 Q504.901 137.787 506.868 139.222 Q508.859 140.657 509.808 143.389 Z\" fill=\"#000000\" fill-rule=\"evenodd\" fill-opacity=\"1\" /><path clip-path=\"url(#clip130)\" d=\"M535.363 154.106 L535.363 138.412 L539.623 138.412 L539.623 153.944 Q539.623 157.625 541.058 159.476 Q542.493 161.305 545.363 161.305 Q548.812 161.305 550.803 159.106 Q552.817 156.907 552.817 153.111 L552.817 138.412 L557.076 138.412 L557.076 164.338 L552.817 164.338 L552.817 160.356 Q551.266 162.717 549.206 163.875 Q547.169 165.009 544.461 165.009 Q539.993 165.009 537.678 162.231 Q535.363 159.453 535.363 154.106 M546.081 137.787 L546.081 137.787 Z\" fill=\"#000000\" fill-rule=\"evenodd\" fill-opacity=\"1\" /><path clip-path=\"url(#clip130)\" d=\"M565.849 128.319 L570.109 128.319 L570.109 164.338 L565.849 164.338 L565.849 128.319 Z\" fill=\"#000000\" fill-rule=\"evenodd\" fill-opacity=\"1\" /><path clip-path=\"url(#clip130)\" d=\"M590.803 151.305 Q585.641 151.305 583.65 152.486 Q581.659 153.666 581.659 156.514 Q581.659 158.782 583.141 160.125 Q584.646 161.444 587.215 161.444 Q590.757 161.444 592.886 158.944 Q595.039 156.421 595.039 152.254 L595.039 151.305 L590.803 151.305 M599.298 149.546 L599.298 164.338 L595.039 164.338 L595.039 160.402 Q593.581 162.763 591.405 163.898 Q589.229 165.009 586.081 165.009 Q582.099 165.009 579.738 162.787 Q577.4 160.541 577.4 156.791 Q577.4 152.416 580.317 150.194 Q583.257 147.972 589.067 147.972 L595.039 147.972 L595.039 147.555 Q595.039 144.615 593.095 143.018 Q591.173 141.398 587.678 141.398 Q585.456 141.398 583.349 141.93 Q581.243 142.463 579.298 143.527 L579.298 139.592 Q581.636 138.69 583.835 138.25 Q586.034 137.787 588.118 137.787 Q593.743 137.787 596.52 140.703 Q599.298 143.62 599.298 149.546 Z\" fill=\"#000000\" fill-rule=\"evenodd\" fill-opacity=\"1\" /><path clip-path=\"url(#clip130)\" d=\"M612.284 131.051 L612.284 138.412 L621.057 138.412 L621.057 141.722 L612.284 141.722 L612.284 155.796 Q612.284 158.967 613.141 159.87 Q614.02 160.773 616.682 160.773 L621.057 160.773 L621.057 164.338 L616.682 164.338 Q611.752 164.338 609.877 162.509 Q608.002 160.657 608.002 155.796 L608.002 141.722 L604.877 141.722 L604.877 138.412 L608.002 138.412 L608.002 131.051 L612.284 131.051 Z\" fill=\"#000000\" fill-rule=\"evenodd\" fill-opacity=\"1\" /><path clip-path=\"url(#clip130)\" d=\"M626.659 138.412 L630.918 138.412 L630.918 164.338 L626.659 164.338 L626.659 138.412 M626.659 128.319 L630.918 128.319 L630.918 133.713 L626.659 133.713 L626.659 128.319 Z\" fill=\"#000000\" fill-rule=\"evenodd\" fill-opacity=\"1\" /><path clip-path=\"url(#clip130)\" d=\"M649.877 141.398 Q646.451 141.398 644.46 144.083 Q642.469 146.745 642.469 151.398 Q642.469 156.051 644.437 158.736 Q646.428 161.398 649.877 161.398 Q653.279 161.398 655.27 158.713 Q657.261 156.027 657.261 151.398 Q657.261 146.791 655.27 144.106 Q653.279 141.398 649.877 141.398 M649.877 137.787 Q655.432 137.787 658.603 141.398 Q661.775 145.009 661.775 151.398 Q661.775 157.764 658.603 161.398 Q655.432 165.009 649.877 165.009 Q644.298 165.009 641.127 161.398 Q637.979 157.764 637.979 151.398 Q637.979 145.009 641.127 141.398 Q644.298 137.787 649.877 137.787 Z\" fill=\"#000000\" fill-rule=\"evenodd\" fill-opacity=\"1\" /><path clip-path=\"url(#clip130)\" d=\"M690.386 148.689 L690.386 164.338 L686.126 164.338 L686.126 148.828 Q686.126 145.148 684.691 143.319 Q683.256 141.49 680.386 141.49 Q676.937 141.49 674.946 143.69 Q672.955 145.889 672.955 149.685 L672.955 164.338 L668.673 164.338 L668.673 138.412 L672.955 138.412 L672.955 142.44 Q674.483 140.102 676.543 138.944 Q678.626 137.787 681.335 137.787 Q685.802 137.787 688.094 140.565 Q690.386 143.319 690.386 148.689 Z\" fill=\"#000000\" fill-rule=\"evenodd\" fill-opacity=\"1\" /><path clip-path=\"url(#clip130)\" d=\"M702.909 129.778 L702.909 142.625 L698.974 142.625 L698.974 129.778 L702.909 129.778 M711.659 129.778 L711.659 142.625 L707.724 142.625 L707.724 129.778 L711.659 129.778 Z\" fill=\"#000000\" fill-rule=\"evenodd\" fill-opacity=\"1\" /><path clip-path=\"url(#clip130)\" d=\"M730.64 128.319 L730.64 170.588 L720.825 170.588 L720.825 167.277 L726.358 167.277 L726.358 131.629 L720.825 131.629 L720.825 128.319 L730.64 128.319 Z\" fill=\"#000000\" fill-rule=\"evenodd\" fill-opacity=\"1\" /></svg>\n"
      ]
     },
     "execution_count": 27,
     "metadata": {},
     "output_type": "execute_result"
    }
   ],
   "source": [
    "plot(u, y, label=[\"simulation\"], legend=:topleft)"
   ]
  },
  {
   "cell_type": "markdown",
   "metadata": {},
   "source": [
    "Another example, system with common inputs:"
   ]
  },
  {
   "cell_type": "code",
   "execution_count": 28,
   "metadata": {},
   "outputs": [
    {
     "data": {
      "text/plain": [
       "9×1 (max,+) dense matrix:\n",
       "   1\n",
       "  10\n",
       "  19\n",
       "  28\n",
       "  37\n",
       "  46\n",
       "  55\n",
       "  64\n",
       "  73\n"
      ]
     },
     "execution_count": 28,
     "metadata": {},
     "output_type": "execute_result"
    }
   ],
   "source": [
    "u = [MP(1:0.5:5) MP(1:0.5:5)]\n",
    "y = mpsimul([S1 S2], u, true)"
   ]
  }
 ],
 "metadata": {
  "kernelspec": {
   "display_name": "Julia 1.8.1",
   "language": "julia",
   "name": "julia-1.8"
  },
  "language_info": {
   "file_extension": ".jl",
   "mimetype": "application/julia",
   "name": "julia",
   "version": "1.8.1"
  }
 },
 "nbformat": 4,
 "nbformat_minor": 2
}
