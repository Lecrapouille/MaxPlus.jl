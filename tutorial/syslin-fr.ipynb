{
 "cells": [
  {
   "cell_type": "markdown",
   "metadata": {},
   "source": [
    "# Système linéaire implicite et explicite Max-Plus\n",
    "\n",
    "\n",
    "Tout comme la boîte à outils Scilab, une structure Max-Plus pour Julia est proposée afin de manipuler des systèmes dynamiques linéaires implicites sous la forme suivante :\n",
    "\n",
    "$$\\left \\{ \\begin{array}{l}\n",
    "X(n) &= D X(n) \\oplus A X(n-1) \\oplus B U(n) \\\\\n",
    "Y(n) &= C X(n)\n",
    "\\end{array} \\right.$$\n",
    "\n",
    "Avec $x(0) = x_0$ connu. Le quintuplé $(A,B,C,D,x_0)$ est manipulé par la structure `MPSysLin`. Le ⊗ est implicite pour plus de lisibilité. Ce document fait suite à [l'introduction de la boîte à outil Julia pour l'algèbre Max-Plus](https://nbviewer.jupyter.org/github/Lecrapouille/MaxPlus.jl/blob/master/tutorial/core-fr.ipynb) et nous verrons comment manipuler cette structure qui sera utilisée sur un problème concret dans le [document suivant](https://nbviewer.jupyter.org/github/Lecrapouille/MaxPlus.jl/blob/master/tutorial/flowshop-fr.ipynb)."
   ]
  },
  {
   "cell_type": "markdown",
   "metadata": {},
   "source": [
    "# Prérequis\n",
    "\n",
    "Si ce n'est pas déjà fait, chargeons la boîte à outils Max-Plus. Pour rappel, le document précédent explique plus longuement comment faire. "
   ]
  },
  {
   "cell_type": "code",
   "execution_count": 1,
   "metadata": {
    "scrolled": true
   },
   "outputs": [],
   "source": [
    "push!(LOAD_PATH, pwd())\n",
    "using MaxPlus, SparseArrays"
   ]
  },
  {
   "cell_type": "markdown",
   "metadata": {},
   "source": [
    "Toujours pour des soucis d'appel à fonction `Base.show` depuis un document Jupyter, nous forçons l'affichage en mode plein :"
   ]
  },
  {
   "cell_type": "code",
   "execution_count": 2,
   "metadata": {},
   "outputs": [],
   "source": [
    "Base.show(io::IO, ::MIME\"text/latex\", x::MP) = show(io, MIME\"text/plain\", x)\n",
    "Base.show(io::IO, ::MIME\"text/latex\", A::MPAbstractVecOrMat) = show(io, MIME\"text/plain\", A)\n",
    "Base.show(io::IO, ::MIME\"text/latex\", S::MPSysLin) = show(io, MIME\"text/plain\", S)"
   ]
  },
  {
   "cell_type": "markdown",
   "metadata": {},
   "source": [
    "## Construction d'un système linéaire implicite Max-Plus\n",
    "\n",
    "Créons notre premier système linéaire Max-Plus implicite grâce aux constructeurs de la structure Julia associés `MPSysLin(A, B, C [,D, x0])` :\n",
    "\n",
    "$$S_1=\\left\\{\\begin{array}{lcl}\n",
    "x_n & = & \\left[\n",
    "\\begin{array}{*{20}c}\n",
    "0 & . \\\\\n",
    ". & 0 \\\\\n",
    "\\end{array}\n",
    "\\right]\n",
    " x_n \\oplus \\left[\n",
    "\\begin{array}{*{20}c}\n",
    "1 & 2 \\\\\n",
    "3 & 4 \\\\\n",
    "\\end{array}\n",
    "\\right]\n",
    " x_{n-1} \\oplus \\left[\n",
    "\\begin{array}{*{20}c}\n",
    "0 \\\\\n",
    "0 \\\\\n",
    "\\end{array}\n",
    "\\right]\n",
    " u_n\\\\y_n & = & \\left[\n",
    "\\begin{array}{*{20}c}\n",
    "0 & 0 \\\\\n",
    "\\end{array}\n",
    "\\right]\n",
    " x_n\\\\x_0 & = & \\left[\n",
    "\\begin{array}{*{20}c}\n",
    ". \\\\\n",
    ". \\\\\n",
    "\\end{array}\n",
    "\\right]\n",
    "\\end{array}\\right.$$\n",
    "\n",
    "La matrice $D$ et le vecteur $x_0$ sont optionnels. S'ils ne sont pas donnés ils seront automatiquement créés et remplis de $\\varepsilon$."
   ]
  },
  {
   "cell_type": "code",
   "execution_count": 3,
   "metadata": {},
   "outputs": [
    {
     "data": {
      "text/plain": [
       "2×2 (max,+) sparse matrix with 2 stored entries:\n",
       "  [1, 1]  =  0\n",
       "  [2, 2]  =  0"
      ]
     },
     "execution_count": 3,
     "metadata": {},
     "output_type": "execute_result"
    }
   ],
   "source": [
    "speye(MP,2,2)"
   ]
  },
  {
   "cell_type": "code",
   "execution_count": 4,
   "metadata": {},
   "outputs": [
    {
     "data": {
      "text/plain": [
       "Implicit dynamic linear Max-Plus system:\n",
       "  x(n) = D*x(n) + A*x(n-1) + B*u(n)\n",
       "  y(n) = C*x(n)\n",
       "  x(0) = x0\n",
       "\n",
       "with:\n",
       "D = 2×2 (max,+) dense matrix:\n",
       "  0   .\n",
       "  .   0\n",
       "\n",
       "A = 2×2 (max,+) dense matrix:\n",
       "  1   2\n",
       "  3   4\n",
       "\n",
       "B = 2-element (max,+) vector:\n",
       "  0\n",
       "  0\n",
       "\n",
       "C = 1×2 (max,+) dense matrix:\n",
       "  0   0\n",
       "\n",
       "x0 = 2×1 (max,+) dense matrix:\n",
       "  .\n",
       "  .\n"
      ]
     },
     "execution_count": 4,
     "metadata": {},
     "output_type": "execute_result"
    }
   ],
   "source": [
    "S1 = MPSysLin(MP([1 2; 3 4]),      # A\n",
    "              MP([0;0]),           # B\n",
    "              MP([0 0]),           # C\n",
    "              speye(MP,2,2),       # D (optionel)\n",
    "              spzeros(MP,2,1))     # x0 (optionel)"
   ]
  },
  {
   "cell_type": "markdown",
   "metadata": {},
   "source": [
    "Et le deuxième système implicite :\n",
    "\n",
    "$$S_2=\\left\\{\\begin{array}{lcl}\n",
    "x_n & = & \\left[\n",
    "\\begin{array}{*{20}c}\n",
    "0 & . & . \\\\\n",
    ". & 0 & . \\\\\n",
    ". & . & 0 \\\\\n",
    "\\end{array}\n",
    "\\right]\n",
    " x_n \\oplus \\left[\n",
    "\\begin{array}{*{20}c}\n",
    "1 & 2 & 3 \\\\\n",
    "4 & 5 & 6 \\\\\n",
    "7 & 8 & 9 \\\\\n",
    "\\end{array}\n",
    "\\right]\n",
    " x_{n-1} \\oplus \\left[\n",
    "\\begin{array}{*{20}c}\n",
    "0 \\\\\n",
    "0 \\\\\n",
    "0 \\\\\n",
    "\\end{array}\n",
    "\\right]\n",
    " u_n\\\\y_n & = & \\left[\n",
    "\\begin{array}{*{20}c}\n",
    "0 & 0 & 0 \\\\\n",
    "\\end{array}\n",
    "\\right]\n",
    " x_n\\\\x_0 & = & \\left[\n",
    "\\begin{array}{*{20}c}\n",
    ". \\\\\n",
    ". \\\\\n",
    ". \\\\\n",
    "\\end{array}\n",
    "\\right]\n",
    "\\end{array}\\right.$$"
   ]
  },
  {
   "cell_type": "code",
   "execution_count": 5,
   "metadata": {},
   "outputs": [
    {
     "data": {
      "text/plain": [
       "Implicit dynamic linear Max-Plus system:\n",
       "  x(n) = D*x(n) + A*x(n-1) + B*u(n)\n",
       "  y(n) = C*x(n)\n",
       "  x(0) = x0\n",
       "\n",
       "with:\n",
       "D = 3×3 (max,+) dense matrix:\n",
       "  0   .   .\n",
       "  .   0   .\n",
       "  .   .   0\n",
       "\n",
       "A = 3×3 (max,+) dense matrix:\n",
       "  1   2   3\n",
       "  4   5   6\n",
       "  7   8   9\n",
       "\n",
       "B = 3-element (max,+) vector:\n",
       "  0\n",
       "  0\n",
       "  0\n",
       "\n",
       "C = 1×3 (max,+) dense matrix:\n",
       "  0   0   0\n",
       "\n",
       "x0 = 3×1 (max,+) dense matrix:\n",
       "  .\n",
       "  .\n",
       "  .\n"
      ]
     },
     "execution_count": 5,
     "metadata": {},
     "output_type": "execute_result"
    }
   ],
   "source": [
    "S2 = MPSysLin(MP([1 2 3; 4 5 6; 7 8 9]),  # A\n",
    "              MP([0;0;0]),                # B\n",
    "              MP([0 0 0]),                # C\n",
    "              eye(MP,3,3))                # D\n",
    "                                          # x0 to zeros vector"
   ]
  },
  {
   "cell_type": "markdown",
   "metadata": {},
   "source": [
    "## Accès aux matrices\n",
    "\n",
    "Ce fait directement par les champs .D .A .B .C .x0"
   ]
  },
  {
   "cell_type": "code",
   "execution_count": 6,
   "metadata": {},
   "outputs": [
    {
     "data": {
      "text/plain": [
       "2×2 (max,+) sparse matrix with 2 stored entries:\n",
       "  [1, 1]  =  0\n",
       "  [2, 2]  =  0"
      ]
     },
     "execution_count": 6,
     "metadata": {},
     "output_type": "execute_result"
    }
   ],
   "source": [
    "S1.D"
   ]
  },
  {
   "cell_type": "code",
   "execution_count": 7,
   "metadata": {},
   "outputs": [
    {
     "data": {
      "text/plain": [
       "2×2 (max,+) dense matrix:\n",
       "  1   2\n",
       "  3   4\n"
      ]
     },
     "execution_count": 7,
     "metadata": {},
     "output_type": "execute_result"
    }
   ],
   "source": [
    "S1.A"
   ]
  },
  {
   "cell_type": "code",
   "execution_count": 8,
   "metadata": {},
   "outputs": [
    {
     "data": {
      "text/plain": [
       "2-element (max,+) vector:\n",
       "  0\n",
       "  0\n"
      ]
     },
     "execution_count": 8,
     "metadata": {},
     "output_type": "execute_result"
    }
   ],
   "source": [
    "S1.B"
   ]
  },
  {
   "cell_type": "code",
   "execution_count": 9,
   "metadata": {},
   "outputs": [
    {
     "data": {
      "text/plain": [
       "1×2 (max,+) dense matrix:\n",
       "  0   0\n"
      ]
     },
     "execution_count": 9,
     "metadata": {},
     "output_type": "execute_result"
    }
   ],
   "source": [
    "S1.C"
   ]
  },
  {
   "cell_type": "code",
   "execution_count": 10,
   "metadata": {},
   "outputs": [
    {
     "data": {
      "text/plain": [
       "2×1 (max,+) sparse matrix with 0 stored entries"
      ]
     },
     "execution_count": 10,
     "metadata": {},
     "output_type": "execute_result"
    }
   ],
   "source": [
    "S1.x0"
   ]
  },
  {
   "cell_type": "code",
   "execution_count": 11,
   "metadata": {},
   "outputs": [
    {
     "data": {
      "text/plain": [
       "2×1 (max,+) dense matrix:\n",
       "  .\n",
       "  .\n"
      ]
     },
     "execution_count": 11,
     "metadata": {},
     "output_type": "execute_result"
    }
   ],
   "source": [
    "full(S1.x0)"
   ]
  },
  {
   "cell_type": "markdown",
   "metadata": {},
   "source": [
    "## Affichage de systèmes implicites Max-Plus\n",
    "\n",
    "### Affichage sortie standard"
   ]
  },
  {
   "cell_type": "code",
   "execution_count": 12,
   "metadata": {},
   "outputs": [
    {
     "name": "stdout",
     "output_type": "stream",
     "text": [
      "Implicit dynamic linear Max-Plus system:\n",
      "  x(n) = D*x(n) + A*x(n-1) + B*u(n)\n",
      "  y(n) = C*x(n)\n",
      "  x(0) = x0\n",
      "\n",
      "with:\n",
      "D = 2×2 (max,+) dense matrix:\n",
      "  0   .\n",
      "  .   0\n",
      "\n",
      "A = 2×2 (max,+) dense matrix:\n",
      "  1   2\n",
      "  3   4\n",
      "\n",
      "B = 2-element (max,+) vector:\n",
      "  0\n",
      "  0\n",
      "\n",
      "C = 1×2 (max,+) dense matrix:\n",
      "  0   0\n",
      "\n",
      "x0 = 2×1 (max,+) dense matrix:\n",
      "  .\n",
      "  .\n"
     ]
    }
   ],
   "source": [
    "tropshow(stdout, S1)"
   ]
  },
  {
   "cell_type": "code",
   "execution_count": 13,
   "metadata": {},
   "outputs": [
    {
     "name": "stdout",
     "output_type": "stream",
     "text": [
      "Implicit dynamic linear Max-Plus system:\n",
      "  x(n) = D*x(n) + A*x(n-1) + B*u(n)\n",
      "  y(n) = C*x(n)\n",
      "  x(0) = x0\n",
      "\n",
      "with:\n",
      "D = 2×2 (max,+) dense matrix:\n",
      "  0   .\n",
      "  .   0\n",
      "\n",
      "A = 2×2 (max,+) dense matrix:\n",
      "  1   2\n",
      "  3   4\n",
      "\n",
      "B = 2-element (max,+) vector:\n",
      "  0\n",
      "  0\n",
      "\n",
      "C = 1×2 (max,+) dense matrix:\n",
      "  0   0\n",
      "\n",
      "x0 = 2×1 (max,+) dense matrix:\n",
      "  .\n",
      "  .\n"
     ]
    }
   ],
   "source": [
    "show(stdout, \"text/plain\", S1)"
   ]
  },
  {
   "cell_type": "markdown",
   "metadata": {},
   "source": [
    "### Affichage de systèmes implicites Max-Plus en $\\LaTeX$\n",
    "\n",
    "Comme l'affichage précédent n'est pas le plus amicale, on peut améliorer ça en générant du code $\\LaTeX$ soit avec la fonction `LaTeX` (et si l'on ne passe pas l'argument `IO` alors une chaîne de caractère sera retournée) soit via la fonction `Base.show` en passant l'argument `::MIME\"text/latex\"` :"
   ]
  },
  {
   "cell_type": "code",
   "execution_count": 14,
   "metadata": {},
   "outputs": [
    {
     "name": "stdout",
     "output_type": "stream",
     "text": [
      "\"\\\\left\\\\{\\\\begin{array}{lcl}\\nx_n & = & \\\\left[\\n\\\\begin{array}{*{20}c}\\n0 & . \\\\\\\\\\n. & 0 \\\\\\\\\\n\\\\end{array}\\n\\\\right]\\n x_n \\\\oplus \\\\left[\\n\\\\begin{array}{*{20}c}\\n1 & 2 \\\\\\\\\\n3 & 4 \\\\\\\\\\n\\\\end{array}\\n\\\\right]\\n x_{n-1} \\\\oplus \\\\left[\\n\\\\begin{array}{*{20}c}\\n0 \\\\\\\\\\n0 \\\\\\\\\\n\\\\end{array}\\n\\\\right]\\n u_n\\\\\\\\ y_n & = & \\\\left[\\n\\\\begin{array}{*{20}c}\\n0 & 0 \\\\\\\\\\n\\\\end{array}\\n\\\\right]\\n x_n\\\\\\\\ x_0 & = & \\\\left[\\n\\\\begin{array}{*{20}c}\\n. \\\\\\\\\\n. \\\\\\\\\\n\\\\end{array}\\n\\\\right]\\n\\\\end{array}\\\\right.\""
     ]
    }
   ],
   "source": [
    "LaTeX(stdout, S1)  # show(stdout, \"text/latex\", S1)"
   ]
  },
  {
   "cell_type": "markdown",
   "metadata": {},
   "source": [
    "Ce qui donnera une fois compilée :\n",
    "$$\\left\\{\\begin{array}{lcl}\n",
    "x_n & = & \\left[\n",
    "\\begin{array}{*{20}c}\n",
    "0 & . \\\\\n",
    ". & 0 \\\\\n",
    "\\end{array}\n",
    "\\right]\n",
    " x_n \\oplus \\left[\n",
    "\\begin{array}{*{20}c}\n",
    "1 & 2 \\\\\n",
    "3 & 4 \\\\\n",
    "\\end{array}\n",
    "\\right]\n",
    " x_{n-1} \\oplus \\left[\n",
    "\\begin{array}{*{20}c}\n",
    "0 \\\\\n",
    "0 \\\\\n",
    "\\end{array}\n",
    "\\right]\n",
    " u_n\\\\y_n & = & \\left[\n",
    "\\begin{array}{*{20}c}\n",
    "0 & 0 \\\\\n",
    "\\end{array}\n",
    "\\right]\n",
    " x_n\\\\x_0 & = & \\left[\n",
    "\\begin{array}{*{20}c}\n",
    ". \\\\\n",
    ". \\\\\n",
    "\\end{array}\n",
    "\\right]\n",
    "\\end{array}\\right.$$"
   ]
  },
  {
   "cell_type": "markdown",
   "metadata": {},
   "source": [
    "Pour la suite de ce document Jupyter, on va se créer une fonction qui forcera l'affichage LaTeX :"
   ]
  },
  {
   "cell_type": "code",
   "execution_count": 15,
   "metadata": {},
   "outputs": [
    {
     "data": {
      "text/plain": [
       "latexify (generic function with 2 methods)"
      ]
     },
     "execution_count": 15,
     "metadata": {},
     "output_type": "execute_result"
    }
   ],
   "source": [
    "using LaTeXStrings\n",
    "\n",
    "latexify(S1, name=\"S\") = latexstring(name, \"=\", LaTeX(S1))"
   ]
  },
  {
   "cell_type": "code",
   "execution_count": 16,
   "metadata": {},
   "outputs": [
    {
     "data": {
      "text/latex": [
       "$S=\\left\\{\\begin{array}{lcl}\n",
       "x_n & = & \\left[\n",
       "\\begin{array}{*{20}c}\n",
       "0 & . \\\\\n",
       ". & 0 \\\\\n",
       "\\end{array}\n",
       "\\right]\n",
       " x_n \\oplus \\left[\n",
       "\\begin{array}{*{20}c}\n",
       "1 & 2 \\\\\n",
       "3 & 4 \\\\\n",
       "\\end{array}\n",
       "\\right]\n",
       " x_{n-1} \\oplus \\left[\n",
       "\\begin{array}{*{20}c}\n",
       "0 \\\\\n",
       "0 \\\\\n",
       "\\end{array}\n",
       "\\right]\n",
       " u_n\\\\ y_n & = & \\left[\n",
       "\\begin{array}{*{20}c}\n",
       "0 & 0 \\\\\n",
       "\\end{array}\n",
       "\\right]\n",
       " x_n\\\\ x_0 & = & \\left[\n",
       "\\begin{array}{*{20}c}\n",
       ". \\\\\n",
       ". \\\\\n",
       "\\end{array}\n",
       "\\right]\n",
       "\\end{array}\\right.$"
      ],
      "text/plain": [
       "L\"$S=\\left\\{\\begin{array}{lcl}\n",
       "x_n & = & \\left[\n",
       "\\begin{array}{*{20}c}\n",
       "0 & . \\\\\n",
       ". & 0 \\\\\n",
       "\\end{array}\n",
       "\\right]\n",
       " x_n \\oplus \\left[\n",
       "\\begin{array}{*{20}c}\n",
       "1 & 2 \\\\\n",
       "3 & 4 \\\\\n",
       "\\end{array}\n",
       "\\right]\n",
       " x_{n-1} \\oplus \\left[\n",
       "\\begin{array}{*{20}c}\n",
       "0 \\\\\n",
       "0 \\\\\n",
       "\\end{array}\n",
       "\\right]\n",
       " u_n\\\\ y_n & = & \\left[\n",
       "\\begin{array}{*{20}c}\n",
       "0 & 0 \\\\\n",
       "\\end{array}\n",
       "\\right]\n",
       " x_n\\\\ x_0 & = & \\left[\n",
       "\\begin{array}{*{20}c}\n",
       ". \\\\\n",
       ". \\\\\n",
       "\\end{array}\n",
       "\\right]\n",
       "\\end{array}\\right.$\""
      ]
     },
     "execution_count": 16,
     "metadata": {},
     "output_type": "execute_result"
    }
   ],
   "source": [
    "latexify(S1)"
   ]
  },
  {
   "cell_type": "markdown",
   "metadata": {},
   "source": [
    "## Composition de systèmes implicites Max-Plus\n",
    "\n",
    "Tout comme Scilab, Julia permet de surcharger des opérateurs de base, que l'on utilisera pour composer des systèmes linéaires."
   ]
  },
  {
   "cell_type": "markdown",
   "metadata": {},
   "source": [
    "#### Composition parallèle"
   ]
  },
  {
   "cell_type": "code",
   "execution_count": 17,
   "metadata": {
    "scrolled": false
   },
   "outputs": [
    {
     "data": {
      "text/latex": [
       "$S=\\left\\{\\begin{array}{lcl}\n",
       "x_n & = & \\left[\n",
       "\\begin{array}{*{20}c}\n",
       "0 & . & . & . & . \\\\\n",
       ". & 0 & . & . & . \\\\\n",
       ". & . & 0 & . & . \\\\\n",
       ". & . & . & 0 & . \\\\\n",
       ". & . & . & . & 0 \\\\\n",
       "\\end{array}\n",
       "\\right]\n",
       " x_n \\oplus \\left[\n",
       "\\begin{array}{*{20}c}\n",
       "1 & 2 & . & . & . \\\\\n",
       "3 & 4 & . & . & . \\\\\n",
       ". & . & 1 & 2 & 3 \\\\\n",
       ". & . & 4 & 5 & 6 \\\\\n",
       ". & . & 7 & 8 & 9 \\\\\n",
       "\\end{array}\n",
       "\\right]\n",
       " x_{n-1} \\oplus \\left[\n",
       "\\begin{array}{*{20}c}\n",
       "0 \\\\\n",
       "0 \\\\\n",
       "0 \\\\\n",
       "0 \\\\\n",
       "0 \\\\\n",
       "\\end{array}\n",
       "\\right]\n",
       " u_n\\\\ y_n & = & \\left[\n",
       "\\begin{array}{*{20}c}\n",
       "0 & 0 & 0 & 0 & 0 \\\\\n",
       "\\end{array}\n",
       "\\right]\n",
       " x_n\\\\ x_0 & = & \\left[\n",
       "\\begin{array}{*{20}c}\n",
       ". \\\\\n",
       ". \\\\\n",
       ". \\\\\n",
       ". \\\\\n",
       ". \\\\\n",
       "\\end{array}\n",
       "\\right]\n",
       "\\end{array}\\right.$"
      ],
      "text/plain": [
       "\"\\$S=\\\\left\\\\{\\\\begin{array}{lcl}\\nx_n & = & \\\\left[\\n\\\\begin{array}{*{20}c}\\n0 & . & . & . & . \\\\\\\\\\n. & 0 & . & . & . \\\\\\\\\\n. & . & 0 & . & . \\\\\\\\\\n. & . & . & 0 & . \\\\\\\\\\n. & . & . & . & 0 \\\\\\\\\\n\\\\end{array}\\n\\\\right]\\n x_n \\\\oplus \\\\left[\\n\\\\begin{array}{*{20}c}\\n1 & 2 & . & . & . \\\\\\\\\\n3 & 4 & . & . & \" ⋯ 105 bytes ⋯ \"left[\\n\\\\begin{array}{*{20}c}\\n0 \\\\\\\\\\n0 \\\\\\\\\\n0 \\\\\\\\\\n0 \\\\\\\\\\n0 \\\\\\\\\\n\\\\end{array}\\n\\\\right]\\n u_n\\\\\\\\ y_n & = & \\\\left[\\n\\\\begin{array}{*{20}c}\\n0 & 0 & 0 & 0 & 0 \\\\\\\\\\n\\\\end{array}\\n\\\\right]\\n x_n\\\\\\\\ x_0 & = & \\\\left[\\n\\\\begin{array}{*{20}c}\\n. \\\\\\\\\\n. \\\\\\\\\\n. \\\\\\\\\\n. \\\\\\\\\\n. \\\\\\\\\\n\\\\end{array}\\n\\\\right]\\n\\\\end{array}\\\\right.\\$\""
      ]
     },
     "execution_count": 17,
     "metadata": {},
     "output_type": "execute_result"
    }
   ],
   "source": [
    "S = S1 + S2; latexify(S)"
   ]
  },
  {
   "cell_type": "markdown",
   "metadata": {},
   "source": [
    "#### Composition diagonale"
   ]
  },
  {
   "cell_type": "code",
   "execution_count": 18,
   "metadata": {},
   "outputs": [
    {
     "data": {
      "text/latex": [
       "$S=\\left\\{\\begin{array}{lcl}\n",
       "x_n & = & \\left[\n",
       "\\begin{array}{*{20}c}\n",
       "0 & . & . & . & . \\\\\n",
       ". & 0 & . & . & . \\\\\n",
       ". & . & 0 & . & . \\\\\n",
       ". & . & . & 0 & . \\\\\n",
       ". & . & . & . & 0 \\\\\n",
       "\\end{array}\n",
       "\\right]\n",
       " x_n \\oplus \\left[\n",
       "\\begin{array}{*{20}c}\n",
       "1 & 2 & . & . & . \\\\\n",
       "3 & 4 & . & . & . \\\\\n",
       ". & . & 1 & 2 & 3 \\\\\n",
       ". & . & 4 & 5 & 6 \\\\\n",
       ". & . & 7 & 8 & 9 \\\\\n",
       "\\end{array}\n",
       "\\right]\n",
       " x_{n-1} \\oplus \\left[\n",
       "\\begin{array}{*{20}c}\n",
       "0 & . \\\\\n",
       "0 & . \\\\\n",
       ". & 0 \\\\\n",
       ". & 0 \\\\\n",
       ". & 0 \\\\\n",
       "\\end{array}\n",
       "\\right]\n",
       " u_n\\\\ y_n & = & \\left[\n",
       "\\begin{array}{*{20}c}\n",
       "0 & 0 & . & . & . \\\\\n",
       ". & . & 0 & 0 & 0 \\\\\n",
       "\\end{array}\n",
       "\\right]\n",
       " x_n\\\\ x_0 & = & \\left[\n",
       "\\begin{array}{*{20}c}\n",
       ". \\\\\n",
       ". \\\\\n",
       ". \\\\\n",
       ". \\\\\n",
       ". \\\\\n",
       "\\end{array}\n",
       "\\right]\n",
       "\\end{array}\\right.$"
      ],
      "text/plain": [
       "\"\\$S=\\\\left\\\\{\\\\begin{array}{lcl}\\nx_n & = & \\\\left[\\n\\\\begin{array}{*{20}c}\\n0 & . & . & . & . \\\\\\\\\\n. & 0 & . & . & . \\\\\\\\\\n. & . & 0 & . & . \\\\\\\\\\n. & . & . & 0 & . \\\\\\\\\\n. & . & . & . & 0 \\\\\\\\\\n\\\\end{array}\\n\\\\right]\\n x_n \\\\oplus \\\\left[\\n\\\\begin{array}{*{20}c}\\n1 & 2 & . & . & . \\\\\\\\\\n3 & 4 & . & . & \" ⋯ 146 bytes ⋯ \". \\\\\\\\\\n. & 0 \\\\\\\\\\n. & 0 \\\\\\\\\\n. & 0 \\\\\\\\\\n\\\\end{array}\\n\\\\right]\\n u_n\\\\\\\\ y_n & = & \\\\left[\\n\\\\begin{array}{*{20}c}\\n0 & 0 & . & . & . \\\\\\\\\\n. & . & 0 & 0 & 0 \\\\\\\\\\n\\\\end{array}\\n\\\\right]\\n x_n\\\\\\\\ x_0 & = & \\\\left[\\n\\\\begin{array}{*{20}c}\\n. \\\\\\\\\\n. \\\\\\\\\\n. \\\\\\\\\\n. \\\\\\\\\\n. \\\\\\\\\\n\\\\end{array}\\n\\\\right]\\n\\\\end{array}\\\\right.\\$\""
      ]
     },
     "execution_count": 18,
     "metadata": {},
     "output_type": "execute_result"
    }
   ],
   "source": [
    "S = S1 | S2; latexify(S)"
   ]
  },
  {
   "cell_type": "markdown",
   "metadata": {},
   "source": [
    "#### Composition en série"
   ]
  },
  {
   "cell_type": "code",
   "execution_count": 19,
   "metadata": {},
   "outputs": [
    {
     "data": {
      "text/latex": [
       "$S=\\left\\{\\begin{array}{lcl}\n",
       "x_n & = & \\left[\n",
       "\\begin{array}{*{20}c}\n",
       "0 & . & . & . & . \\\\\n",
       ". & 0 & . & . & . \\\\\n",
       ". & . & 0 & . & . \\\\\n",
       "0 & 0 & 0 & 0 & . \\\\\n",
       "0 & 0 & 0 & . & 0 \\\\\n",
       "\\end{array}\n",
       "\\right]\n",
       " x_n \\oplus \\left[\n",
       "\\begin{array}{*{20}c}\n",
       "1 & 2 & 3 & . & . \\\\\n",
       "4 & 5 & 6 & . & . \\\\\n",
       "7 & 8 & 9 & . & . \\\\\n",
       ". & . & . & 1 & 2 \\\\\n",
       ". & . & . & 3 & 4 \\\\\n",
       "\\end{array}\n",
       "\\right]\n",
       " x_{n-1} \\oplus \\left[\n",
       "\\begin{array}{*{20}c}\n",
       "0 \\\\\n",
       "0 \\\\\n",
       "0 \\\\\n",
       ". \\\\\n",
       ". \\\\\n",
       "\\end{array}\n",
       "\\right]\n",
       " u_n\\\\ y_n & = & \\left[\n",
       "\\begin{array}{*{20}c}\n",
       ". & . & . & 0 & 0 \\\\\n",
       "\\end{array}\n",
       "\\right]\n",
       " x_n\\\\ x_0 & = & \\left[\n",
       "\\begin{array}{*{20}c}\n",
       ". \\\\\n",
       ". \\\\\n",
       ". \\\\\n",
       ". \\\\\n",
       ". \\\\\n",
       "\\end{array}\n",
       "\\right]\n",
       "\\end{array}\\right.$"
      ],
      "text/plain": [
       "\"\\$S=\\\\left\\\\{\\\\begin{array}{lcl}\\nx_n & = & \\\\left[\\n\\\\begin{array}{*{20}c}\\n0 & . & . & . & . \\\\\\\\\\n. & 0 & . & . & . \\\\\\\\\\n. & . & 0 & . & . \\\\\\\\\\n0 & 0 & 0 & 0 & . \\\\\\\\\\n0 & 0 & 0 & . & 0 \\\\\\\\\\n\\\\end{array}\\n\\\\right]\\n x_n \\\\oplus \\\\left[\\n\\\\begin{array}{*{20}c}\\n1 & 2 & 3 & . & . \\\\\\\\\\n4 & 5 & 6 & . & \" ⋯ 105 bytes ⋯ \"left[\\n\\\\begin{array}{*{20}c}\\n0 \\\\\\\\\\n0 \\\\\\\\\\n0 \\\\\\\\\\n. \\\\\\\\\\n. \\\\\\\\\\n\\\\end{array}\\n\\\\right]\\n u_n\\\\\\\\ y_n & = & \\\\left[\\n\\\\begin{array}{*{20}c}\\n. & . & . & 0 & 0 \\\\\\\\\\n\\\\end{array}\\n\\\\right]\\n x_n\\\\\\\\ x_0 & = & \\\\left[\\n\\\\begin{array}{*{20}c}\\n. \\\\\\\\\\n. \\\\\\\\\\n. \\\\\\\\\\n. \\\\\\\\\\n. \\\\\\\\\\n\\\\end{array}\\n\\\\right]\\n\\\\end{array}\\\\right.\\$\""
      ]
     },
     "execution_count": 19,
     "metadata": {},
     "output_type": "execute_result"
    }
   ],
   "source": [
    "S = S1 * S2; latexify(S)"
   ]
  },
  {
   "cell_type": "markdown",
   "metadata": {},
   "source": [
    "#### Entrées communes"
   ]
  },
  {
   "cell_type": "code",
   "execution_count": 20,
   "metadata": {},
   "outputs": [
    {
     "data": {
      "text/latex": [
       "$S=\\left\\{\\begin{array}{lcl}\n",
       "x_n & = & \\left[\n",
       "\\begin{array}{*{20}c}\n",
       "0 & . & . & . & . \\\\\n",
       ". & 0 & . & . & . \\\\\n",
       ". & . & 0 & . & . \\\\\n",
       ". & . & . & 0 & . \\\\\n",
       ". & . & . & . & 0 \\\\\n",
       "\\end{array}\n",
       "\\right]\n",
       " x_n \\oplus \\left[\n",
       "\\begin{array}{*{20}c}\n",
       "1 & 2 & . & . & . \\\\\n",
       "3 & 4 & . & . & . \\\\\n",
       ". & . & 1 & 2 & 3 \\\\\n",
       ". & . & 4 & 5 & 6 \\\\\n",
       ". & . & 7 & 8 & 9 \\\\\n",
       "\\end{array}\n",
       "\\right]\n",
       " x_{n-1} \\oplus \\left[\n",
       "\\begin{array}{*{20}c}\n",
       "0 & . \\\\\n",
       "0 & . \\\\\n",
       ". & 0 \\\\\n",
       ". & 0 \\\\\n",
       ". & 0 \\\\\n",
       "\\end{array}\n",
       "\\right]\n",
       " u_n\\\\ y_n & = & \\left[\n",
       "\\begin{array}{*{20}c}\n",
       "0 & 0 & 0 & 0 & 0 \\\\\n",
       "\\end{array}\n",
       "\\right]\n",
       " x_n\\\\ x_0 & = & \\left[\n",
       "\\begin{array}{*{20}c}\n",
       ". \\\\\n",
       ". \\\\\n",
       ". \\\\\n",
       ". \\\\\n",
       ". \\\\\n",
       "\\end{array}\n",
       "\\right]\n",
       "\\end{array}\\right.$"
      ],
      "text/plain": [
       "\"\\$S=\\\\left\\\\{\\\\begin{array}{lcl}\\nx_n & = & \\\\left[\\n\\\\begin{array}{*{20}c}\\n0 & . & . & . & . \\\\\\\\\\n. & 0 & . & . & . \\\\\\\\\\n. & . & 0 & . & . \\\\\\\\\\n. & . & . & 0 & . \\\\\\\\\\n. & . & . & . & 0 \\\\\\\\\\n\\\\end{array}\\n\\\\right]\\n x_n \\\\oplus \\\\left[\\n\\\\begin{array}{*{20}c}\\n1 & 2 & . & . & . \\\\\\\\\\n3 & 4 & . & . & \" ⋯ 125 bytes ⋯ \"*{20}c}\\n0 & . \\\\\\\\\\n0 & . \\\\\\\\\\n. & 0 \\\\\\\\\\n. & 0 \\\\\\\\\\n. & 0 \\\\\\\\\\n\\\\end{array}\\n\\\\right]\\n u_n\\\\\\\\ y_n & = & \\\\left[\\n\\\\begin{array}{*{20}c}\\n0 & 0 & 0 & 0 & 0 \\\\\\\\\\n\\\\end{array}\\n\\\\right]\\n x_n\\\\\\\\ x_0 & = & \\\\left[\\n\\\\begin{array}{*{20}c}\\n. \\\\\\\\\\n. \\\\\\\\\\n. \\\\\\\\\\n. \\\\\\\\\\n. \\\\\\\\\\n\\\\end{array}\\n\\\\right]\\n\\\\end{array}\\\\right.\\$\""
      ]
     },
     "execution_count": 20,
     "metadata": {},
     "output_type": "execute_result"
    }
   ],
   "source": [
    "S = [S1 S2]; latexify(S)"
   ]
  },
  {
   "cell_type": "markdown",
   "metadata": {},
   "source": [
    "#### Sorties communes"
   ]
  },
  {
   "cell_type": "code",
   "execution_count": 21,
   "metadata": {},
   "outputs": [
    {
     "data": {
      "text/latex": [
       "$S=\\left\\{\\begin{array}{lcl}\n",
       "x_n & = & \\left[\n",
       "\\begin{array}{*{20}c}\n",
       "0 & . & . & . & . \\\\\n",
       ". & 0 & . & . & . \\\\\n",
       ". & . & 0 & . & . \\\\\n",
       ". & . & . & 0 & . \\\\\n",
       ". & . & . & . & 0 \\\\\n",
       "\\end{array}\n",
       "\\right]\n",
       " x_n \\oplus \\left[\n",
       "\\begin{array}{*{20}c}\n",
       "1 & 2 & . & . & . \\\\\n",
       "3 & 4 & . & . & . \\\\\n",
       ". & . & 1 & 2 & 3 \\\\\n",
       ". & . & 4 & 5 & 6 \\\\\n",
       ". & . & 7 & 8 & 9 \\\\\n",
       "\\end{array}\n",
       "\\right]\n",
       " x_{n-1} \\oplus \\left[\n",
       "\\begin{array}{*{20}c}\n",
       "0 \\\\\n",
       "0 \\\\\n",
       "0 \\\\\n",
       "0 \\\\\n",
       "0 \\\\\n",
       "\\end{array}\n",
       "\\right]\n",
       " u_n\\\\ y_n & = & \\left[\n",
       "\\begin{array}{*{20}c}\n",
       "0 & 0 & . & . & . \\\\\n",
       ". & . & 0 & 0 & 0 \\\\\n",
       "\\end{array}\n",
       "\\right]\n",
       " x_n\\\\ x_0 & = & \\left[\n",
       "\\begin{array}{*{20}c}\n",
       ". \\\\\n",
       ". \\\\\n",
       ". \\\\\n",
       ". \\\\\n",
       ". \\\\\n",
       "\\end{array}\n",
       "\\right]\n",
       "\\end{array}\\right.$"
      ],
      "text/plain": [
       "\"\\$S=\\\\left\\\\{\\\\begin{array}{lcl}\\nx_n & = & \\\\left[\\n\\\\begin{array}{*{20}c}\\n0 & . & . & . & . \\\\\\\\\\n. & 0 & . & . & . \\\\\\\\\\n. & . & 0 & . & . \\\\\\\\\\n. & . & . & 0 & . \\\\\\\\\\n. & . & . & . & 0 \\\\\\\\\\n\\\\end{array}\\n\\\\right]\\n x_n \\\\oplus \\\\left[\\n\\\\begin{array}{*{20}c}\\n1 & 2 & . & . & . \\\\\\\\\\n3 & 4 & . & . & \" ⋯ 126 bytes ⋯ \"{20}c}\\n0 \\\\\\\\\\n0 \\\\\\\\\\n0 \\\\\\\\\\n0 \\\\\\\\\\n0 \\\\\\\\\\n\\\\end{array}\\n\\\\right]\\n u_n\\\\\\\\ y_n & = & \\\\left[\\n\\\\begin{array}{*{20}c}\\n0 & 0 & . & . & . \\\\\\\\\\n. & . & 0 & 0 & 0 \\\\\\\\\\n\\\\end{array}\\n\\\\right]\\n x_n\\\\\\\\ x_0 & = & \\\\left[\\n\\\\begin{array}{*{20}c}\\n. \\\\\\\\\\n. \\\\\\\\\\n. \\\\\\\\\\n. \\\\\\\\\\n. \\\\\\\\\\n\\\\end{array}\\n\\\\right]\\n\\\\end{array}\\\\right.\\$\""
      ]
     },
     "execution_count": 21,
     "metadata": {},
     "output_type": "execute_result"
    }
   ],
   "source": [
    "S = [S1; S2]; latexify(S)"
   ]
  },
  {
   "cell_type": "markdown",
   "metadata": {},
   "source": [
    "#### Composition avec retro-action"
   ]
  },
  {
   "cell_type": "code",
   "execution_count": 22,
   "metadata": {},
   "outputs": [
    {
     "data": {
      "text/latex": [
       "$S=\\left\\{\\begin{array}{lcl}\n",
       "x_n & = & \\left[\n",
       "\\begin{array}{*{20}c}\n",
       "0 & . & 0 & 0 & 0 \\\\\n",
       ". & 0 & 0 & 0 & 0 \\\\\n",
       "0 & 0 & 0 & . & . \\\\\n",
       "0 & 0 & . & 0 & . \\\\\n",
       "0 & 0 & . & . & 0 \\\\\n",
       "\\end{array}\n",
       "\\right]\n",
       " x_n \\oplus \\left[\n",
       "\\begin{array}{*{20}c}\n",
       "1 & 2 & . & . & . \\\\\n",
       "3 & 4 & . & . & . \\\\\n",
       ". & . & 1 & 2 & 3 \\\\\n",
       ". & . & 4 & 5 & 6 \\\\\n",
       ". & . & 7 & 8 & 9 \\\\\n",
       "\\end{array}\n",
       "\\right]\n",
       " x_{n-1} \\oplus \\left[\n",
       "\\begin{array}{*{20}c}\n",
       "0 \\\\\n",
       "0 \\\\\n",
       ". \\\\\n",
       ". \\\\\n",
       ". \\\\\n",
       "\\end{array}\n",
       "\\right]\n",
       " u_n\\\\ y_n & = & \\left[\n",
       "\\begin{array}{*{20}c}\n",
       "0 & 0 & . & . & . \\\\\n",
       "\\end{array}\n",
       "\\right]\n",
       " x_n\\\\ x_0 & = & \\left[\n",
       "\\begin{array}{*{20}c}\n",
       ". \\\\\n",
       ". \\\\\n",
       ". \\\\\n",
       ". \\\\\n",
       ". \\\\\n",
       "\\end{array}\n",
       "\\right]\n",
       "\\end{array}\\right.$"
      ],
      "text/plain": [
       "\"\\$S=\\\\left\\\\{\\\\begin{array}{lcl}\\nx_n & = & \\\\left[\\n\\\\begin{array}{*{20}c}\\n0 & . & 0 & 0 & 0 \\\\\\\\\\n. & 0 & 0 & 0 & 0 \\\\\\\\\\n0 & 0 & 0 & . & . \\\\\\\\\\n0 & 0 & . & 0 & . \\\\\\\\\\n0 & 0 & . & . & 0 \\\\\\\\\\n\\\\end{array}\\n\\\\right]\\n x_n \\\\oplus \\\\left[\\n\\\\begin{array}{*{20}c}\\n1 & 2 & . & . & . \\\\\\\\\\n3 & 4 & . & . & \" ⋯ 105 bytes ⋯ \"left[\\n\\\\begin{array}{*{20}c}\\n0 \\\\\\\\\\n0 \\\\\\\\\\n. \\\\\\\\\\n. \\\\\\\\\\n. \\\\\\\\\\n\\\\end{array}\\n\\\\right]\\n u_n\\\\\\\\ y_n & = & \\\\left[\\n\\\\begin{array}{*{20}c}\\n0 & 0 & . & . & . \\\\\\\\\\n\\\\end{array}\\n\\\\right]\\n x_n\\\\\\\\ x_0 & = & \\\\left[\\n\\\\begin{array}{*{20}c}\\n. \\\\\\\\\\n. \\\\\\\\\\n. \\\\\\\\\\n. \\\\\\\\\\n. \\\\\\\\\\n\\\\end{array}\\n\\\\right]\\n\\\\end{array}\\\\right.\\$\""
      ]
     },
     "execution_count": 22,
     "metadata": {},
     "output_type": "execute_result"
    }
   ],
   "source": [
    "S = S1 / S2; latexify(S)"
   ]
  },
  {
   "cell_type": "markdown",
   "metadata": {},
   "source": [
    "## Conversion système implicte Max-Plus vers système explicite Max-Plus"
   ]
  },
  {
   "cell_type": "code",
   "execution_count": 23,
   "metadata": {},
   "outputs": [],
   "source": [
    "# TODO S = mpexplicit(S1); latexify(S)"
   ]
  },
  {
   "cell_type": "markdown",
   "metadata": {},
   "source": [
    "## Simulation de système linéaire Max-Plus\n",
    "\n",
    "La fonction `mpsimul` permet de retourner les états $X(n)$ (ou bien le dernier état) d'un système linéaire Max-Plus en injectant des données $U(n)$ Max-Plus sous la forme d'un vecteur."
   ]
  },
  {
   "cell_type": "code",
   "execution_count": 24,
   "metadata": {},
   "outputs": [
    {
     "data": {
      "text/plain": [
       "9×1 (max,+) dense matrix:\n",
       "   2\n",
       "   6\n",
       "  10\n",
       "  14\n",
       "  18\n",
       "  22\n",
       "  26\n",
       "  30\n",
       "  34\n"
      ]
     },
     "execution_count": 24,
     "metadata": {},
     "output_type": "execute_result"
    }
   ],
   "source": [
    "u = Vector(MP(1:0.5:5))\n",
    "y = mpsimul(S, u, true) # Retourne l'historiques des états"
   ]
  },
  {
   "cell_type": "code",
   "execution_count": 25,
   "metadata": {},
   "outputs": [
    {
     "data": {
      "text/plain": [
       "1-element (max,+) vector:\n",
       "  34\n"
      ]
     },
     "execution_count": 25,
     "metadata": {},
     "output_type": "execute_result"
    }
   ],
   "source": [
    "mpsimul(S, u, false) # Retourne le dernier état calculé"
   ]
  },
  {
   "cell_type": "markdown",
   "metadata": {},
   "source": [
    "On peut ploter le résultat directement les nombres Max-Plus."
   ]
  },
  {
   "cell_type": "code",
   "execution_count": 26,
   "metadata": {},
   "outputs": [],
   "source": [
    "using Plots"
   ]
  },
  {
   "cell_type": "code",
   "execution_count": 27,
   "metadata": {
    "scrolled": false
   },
   "outputs": [
    {
     "data": {
      "image/svg+xml": [
       "<?xml version=\"1.0\" encoding=\"utf-8\"?>\n",
       "<svg xmlns=\"http://www.w3.org/2000/svg\" xmlns:xlink=\"http://www.w3.org/1999/xlink\" width=\"600\" height=\"400\" viewBox=\"0 0 2400 1600\">\n",
       "<defs>\n",
       "  <clipPath id=\"clip320\">\n",
       "    <rect x=\"0\" y=\"0\" width=\"2400\" height=\"1600\"/>\n",
       "  </clipPath>\n",
       "</defs>\n",
       "<path clip-path=\"url(#clip320)\" d=\"\n",
       "M0 1600 L2400 1600 L2400 0 L0 0  Z\n",
       "  \" fill=\"#ffffff\" fill-rule=\"evenodd\" fill-opacity=\"1\"/>\n",
       "<defs>\n",
       "  <clipPath id=\"clip321\">\n",
       "    <rect x=\"480\" y=\"0\" width=\"1681\" height=\"1600\"/>\n",
       "  </clipPath>\n",
       "</defs>\n",
       "<path clip-path=\"url(#clip320)\" d=\"\n",
       "M140.696 1486.45 L2352.76 1486.45 L2352.76 47.2441 L140.696 47.2441  Z\n",
       "  \" fill=\"#ffffff\" fill-rule=\"evenodd\" fill-opacity=\"1\"/>\n",
       "<defs>\n",
       "  <clipPath id=\"clip322\">\n",
       "    <rect x=\"140\" y=\"47\" width=\"2213\" height=\"1440\"/>\n",
       "  </clipPath>\n",
       "</defs>\n",
       "<polyline clip-path=\"url(#clip322)\" style=\"stroke:#000000; stroke-linecap:round; stroke-linejoin:round; stroke-width:2; stroke-opacity:0.1; fill:none\" points=\"\n",
       "  203.301,1486.45 203.301,47.2441 \n",
       "  \"/>\n",
       "<polyline clip-path=\"url(#clip322)\" style=\"stroke:#000000; stroke-linecap:round; stroke-linejoin:round; stroke-width:2; stroke-opacity:0.1; fill:none\" points=\"\n",
       "  725.013,1486.45 725.013,47.2441 \n",
       "  \"/>\n",
       "<polyline clip-path=\"url(#clip322)\" style=\"stroke:#000000; stroke-linecap:round; stroke-linejoin:round; stroke-width:2; stroke-opacity:0.1; fill:none\" points=\"\n",
       "  1246.73,1486.45 1246.73,47.2441 \n",
       "  \"/>\n",
       "<polyline clip-path=\"url(#clip322)\" style=\"stroke:#000000; stroke-linecap:round; stroke-linejoin:round; stroke-width:2; stroke-opacity:0.1; fill:none\" points=\"\n",
       "  1768.44,1486.45 1768.44,47.2441 \n",
       "  \"/>\n",
       "<polyline clip-path=\"url(#clip322)\" style=\"stroke:#000000; stroke-linecap:round; stroke-linejoin:round; stroke-width:2; stroke-opacity:0.1; fill:none\" points=\"\n",
       "  2290.15,1486.45 2290.15,47.2441 \n",
       "  \"/>\n",
       "<polyline clip-path=\"url(#clip320)\" style=\"stroke:#000000; stroke-linecap:round; stroke-linejoin:round; stroke-width:4; stroke-opacity:1; fill:none\" points=\"\n",
       "  140.696,1486.45 2352.76,1486.45 \n",
       "  \"/>\n",
       "<polyline clip-path=\"url(#clip320)\" style=\"stroke:#000000; stroke-linecap:round; stroke-linejoin:round; stroke-width:4; stroke-opacity:1; fill:none\" points=\"\n",
       "  203.301,1486.45 203.301,1467.55 \n",
       "  \"/>\n",
       "<polyline clip-path=\"url(#clip320)\" style=\"stroke:#000000; stroke-linecap:round; stroke-linejoin:round; stroke-width:4; stroke-opacity:1; fill:none\" points=\"\n",
       "  725.013,1486.45 725.013,1467.55 \n",
       "  \"/>\n",
       "<polyline clip-path=\"url(#clip320)\" style=\"stroke:#000000; stroke-linecap:round; stroke-linejoin:round; stroke-width:4; stroke-opacity:1; fill:none\" points=\"\n",
       "  1246.73,1486.45 1246.73,1467.55 \n",
       "  \"/>\n",
       "<polyline clip-path=\"url(#clip320)\" style=\"stroke:#000000; stroke-linecap:round; stroke-linejoin:round; stroke-width:4; stroke-opacity:1; fill:none\" points=\"\n",
       "  1768.44,1486.45 1768.44,1467.55 \n",
       "  \"/>\n",
       "<polyline clip-path=\"url(#clip320)\" style=\"stroke:#000000; stroke-linecap:round; stroke-linejoin:round; stroke-width:4; stroke-opacity:1; fill:none\" points=\"\n",
       "  2290.15,1486.45 2290.15,1467.55 \n",
       "  \"/>\n",
       "<path clip-path=\"url(#clip320)\" d=\"M193.683 1544.91 L201.322 1544.91 L201.322 1518.55 L193.012 1520.21 L193.012 1515.95 L201.276 1514.29 L205.951 1514.29 L205.951 1544.91 L213.59 1544.91 L213.59 1548.85 L193.683 1548.85 L193.683 1544.91 Z\" fill=\"#000000\" fill-rule=\"evenodd\" fill-opacity=\"1\" /><path clip-path=\"url(#clip320)\" d=\"M719.666 1544.91 L735.986 1544.91 L735.986 1548.85 L714.041 1548.85 L714.041 1544.91 Q716.703 1542.16 721.287 1537.53 Q725.893 1532.88 727.074 1531.53 Q729.319 1529.01 730.199 1527.27 Q731.101 1525.51 731.101 1523.82 Q731.101 1521.07 729.157 1519.33 Q727.236 1517.6 724.134 1517.6 Q721.935 1517.6 719.481 1518.36 Q717.05 1519.13 714.273 1520.68 L714.273 1515.95 Q717.097 1514.82 719.55 1514.24 Q722.004 1513.66 724.041 1513.66 Q729.411 1513.66 732.606 1516.35 Q735.8 1519.03 735.8 1523.52 Q735.8 1525.65 734.99 1527.57 Q734.203 1529.47 732.097 1532.07 Q731.518 1532.74 728.416 1535.95 Q725.314 1539.15 719.666 1544.91 Z\" fill=\"#000000\" fill-rule=\"evenodd\" fill-opacity=\"1\" /><path clip-path=\"url(#clip320)\" d=\"M1250.97 1530.21 Q1254.33 1530.93 1256.2 1533.2 Q1258.1 1535.47 1258.1 1538.8 Q1258.1 1543.92 1254.58 1546.72 Q1251.07 1549.52 1244.58 1549.52 Q1242.41 1549.52 1240.09 1549.08 Q1237.8 1548.66 1235.35 1547.81 L1235.35 1543.29 Q1237.29 1544.43 1239.61 1545.01 Q1241.92 1545.58 1244.45 1545.58 Q1248.84 1545.58 1251.14 1543.85 Q1253.45 1542.11 1253.45 1538.8 Q1253.45 1535.75 1251.3 1534.03 Q1249.17 1532.3 1245.35 1532.3 L1241.32 1532.3 L1241.32 1528.45 L1245.53 1528.45 Q1248.98 1528.45 1250.81 1527.09 Q1252.64 1525.7 1252.64 1523.11 Q1252.64 1520.45 1250.74 1519.03 Q1248.87 1517.6 1245.35 1517.6 Q1243.43 1517.6 1241.23 1518.01 Q1239.03 1518.43 1236.39 1519.31 L1236.39 1515.14 Q1239.05 1514.4 1241.37 1514.03 Q1243.7 1513.66 1245.77 1513.66 Q1251.09 1513.66 1254.19 1516.09 Q1257.29 1518.5 1257.29 1522.62 Q1257.29 1525.49 1255.65 1527.48 Q1254.01 1529.45 1250.97 1530.21 Z\" fill=\"#000000\" fill-rule=\"evenodd\" fill-opacity=\"1\" /><path clip-path=\"url(#clip320)\" d=\"M1771.45 1518.36 L1759.64 1536.81 L1771.45 1536.81 L1771.45 1518.36 M1770.22 1514.29 L1776.1 1514.29 L1776.1 1536.81 L1781.03 1536.81 L1781.03 1540.7 L1776.1 1540.7 L1776.1 1548.85 L1771.45 1548.85 L1771.45 1540.7 L1755.85 1540.7 L1755.85 1536.19 L1770.22 1514.29 Z\" fill=\"#000000\" fill-rule=\"evenodd\" fill-opacity=\"1\" /><path clip-path=\"url(#clip320)\" d=\"M2280.43 1514.29 L2298.78 1514.29 L2298.78 1518.22 L2284.71 1518.22 L2284.71 1526.7 Q2285.73 1526.35 2286.75 1526.19 Q2287.77 1526 2288.78 1526 Q2294.57 1526 2297.95 1529.17 Q2301.33 1532.34 2301.33 1537.76 Q2301.33 1543.34 2297.86 1546.44 Q2294.39 1549.52 2288.07 1549.52 Q2285.89 1549.52 2283.62 1549.15 Q2281.38 1548.78 2278.97 1548.04 L2278.97 1543.34 Q2281.05 1544.47 2283.28 1545.03 Q2285.5 1545.58 2287.97 1545.58 Q2291.98 1545.58 2294.32 1543.48 Q2296.66 1541.37 2296.66 1537.76 Q2296.66 1534.15 2294.32 1532.04 Q2291.98 1529.94 2287.97 1529.94 Q2286.1 1529.94 2284.22 1530.35 Q2282.37 1530.77 2280.43 1531.65 L2280.43 1514.29 Z\" fill=\"#000000\" fill-rule=\"evenodd\" fill-opacity=\"1\" /><polyline clip-path=\"url(#clip322)\" style=\"stroke:#000000; stroke-linecap:round; stroke-linejoin:round; stroke-width:2; stroke-opacity:0.1; fill:none\" points=\"\n",
       "  140.696,1318.43 2352.76,1318.43 \n",
       "  \"/>\n",
       "<polyline clip-path=\"url(#clip322)\" style=\"stroke:#000000; stroke-linecap:round; stroke-linejoin:round; stroke-width:2; stroke-opacity:0.1; fill:none\" points=\"\n",
       "  140.696,1106.28 2352.76,1106.28 \n",
       "  \"/>\n",
       "<polyline clip-path=\"url(#clip322)\" style=\"stroke:#000000; stroke-linecap:round; stroke-linejoin:round; stroke-width:2; stroke-opacity:0.1; fill:none\" points=\"\n",
       "  140.696,894.134 2352.76,894.134 \n",
       "  \"/>\n",
       "<polyline clip-path=\"url(#clip322)\" style=\"stroke:#000000; stroke-linecap:round; stroke-linejoin:round; stroke-width:2; stroke-opacity:0.1; fill:none\" points=\"\n",
       "  140.696,681.987 2352.76,681.987 \n",
       "  \"/>\n",
       "<polyline clip-path=\"url(#clip322)\" style=\"stroke:#000000; stroke-linecap:round; stroke-linejoin:round; stroke-width:2; stroke-opacity:0.1; fill:none\" points=\"\n",
       "  140.696,469.84 2352.76,469.84 \n",
       "  \"/>\n",
       "<polyline clip-path=\"url(#clip322)\" style=\"stroke:#000000; stroke-linecap:round; stroke-linejoin:round; stroke-width:2; stroke-opacity:0.1; fill:none\" points=\"\n",
       "  140.696,257.694 2352.76,257.694 \n",
       "  \"/>\n",
       "<polyline clip-path=\"url(#clip320)\" style=\"stroke:#000000; stroke-linecap:round; stroke-linejoin:round; stroke-width:4; stroke-opacity:1; fill:none\" points=\"\n",
       "  140.696,1486.45 140.696,47.2441 \n",
       "  \"/>\n",
       "<polyline clip-path=\"url(#clip320)\" style=\"stroke:#000000; stroke-linecap:round; stroke-linejoin:round; stroke-width:4; stroke-opacity:1; fill:none\" points=\"\n",
       "  140.696,1318.43 159.593,1318.43 \n",
       "  \"/>\n",
       "<polyline clip-path=\"url(#clip320)\" style=\"stroke:#000000; stroke-linecap:round; stroke-linejoin:round; stroke-width:4; stroke-opacity:1; fill:none\" points=\"\n",
       "  140.696,1106.28 159.593,1106.28 \n",
       "  \"/>\n",
       "<polyline clip-path=\"url(#clip320)\" style=\"stroke:#000000; stroke-linecap:round; stroke-linejoin:round; stroke-width:4; stroke-opacity:1; fill:none\" points=\"\n",
       "  140.696,894.134 159.593,894.134 \n",
       "  \"/>\n",
       "<polyline clip-path=\"url(#clip320)\" style=\"stroke:#000000; stroke-linecap:round; stroke-linejoin:round; stroke-width:4; stroke-opacity:1; fill:none\" points=\"\n",
       "  140.696,681.987 159.593,681.987 \n",
       "  \"/>\n",
       "<polyline clip-path=\"url(#clip320)\" style=\"stroke:#000000; stroke-linecap:round; stroke-linejoin:round; stroke-width:4; stroke-opacity:1; fill:none\" points=\"\n",
       "  140.696,469.84 159.593,469.84 \n",
       "  \"/>\n",
       "<polyline clip-path=\"url(#clip320)\" style=\"stroke:#000000; stroke-linecap:round; stroke-linejoin:round; stroke-width:4; stroke-opacity:1; fill:none\" points=\"\n",
       "  140.696,257.694 159.593,257.694 \n",
       "  \"/>\n",
       "<path clip-path=\"url(#clip320)\" d=\"M83.7929 1301.15 L102.149 1301.15 L102.149 1305.08 L88.0753 1305.08 L88.0753 1313.55 Q89.0938 1313.21 90.1123 1313.05 Q91.1308 1312.86 92.1493 1312.86 Q97.9363 1312.86 101.316 1316.03 Q104.696 1319.2 104.696 1324.62 Q104.696 1330.2 101.223 1333.3 Q97.7511 1336.38 91.4317 1336.38 Q89.2558 1336.38 86.9873 1336.01 Q84.7419 1335.64 82.3346 1334.9 L82.3346 1330.2 Q84.4179 1331.33 86.6401 1331.89 Q88.8623 1332.44 91.3391 1332.44 Q95.3437 1332.44 97.6817 1330.34 Q100.02 1328.23 100.02 1324.62 Q100.02 1321.01 97.6817 1318.9 Q95.3437 1316.8 91.3391 1316.8 Q89.4641 1316.8 87.5892 1317.21 Q85.7373 1317.63 83.7929 1318.51 L83.7929 1301.15 Z\" fill=\"#000000\" fill-rule=\"evenodd\" fill-opacity=\"1\" /><path clip-path=\"url(#clip320)\" d=\"M53.3995 1119.63 L61.0384 1119.63 L61.0384 1093.26 L52.7282 1094.93 L52.7282 1090.67 L60.9921 1089 L65.668 1089 L65.668 1119.63 L73.3068 1119.63 L73.3068 1123.56 L53.3995 1123.56 L53.3995 1119.63 Z\" fill=\"#000000\" fill-rule=\"evenodd\" fill-opacity=\"1\" /><path clip-path=\"url(#clip320)\" d=\"M92.7512 1092.08 Q89.1401 1092.08 87.3114 1095.64 Q85.5058 1099.19 85.5058 1106.32 Q85.5058 1113.42 87.3114 1116.99 Q89.1401 1120.53 92.7512 1120.53 Q96.3854 1120.53 98.1909 1116.99 Q100.02 1113.42 100.02 1106.32 Q100.02 1099.19 98.1909 1095.64 Q96.3854 1092.08 92.7512 1092.08 M92.7512 1088.38 Q98.5613 1088.38 101.617 1092.98 Q104.696 1097.57 104.696 1106.32 Q104.696 1115.04 101.617 1119.65 Q98.5613 1124.23 92.7512 1124.23 Q86.941 1124.23 83.8623 1119.65 Q80.8068 1115.04 80.8068 1106.32 Q80.8068 1097.57 83.8623 1092.98 Q86.941 1088.38 92.7512 1088.38 Z\" fill=\"#000000\" fill-rule=\"evenodd\" fill-opacity=\"1\" /><path clip-path=\"url(#clip320)\" d=\"M54.3949 907.479 L62.0337 907.479 L62.0337 881.113 L53.7236 882.78 L53.7236 878.521 L61.9874 876.854 L66.6633 876.854 L66.6633 907.479 L74.3022 907.479 L74.3022 911.414 L54.3949 911.414 L54.3949 907.479 Z\" fill=\"#000000\" fill-rule=\"evenodd\" fill-opacity=\"1\" /><path clip-path=\"url(#clip320)\" d=\"M83.7929 876.854 L102.149 876.854 L102.149 880.789 L88.0753 880.789 L88.0753 889.261 Q89.0938 888.914 90.1123 888.752 Q91.1308 888.567 92.1493 888.567 Q97.9363 888.567 101.316 891.738 Q104.696 894.91 104.696 900.326 Q104.696 905.905 101.223 909.007 Q97.7511 912.085 91.4317 912.085 Q89.2558 912.085 86.9873 911.715 Q84.7419 911.345 82.3346 910.604 L82.3346 905.905 Q84.4179 907.039 86.6401 907.595 Q88.8623 908.15 91.3391 908.15 Q95.3437 908.15 97.6817 906.044 Q100.02 903.937 100.02 900.326 Q100.02 896.715 97.6817 894.609 Q95.3437 892.502 91.3391 892.502 Q89.4641 892.502 87.5892 892.919 Q85.7373 893.335 83.7929 894.215 L83.7929 876.854 Z\" fill=\"#000000\" fill-rule=\"evenodd\" fill-opacity=\"1\" /><path clip-path=\"url(#clip320)\" d=\"M56.6171 695.332 L72.9365 695.332 L72.9365 699.267 L50.9921 699.267 L50.9921 695.332 Q53.6541 692.577 58.2375 687.948 Q62.8439 683.295 64.0245 681.953 Q66.2698 679.429 67.1494 677.693 Q68.0522 675.934 68.0522 674.244 Q68.0522 671.49 66.1078 669.754 Q64.1865 668.017 61.0847 668.017 Q58.8856 668.017 56.4319 668.781 Q54.0014 669.545 51.2236 671.096 L51.2236 666.374 Q54.0477 665.24 56.5014 664.661 Q58.955 664.082 60.9921 664.082 Q66.3624 664.082 69.5568 666.767 Q72.7513 669.453 72.7513 673.943 Q72.7513 676.073 71.9411 677.994 Q71.1541 679.892 69.0476 682.485 Q68.4689 683.156 65.367 686.374 Q62.2652 689.568 56.6171 695.332 Z\" fill=\"#000000\" fill-rule=\"evenodd\" fill-opacity=\"1\" /><path clip-path=\"url(#clip320)\" d=\"M92.7512 667.786 Q89.1401 667.786 87.3114 671.351 Q85.5058 674.892 85.5058 682.022 Q85.5058 689.128 87.3114 692.693 Q89.1401 696.235 92.7512 696.235 Q96.3854 696.235 98.1909 692.693 Q100.02 689.128 100.02 682.022 Q100.02 674.892 98.1909 671.351 Q96.3854 667.786 92.7512 667.786 M92.7512 664.082 Q98.5613 664.082 101.617 668.689 Q104.696 673.272 104.696 682.022 Q104.696 690.749 101.617 695.355 Q98.5613 699.939 92.7512 699.939 Q86.941 699.939 83.8623 695.355 Q80.8068 690.749 80.8068 682.022 Q80.8068 673.272 83.8623 668.689 Q86.941 664.082 92.7512 664.082 Z\" fill=\"#000000\" fill-rule=\"evenodd\" fill-opacity=\"1\" /><path clip-path=\"url(#clip320)\" d=\"M57.6125 483.185 L73.9318 483.185 L73.9318 487.12 L51.9875 487.12 L51.9875 483.185 Q54.6495 480.431 59.2328 475.801 Q63.8393 471.148 65.0198 469.806 Q67.2652 467.283 68.1448 465.547 Q69.0476 463.787 69.0476 462.097 Q69.0476 459.343 67.1032 457.607 Q65.1819 455.871 62.08 455.871 Q59.881 455.871 57.4273 456.635 Q54.9967 457.398 52.219 458.949 L52.219 454.227 Q55.043 453.093 57.4967 452.514 Q59.9504 451.935 61.9874 451.935 Q67.3578 451.935 70.5522 454.621 Q73.7466 457.306 73.7466 461.797 Q73.7466 463.926 72.9365 465.847 Q72.1494 467.746 70.0429 470.338 Q69.4642 471.009 66.3624 474.227 Q63.2606 477.421 57.6125 483.185 Z\" fill=\"#000000\" fill-rule=\"evenodd\" fill-opacity=\"1\" /><path clip-path=\"url(#clip320)\" d=\"M83.7929 452.56 L102.149 452.56 L102.149 456.496 L88.0753 456.496 L88.0753 464.968 Q89.0938 464.621 90.1123 464.459 Q91.1308 464.273 92.1493 464.273 Q97.9363 464.273 101.316 467.445 Q104.696 470.616 104.696 476.033 Q104.696 481.611 101.223 484.713 Q97.7511 487.792 91.4317 487.792 Q89.2558 487.792 86.9873 487.421 Q84.7419 487.051 82.3346 486.31 L82.3346 481.611 Q84.4179 482.746 86.6401 483.301 Q88.8623 483.857 91.3391 483.857 Q95.3437 483.857 97.6817 481.75 Q100.02 479.644 100.02 476.033 Q100.02 472.421 97.6817 470.315 Q95.3437 468.209 91.3391 468.209 Q89.4641 468.209 87.5892 468.625 Q85.7373 469.042 83.7929 469.922 L83.7929 452.56 Z\" fill=\"#000000\" fill-rule=\"evenodd\" fill-opacity=\"1\" /><path clip-path=\"url(#clip320)\" d=\"M66.7559 256.34 Q70.1124 257.057 71.9874 259.326 Q73.8855 261.594 73.8855 264.927 Q73.8855 270.043 70.367 272.844 Q66.8485 275.645 60.3671 275.645 Q58.1912 275.645 55.8764 275.205 Q53.5847 274.789 51.131 273.932 L51.131 269.418 Q53.0754 270.552 55.3903 271.131 Q57.7051 271.71 60.2282 271.71 Q64.6263 271.71 66.918 269.974 Q69.2328 268.238 69.2328 264.927 Q69.2328 261.872 67.08 260.159 Q64.9504 258.423 61.131 258.423 L57.1032 258.423 L57.1032 254.58 L61.3161 254.58 Q64.7652 254.58 66.5939 253.215 Q68.4226 251.826 68.4226 249.233 Q68.4226 246.571 66.5245 245.159 Q64.6495 243.724 61.131 243.724 Q59.2097 243.724 57.0106 244.141 Q54.8115 244.557 52.1727 245.437 L52.1727 241.27 Q54.8347 240.529 57.1495 240.159 Q59.4875 239.789 61.5476 239.789 Q66.8717 239.789 69.9735 242.219 Q73.0753 244.627 73.0753 248.747 Q73.0753 251.617 71.4318 253.608 Q69.7883 255.576 66.7559 256.34 Z\" fill=\"#000000\" fill-rule=\"evenodd\" fill-opacity=\"1\" /><path clip-path=\"url(#clip320)\" d=\"M92.7512 243.492 Q89.1401 243.492 87.3114 247.057 Q85.5058 250.599 85.5058 257.728 Q85.5058 264.835 87.3114 268.4 Q89.1401 271.941 92.7512 271.941 Q96.3854 271.941 98.1909 268.4 Q100.02 264.835 100.02 257.728 Q100.02 250.599 98.1909 247.057 Q96.3854 243.492 92.7512 243.492 M92.7512 239.789 Q98.5613 239.789 101.617 244.395 Q104.696 248.978 104.696 257.728 Q104.696 266.455 101.617 271.062 Q98.5613 275.645 92.7512 275.645 Q86.941 275.645 83.8623 271.062 Q80.8068 266.455 80.8068 257.728 Q80.8068 248.978 83.8623 244.395 Q86.941 239.789 92.7512 239.789 Z\" fill=\"#000000\" fill-rule=\"evenodd\" fill-opacity=\"1\" /><polyline clip-path=\"url(#clip322)\" style=\"stroke:#009af9; stroke-linecap:round; stroke-linejoin:round; stroke-width:4; stroke-opacity:1; fill:none\" points=\"\n",
       "  203.301,1445.72 464.157,1276 725.013,1106.28 985.87,936.563 1246.73,766.846 1507.58,597.129 1768.44,427.411 2029.29,257.694 2290.15,87.9763 \n",
       "  \"/>\n",
       "<path clip-path=\"url(#clip320)\" d=\"\n",
       "M214.431 198.898 L779.797 198.898 L779.797 95.2176 L214.431 95.2176  Z\n",
       "  \" fill=\"#ffffff\" fill-rule=\"evenodd\" fill-opacity=\"1\"/>\n",
       "<polyline clip-path=\"url(#clip320)\" style=\"stroke:#000000; stroke-linecap:round; stroke-linejoin:round; stroke-width:4; stroke-opacity:1; fill:none\" points=\"\n",
       "  214.431,198.898 779.797,198.898 779.797,95.2176 214.431,95.2176 214.431,198.898 \n",
       "  \"/>\n",
       "<polyline clip-path=\"url(#clip320)\" style=\"stroke:#009af9; stroke-linecap:round; stroke-linejoin:round; stroke-width:4; stroke-opacity:1; fill:none\" points=\"\n",
       "  239.009,147.058 386.48,147.058 \n",
       "  \"/>\n",
       "<path clip-path=\"url(#clip320)\" d=\"M411.058 128.319 L420.873 128.319 L420.873 131.629 L415.318 131.629 L415.318 167.277 L420.873 167.277 L420.873 170.588 L411.058 170.588 L411.058 128.319 Z\" fill=\"#000000\" fill-rule=\"evenodd\" fill-opacity=\"1\" /><path clip-path=\"url(#clip320)\" d=\"M433.975 129.778 L433.975 142.625 L430.04 142.625 L430.04 129.778 L433.975 129.778 M442.725 129.778 L442.725 142.625 L438.79 142.625 L438.79 129.778 L442.725 129.778 Z\" fill=\"#000000\" fill-rule=\"evenodd\" fill-opacity=\"1\" /><path clip-path=\"url(#clip320)\" d=\"M468.28 139.176 L468.28 143.203 Q466.475 142.277 464.53 141.815 Q462.586 141.352 460.503 141.352 Q457.331 141.352 455.734 142.324 Q454.16 143.296 454.16 145.24 Q454.16 146.722 455.294 147.578 Q456.429 148.412 459.855 149.176 L461.313 149.5 Q465.85 150.472 467.748 152.254 Q469.669 154.014 469.669 157.185 Q469.669 160.796 466.799 162.902 Q463.952 165.009 458.952 165.009 Q456.868 165.009 454.6 164.592 Q452.355 164.199 449.855 163.388 L449.855 158.99 Q452.216 160.217 454.507 160.842 Q456.799 161.444 459.044 161.444 Q462.054 161.444 463.674 160.426 Q465.294 159.384 465.294 157.509 Q465.294 155.773 464.114 154.847 Q462.956 153.921 458.998 153.064 L457.517 152.717 Q453.558 151.884 451.799 150.171 Q450.04 148.435 450.04 145.426 Q450.04 141.768 452.632 139.778 Q455.225 137.787 459.993 137.787 Q462.354 137.787 464.438 138.134 Q466.521 138.481 468.28 139.176 Z\" fill=\"#000000\" fill-rule=\"evenodd\" fill-opacity=\"1\" /><path clip-path=\"url(#clip320)\" d=\"M476.452 138.412 L480.711 138.412 L480.711 164.338 L476.452 164.338 L476.452 138.412 M476.452 128.319 L480.711 128.319 L480.711 133.713 L476.452 133.713 L476.452 128.319 Z\" fill=\"#000000\" fill-rule=\"evenodd\" fill-opacity=\"1\" /><path clip-path=\"url(#clip320)\" d=\"M509.808 143.389 Q511.405 140.518 513.627 139.153 Q515.85 137.787 518.859 137.787 Q522.91 137.787 525.109 140.634 Q527.308 143.458 527.308 148.689 L527.308 164.338 L523.025 164.338 L523.025 148.828 Q523.025 145.102 521.706 143.296 Q520.387 141.49 517.678 141.49 Q514.368 141.49 512.447 143.69 Q510.526 145.889 510.526 149.685 L510.526 164.338 L506.243 164.338 L506.243 148.828 Q506.243 145.078 504.924 143.296 Q503.604 141.49 500.85 141.49 Q497.586 141.49 495.665 143.713 Q493.743 145.912 493.743 149.685 L493.743 164.338 L489.461 164.338 L489.461 138.412 L493.743 138.412 L493.743 142.44 Q495.202 140.055 497.239 138.921 Q499.276 137.787 502.077 137.787 Q504.901 137.787 506.868 139.222 Q508.859 140.657 509.808 143.389 Z\" fill=\"#000000\" fill-rule=\"evenodd\" fill-opacity=\"1\" /><path clip-path=\"url(#clip320)\" d=\"M535.363 154.106 L535.363 138.412 L539.623 138.412 L539.623 153.944 Q539.623 157.625 541.058 159.476 Q542.493 161.305 545.363 161.305 Q548.812 161.305 550.803 159.106 Q552.817 156.907 552.817 153.111 L552.817 138.412 L557.076 138.412 L557.076 164.338 L552.817 164.338 L552.817 160.356 Q551.266 162.717 549.206 163.875 Q547.169 165.009 544.461 165.009 Q539.993 165.009 537.678 162.231 Q535.363 159.453 535.363 154.106 M546.081 137.787 L546.081 137.787 Z\" fill=\"#000000\" fill-rule=\"evenodd\" fill-opacity=\"1\" /><path clip-path=\"url(#clip320)\" d=\"M565.849 128.319 L570.109 128.319 L570.109 164.338 L565.849 164.338 L565.849 128.319 Z\" fill=\"#000000\" fill-rule=\"evenodd\" fill-opacity=\"1\" /><path clip-path=\"url(#clip320)\" d=\"M590.803 151.305 Q585.641 151.305 583.65 152.486 Q581.659 153.666 581.659 156.514 Q581.659 158.782 583.141 160.125 Q584.646 161.444 587.215 161.444 Q590.757 161.444 592.886 158.944 Q595.039 156.421 595.039 152.254 L595.039 151.305 L590.803 151.305 M599.298 149.546 L599.298 164.338 L595.039 164.338 L595.039 160.402 Q593.581 162.763 591.405 163.898 Q589.229 165.009 586.081 165.009 Q582.099 165.009 579.738 162.787 Q577.4 160.541 577.4 156.791 Q577.4 152.416 580.317 150.194 Q583.257 147.972 589.067 147.972 L595.039 147.972 L595.039 147.555 Q595.039 144.615 593.095 143.018 Q591.173 141.398 587.678 141.398 Q585.456 141.398 583.349 141.93 Q581.243 142.463 579.298 143.527 L579.298 139.592 Q581.636 138.69 583.835 138.25 Q586.034 137.787 588.118 137.787 Q593.743 137.787 596.52 140.703 Q599.298 143.62 599.298 149.546 Z\" fill=\"#000000\" fill-rule=\"evenodd\" fill-opacity=\"1\" /><path clip-path=\"url(#clip320)\" d=\"M612.284 131.051 L612.284 138.412 L621.057 138.412 L621.057 141.722 L612.284 141.722 L612.284 155.796 Q612.284 158.967 613.141 159.87 Q614.02 160.773 616.682 160.773 L621.057 160.773 L621.057 164.338 L616.682 164.338 Q611.752 164.338 609.877 162.509 Q608.002 160.657 608.002 155.796 L608.002 141.722 L604.877 141.722 L604.877 138.412 L608.002 138.412 L608.002 131.051 L612.284 131.051 Z\" fill=\"#000000\" fill-rule=\"evenodd\" fill-opacity=\"1\" /><path clip-path=\"url(#clip320)\" d=\"M626.659 138.412 L630.918 138.412 L630.918 164.338 L626.659 164.338 L626.659 138.412 M626.659 128.319 L630.918 128.319 L630.918 133.713 L626.659 133.713 L626.659 128.319 Z\" fill=\"#000000\" fill-rule=\"evenodd\" fill-opacity=\"1\" /><path clip-path=\"url(#clip320)\" d=\"M649.877 141.398 Q646.451 141.398 644.46 144.083 Q642.469 146.745 642.469 151.398 Q642.469 156.051 644.437 158.736 Q646.428 161.398 649.877 161.398 Q653.279 161.398 655.27 158.713 Q657.261 156.027 657.261 151.398 Q657.261 146.791 655.27 144.106 Q653.279 141.398 649.877 141.398 M649.877 137.787 Q655.432 137.787 658.603 141.398 Q661.775 145.009 661.775 151.398 Q661.775 157.764 658.603 161.398 Q655.432 165.009 649.877 165.009 Q644.298 165.009 641.127 161.398 Q637.979 157.764 637.979 151.398 Q637.979 145.009 641.127 141.398 Q644.298 137.787 649.877 137.787 Z\" fill=\"#000000\" fill-rule=\"evenodd\" fill-opacity=\"1\" /><path clip-path=\"url(#clip320)\" d=\"M690.386 148.689 L690.386 164.338 L686.126 164.338 L686.126 148.828 Q686.126 145.148 684.691 143.319 Q683.256 141.49 680.386 141.49 Q676.937 141.49 674.946 143.69 Q672.955 145.889 672.955 149.685 L672.955 164.338 L668.673 164.338 L668.673 138.412 L672.955 138.412 L672.955 142.44 Q674.483 140.102 676.543 138.944 Q678.626 137.787 681.335 137.787 Q685.802 137.787 688.094 140.565 Q690.386 143.319 690.386 148.689 Z\" fill=\"#000000\" fill-rule=\"evenodd\" fill-opacity=\"1\" /><path clip-path=\"url(#clip320)\" d=\"M702.909 129.778 L702.909 142.625 L698.974 142.625 L698.974 129.778 L702.909 129.778 M711.659 129.778 L711.659 142.625 L707.724 142.625 L707.724 129.778 L711.659 129.778 Z\" fill=\"#000000\" fill-rule=\"evenodd\" fill-opacity=\"1\" /><path clip-path=\"url(#clip320)\" d=\"M730.64 128.319 L730.64 170.588 L720.825 170.588 L720.825 167.277 L726.358 167.277 L726.358 131.629 L720.825 131.629 L720.825 128.319 L730.64 128.319 Z\" fill=\"#000000\" fill-rule=\"evenodd\" fill-opacity=\"1\" /></svg>\n"
      ]
     },
     "execution_count": 27,
     "metadata": {},
     "output_type": "execute_result"
    }
   ],
   "source": [
    "plot(u, y, label=[\"simulation\"], legend=:topleft)"
   ]
  },
  {
   "cell_type": "markdown",
   "metadata": {},
   "source": [
    "Autre exemple, système avec des entrées communes :"
   ]
  },
  {
   "cell_type": "code",
   "execution_count": 28,
   "metadata": {},
   "outputs": [
    {
     "data": {
      "text/plain": [
       "9×1 (max,+) dense matrix:\n",
       "   2\n",
       "  11\n",
       "  20\n",
       "  29\n",
       "  38\n",
       "  47\n",
       "  56\n",
       "  65\n",
       "  74\n"
      ]
     },
     "execution_count": 28,
     "metadata": {},
     "output_type": "execute_result"
    }
   ],
   "source": [
    "u = [MP(1:0.5:5) MP(1:0.5:5)]\n",
    "y = mpsimul([S1 S2], u, true)"
   ]
  }
 ],
 "metadata": {
  "kernelspec": {
   "display_name": "Julia 1.8.1",
   "language": "julia",
   "name": "julia-1.8"
  },
  "language_info": {
   "file_extension": ".jl",
   "mimetype": "application/julia",
   "name": "julia",
   "version": "1.8.1"
  }
 },
 "nbformat": 4,
 "nbformat_minor": 2
}
