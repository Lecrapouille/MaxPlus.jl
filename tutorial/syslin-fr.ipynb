{
 "cells": [
  {
   "cell_type": "markdown",
   "metadata": {},
   "source": [
    "# Système linéaire implicite et explicite Max-Plus\n",
    "\n",
    "\n",
    "Tout comme la boîte à outils Scilab, une structure Max-Plus pour Julia est proposée afin de manipuler des systèmes dynamiques linéaires implicites sous la forme suivante :\n",
    "\n",
    "$$\\left \\{ \\begin{array}{l}\n",
    "X(n) &= D X(n) \\oplus A X(n-1) \\oplus B U(n) \\\\\n",
    "Y(n) &= C X(n)\n",
    "\\end{array} \\right.$$\n",
    "\n",
    "Avec $x(0) = x_0$ connu. Le quintuplé $(A,B,C,D,x_0)$ est manipulé par la structure `MPSysLin`. Ce document fait suite à [l'introduction de la boîte à outil Julia pour l'algèbre Max-Plus](https://nbviewer.jupyter.org/github/Lecrapouille/MaxPlus.jl/blob/master/tutorial/core-fr.ipynb) et nous verrons comment manipuler cette structure qui sera utilisée sur un problème concret dans le [document suivant](https://nbviewer.jupyter.org/github/Lecrapouille/MaxPlus.jl/blob/master/tutorial/flowshop-fr.ipynb)."
   ]
  },
  {
   "cell_type": "markdown",
   "metadata": {},
   "source": [
    "# Prérequis\n",
    "\n",
    "Si ce n'est pas déjà fait, chargeons la boîte à outils Max-Plus. Pour rappel, le document précédent explique plus longuement comment faire. "
   ]
  },
  {
   "cell_type": "code",
   "execution_count": 1,
   "metadata": {
    "scrolled": true
   },
   "outputs": [
    {
     "name": "stderr",
     "output_type": "stream",
     "text": [
      "┌ Info: Precompiling MaxPlus [41177cfe-c387-11e9-2806-edd030e4594e]\n",
      "└ @ Base loading.jl:1317\n"
     ]
    }
   ],
   "source": [
    "push!(LOAD_PATH, pwd())\n",
    "using MaxPlus"
   ]
  },
  {
   "cell_type": "markdown",
   "metadata": {},
   "source": [
    "Toujours pour des soucis d'appel à fonction `Base.show` depuis un document Jupyter, nous forçons l'affichage en mode plein :"
   ]
  },
  {
   "cell_type": "code",
   "execution_count": 2,
   "metadata": {},
   "outputs": [],
   "source": [
    "Base.show(io::IO, ::MIME\"text/latex\", x::MP) = show(io, MIME\"text/plain\", x)\n",
    "Base.show(io::IO, ::MIME\"text/latex\", A::ArrMP) = show(io, MIME\"text/plain\", A)\n",
    "Base.show(io::IO, ::MIME\"text/latex\", S::SpaMP) = show(io, MIME\"text/plain\", S)\n",
    "Base.show(io::IO, ::MIME\"text/latex\", S::MPSysLin) = show(io, MIME\"text/plain\", S)"
   ]
  },
  {
   "cell_type": "markdown",
   "metadata": {},
   "source": [
    "Pour ce document Jupyter, on va se créer une fonction qui forcera l'affichage LaTeX :"
   ]
  },
  {
   "cell_type": "code",
   "execution_count": 3,
   "metadata": {},
   "outputs": [
    {
     "data": {
      "text/plain": [
       "latexify (generic function with 2 methods)"
      ]
     },
     "execution_count": 3,
     "metadata": {},
     "output_type": "execute_result"
    }
   ],
   "source": [
    "using LaTeXStrings\n",
    "\n",
    "latexify(S1, name=\"S\") = latexstring(name, \"=\", LaTeX(S1))"
   ]
  },
  {
   "cell_type": "markdown",
   "metadata": {},
   "source": [
    "## Construction d'un système linéaire implicite Max-Plus\n",
    "\n",
    "Créons notre premier système linéaire Max-Plus implicite grâce aux constructeurs de la structure Julia associés `MPSysLin(A, B, C [,D, x0])` :\n",
    "\n",
    "$$S_1=\\left\\{\\begin{array}{lcl}\n",
    "x_n & = & \\left[\n",
    "\\begin{array}{*{20}c}\n",
    "0 & . \\\\\n",
    ". & 0 \\\\\n",
    "\\end{array}\n",
    "\\right]\n",
    " x_n \\oplus \\left[\n",
    "\\begin{array}{*{20}c}\n",
    "1 & 2 \\\\\n",
    "3 & 4 \\\\\n",
    "\\end{array}\n",
    "\\right]\n",
    " x_{n-1} \\oplus \\left[\n",
    "\\begin{array}{*{20}c}\n",
    "0 \\\\\n",
    "0 \\\\\n",
    "\\end{array}\n",
    "\\right]\n",
    " u_n\\\\y_n & = & \\left[\n",
    "\\begin{array}{*{20}c}\n",
    "0 & 0 \\\\\n",
    "\\end{array}\n",
    "\\right]\n",
    " x_n\\\\x_0 & = & \\left[\n",
    "\\begin{array}{*{20}c}\n",
    ". \\\\\n",
    ". \\\\\n",
    "\\end{array}\n",
    "\\right]\n",
    "\\end{array}\\right.$$\n",
    "\n",
    "La matrice $D$ et le vecteur $x_0$ sont optionnels. S'ils ne sont pas donnés ils seront automatiquement créés et remplis de $\\varepsilon$."
   ]
  },
  {
   "cell_type": "code",
   "execution_count": 4,
   "metadata": {},
   "outputs": [
    {
     "data": {
      "text/plain": [
       "Implicit dynamic linear Max-Plus system:\n",
       "  x(n) = D*x(n) + A*x(n-1) + B*u(n)\n",
       "  y(n) = C*x(n)\n",
       "  x(0) = x0\n",
       "\n",
       "with:\n",
       "D = 2×2 Max-Plus dense matrix:\n",
       "  0   .\n",
       "  .   0\n",
       "\n",
       "A = 2×2 Max-Plus dense matrix:\n",
       "  1   2\n",
       "  3   4\n",
       "\n",
       "B = 2-element Max-Plus vector:\n",
       "  0\n",
       "  0\n",
       "\n",
       "C = 1×2 Max-Plus dense matrix:\n",
       "  0   0\n",
       "\n",
       "x0 = 2-element Max-Plus vector:\n",
       "  .\n",
       "  .\n"
      ]
     },
     "execution_count": 4,
     "metadata": {},
     "output_type": "execute_result"
    }
   ],
   "source": [
    "S1 = MPSysLin(MP([1 2; 3 4]),      # A\n",
    "              MP([0;0]),           # B\n",
    "              MP([0 0]),           # C\n",
    "              mpeye(2,2),          # D (optionel)\n",
    "              full(mpzeros(2,1)))  # x0 (optionel)"
   ]
  },
  {
   "cell_type": "markdown",
   "metadata": {},
   "source": [
    "Et le deuxième système implicite :\n",
    "\n",
    "$$S_2=\\left\\{\\begin{array}{lcl}\n",
    "x_n & = & \\left[\n",
    "\\begin{array}{*{20}c}\n",
    "0 & . & . \\\\\n",
    ". & 0 & . \\\\\n",
    ". & . & 0 \\\\\n",
    "\\end{array}\n",
    "\\right]\n",
    " x_n \\oplus \\left[\n",
    "\\begin{array}{*{20}c}\n",
    "1 & 2 & 3 \\\\\n",
    "4 & 5 & 6 \\\\\n",
    "7 & 8 & 9 \\\\\n",
    "\\end{array}\n",
    "\\right]\n",
    " x_{n-1} \\oplus \\left[\n",
    "\\begin{array}{*{20}c}\n",
    "0 \\\\\n",
    "0 \\\\\n",
    "0 \\\\\n",
    "\\end{array}\n",
    "\\right]\n",
    " u_n\\\\y_n & = & \\left[\n",
    "\\begin{array}{*{20}c}\n",
    "0 & 0 & 0 \\\\\n",
    "\\end{array}\n",
    "\\right]\n",
    " x_n\\\\x_0 & = & \\left[\n",
    "\\begin{array}{*{20}c}\n",
    ". \\\\\n",
    ". \\\\\n",
    ". \\\\\n",
    "\\end{array}\n",
    "\\right]\n",
    "\\end{array}\\right.$$"
   ]
  },
  {
   "cell_type": "code",
   "execution_count": 5,
   "metadata": {},
   "outputs": [
    {
     "data": {
      "text/plain": [
       "Implicit dynamic linear Max-Plus system:\n",
       "  x(n) = D*x(n) + A*x(n-1) + B*u(n)\n",
       "  y(n) = C*x(n)\n",
       "  x(0) = x0\n",
       "\n",
       "with:\n",
       "D = 3×3 Max-Plus dense matrix:\n",
       "  0   .   .\n",
       "  .   0   .\n",
       "  .   .   0\n",
       "\n",
       "A = 3×3 Max-Plus dense matrix:\n",
       "  1   2   3\n",
       "  4   5   6\n",
       "  7   8   9\n",
       "\n",
       "B = 3-element Max-Plus vector:\n",
       "  0\n",
       "  0\n",
       "  0\n",
       "\n",
       "C = 1×3 Max-Plus dense matrix:\n",
       "  0   0   0\n",
       "\n",
       "x0 = 3-element Max-Plus vector:\n",
       "  .\n",
       "  .\n",
       "  .\n"
      ]
     },
     "execution_count": 5,
     "metadata": {},
     "output_type": "execute_result"
    }
   ],
   "source": [
    "S2 = MPSysLin(MP([1 2 3; 4 5 6; 7 8 9]),  # A\n",
    "              MP([0;0;0]),                # B\n",
    "              MP([0 0 0]),                # C\n",
    "              mpeye(3,3))                 # D\n",
    "                                          # x0 to zeros vector"
   ]
  },
  {
   "cell_type": "markdown",
   "metadata": {},
   "source": [
    "## Affichage de systèmes implicites Max-Plus en $\\LaTeX$\n",
    "\n",
    "Comme cet affichage n'est pas le plus amicale, on peut générer du code $\\LaTeX$ soit avec la fonction `LaTeX` (et si l'on ne passe pas l'argument `IO` alors une chaîne de caractères sera retournée) soit via la fonction `Base.show` en passant l'argument `::MIME\"text/latex\"` :"
   ]
  },
  {
   "cell_type": "code",
   "execution_count": 6,
   "metadata": {},
   "outputs": [
    {
     "name": "stdout",
     "output_type": "stream",
     "text": [
      "\\left\\{\\begin{array}{lcl}\n",
      "x_n & = & \\left[\n",
      "\\begin{array}{*{20}c}\n",
      "0 & . \\\\\n",
      ". & 0 \\\\\n",
      "\\end{array}\n",
      "\\right]\n",
      " x_n \\oplus \\left[\n",
      "\\begin{array}{*{20}c}\n",
      "1 & 2 \\\\\n",
      "3 & 4 \\\\\n",
      "\\end{array}\n",
      "\\right]\n",
      " x_{n-1} \\oplus \\left[\n",
      "\\begin{array}{*{20}c}\n",
      "0 \\\\\n",
      "0 \\\\\n",
      "\\end{array}\n",
      "\\right]\n",
      " u_n\\\\y_n & = & \\left[\n",
      "\\begin{array}{*{20}c}\n",
      "0 & 0 \\\\\n",
      "\\end{array}\n",
      "\\right]\n",
      " x_n\\\\x_0 & = & \\left[\n",
      "\\begin{array}{*{20}c}\n",
      ". \\\\\n",
      ". \\\\\n",
      "\\end{array}\n",
      "\\right]\n",
      "\\end{array}\\right."
     ]
    }
   ],
   "source": [
    "LaTeX(stdout, S1)  # show(stdout, \"text/latex\", S1)"
   ]
  },
  {
   "cell_type": "markdown",
   "metadata": {},
   "source": [
    "## Composition de systèmes implicites Max-Plus\n",
    "\n",
    "Tout comme Scilab, Julia permet de surcharger des opérateurs de base, que l'on utilisera pour composer des systèmes linéaires."
   ]
  },
  {
   "cell_type": "markdown",
   "metadata": {},
   "source": [
    "#### Composition parallèle"
   ]
  },
  {
   "cell_type": "code",
   "execution_count": 7,
   "metadata": {
    "scrolled": false
   },
   "outputs": [
    {
     "data": {
      "text/latex": [
       "$S=\\left\\{\\begin{array}{lcl}\n",
       "x_n & = & \\left[\n",
       "\\begin{array}{*{20}c}\n",
       "0 & . & . & . & . \\\\\n",
       ". & 0 & . & . & . \\\\\n",
       ". & . & 0 & . & . \\\\\n",
       ". & . & . & 0 & . \\\\\n",
       ". & . & . & . & 0 \\\\\n",
       "\\end{array}\n",
       "\\right]\n",
       " x_n \\oplus \\left[\n",
       "\\begin{array}{*{20}c}\n",
       "1 & 2 & . & . & . \\\\\n",
       "3 & 4 & . & . & . \\\\\n",
       ". & . & 1 & 2 & 3 \\\\\n",
       ". & . & 4 & 5 & 6 \\\\\n",
       ". & . & 7 & 8 & 9 \\\\\n",
       "\\end{array}\n",
       "\\right]\n",
       " x_{n-1} \\oplus \\left[\n",
       "\\begin{array}{*{20}c}\n",
       "0 \\\\\n",
       "0 \\\\\n",
       "0 \\\\\n",
       "0 \\\\\n",
       "0 \\\\\n",
       "\\end{array}\n",
       "\\right]\n",
       " u_n\\\\ y_n & = & \\left[\n",
       "\\begin{array}{*{20}c}\n",
       "0 & 0 & 0 & 0 & 0 \\\\\n",
       "\\end{array}\n",
       "\\right]\n",
       " x_n\\\\ x_0 & = & \\left[\n",
       "\\begin{array}{*{20}c}\n",
       ". \\\\\n",
       ". \\\\\n",
       ". \\\\\n",
       ". \\\\\n",
       ". \\\\\n",
       "\\end{array}\n",
       "\\right]\n",
       "\\end{array}\\right.$"
      ],
      "text/plain": [
       "L\"$S=\\left\\{\\begin{array}{lcl}\n",
       "x_n & = & \\left[\n",
       "\\begin{array}{*{20}c}\n",
       "0 & . & . & . & . \\\\\n",
       ". & 0 & . & . & . \\\\\n",
       ". & . & 0 & . & . \\\\\n",
       ". & . & . & 0 & . \\\\\n",
       ". & . & . & . & 0 \\\\\n",
       "\\end{array}\n",
       "\\right]\n",
       " x_n \\oplus \\left[\n",
       "\\begin{array}{*{20}c}\n",
       "1 & 2 & . & . & . \\\\\n",
       "3 & 4 & . & . & . \\\\\n",
       ". & . & 1 & 2 & 3 \\\\\n",
       ". & . & 4 & 5 & 6 \\\\\n",
       ". & . & 7 & 8 & 9 \\\\\n",
       "\\end{array}\n",
       "\\right]\n",
       " x_{n-1} \\oplus \\left[\n",
       "\\begin{array}{*{20}c}\n",
       "0 \\\\\n",
       "0 \\\\\n",
       "0 \\\\\n",
       "0 \\\\\n",
       "0 \\\\\n",
       "\\end{array}\n",
       "\\right]\n",
       " u_n\\\\ y_n & = & \\left[\n",
       "\\begin{array}{*{20}c}\n",
       "0 & 0 & 0 & 0 & 0 \\\\\n",
       "\\end{array}\n",
       "\\right]\n",
       " x_n\\\\ x_0 & = & \\left[\n",
       "\\begin{array}{*{20}c}\n",
       ". \\\\\n",
       ". \\\\\n",
       ". \\\\\n",
       ". \\\\\n",
       ". \\\\\n",
       "\\end{array}\n",
       "\\right]\n",
       "\\end{array}\\right.$\""
      ]
     },
     "execution_count": 7,
     "metadata": {},
     "output_type": "execute_result"
    }
   ],
   "source": [
    "S = S1 + S2; latexify(S)"
   ]
  },
  {
   "cell_type": "markdown",
   "metadata": {},
   "source": [
    "#### Composition diagonale"
   ]
  },
  {
   "cell_type": "code",
   "execution_count": 8,
   "metadata": {},
   "outputs": [
    {
     "data": {
      "text/latex": [
       "$S=\\left\\{\\begin{array}{lcl}\n",
       "x_n & = & \\left[\n",
       "\\begin{array}{*{20}c}\n",
       "0 & . & . & . & . \\\\\n",
       ". & 0 & . & . & . \\\\\n",
       ". & . & 0 & . & . \\\\\n",
       ". & . & . & 0 & . \\\\\n",
       ". & . & . & . & 0 \\\\\n",
       "\\end{array}\n",
       "\\right]\n",
       " x_n \\oplus \\left[\n",
       "\\begin{array}{*{20}c}\n",
       "1 & 2 & . & . & . \\\\\n",
       "3 & 4 & . & . & . \\\\\n",
       ". & . & 1 & 2 & 3 \\\\\n",
       ". & . & 4 & 5 & 6 \\\\\n",
       ". & . & 7 & 8 & 9 \\\\\n",
       "\\end{array}\n",
       "\\right]\n",
       " x_{n-1} \\oplus \\left[\n",
       "\\begin{array}{*{20}c}\n",
       "0 & . \\\\\n",
       "0 & . \\\\\n",
       ". & 0 \\\\\n",
       ". & 0 \\\\\n",
       ". & 0 \\\\\n",
       "\\end{array}\n",
       "\\right]\n",
       " u_n\\\\ y_n & = & \\left[\n",
       "\\begin{array}{*{20}c}\n",
       "0 & 0 & . & . & . \\\\\n",
       ". & . & 0 & 0 & 0 \\\\\n",
       "\\end{array}\n",
       "\\right]\n",
       " x_n\\\\ x_0 & = & \\left[\n",
       "\\begin{array}{*{20}c}\n",
       ". \\\\\n",
       ". \\\\\n",
       ". \\\\\n",
       ". \\\\\n",
       ". \\\\\n",
       "\\end{array}\n",
       "\\right]\n",
       "\\end{array}\\right.$"
      ],
      "text/plain": [
       "L\"$S=\\left\\{\\begin{array}{lcl}\n",
       "x_n & = & \\left[\n",
       "\\begin{array}{*{20}c}\n",
       "0 & . & . & . & . \\\\\n",
       ". & 0 & . & . & . \\\\\n",
       ". & . & 0 & . & . \\\\\n",
       ". & . & . & 0 & . \\\\\n",
       ". & . & . & . & 0 \\\\\n",
       "\\end{array}\n",
       "\\right]\n",
       " x_n \\oplus \\left[\n",
       "\\begin{array}{*{20}c}\n",
       "1 & 2 & . & . & . \\\\\n",
       "3 & 4 & . & . & . \\\\\n",
       ". & . & 1 & 2 & 3 \\\\\n",
       ". & . & 4 & 5 & 6 \\\\\n",
       ". & . & 7 & 8 & 9 \\\\\n",
       "\\end{array}\n",
       "\\right]\n",
       " x_{n-1} \\oplus \\left[\n",
       "\\begin{array}{*{20}c}\n",
       "0 & . \\\\\n",
       "0 & . \\\\\n",
       ". & 0 \\\\\n",
       ". & 0 \\\\\n",
       ". & 0 \\\\\n",
       "\\end{array}\n",
       "\\right]\n",
       " u_n\\\\ y_n & = & \\left[\n",
       "\\begin{array}{*{20}c}\n",
       "0 & 0 & . & . & . \\\\\n",
       ". & . & 0 & 0 & 0 \\\\\n",
       "\\end{array}\n",
       "\\right]\n",
       " x_n\\\\ x_0 & = & \\left[\n",
       "\\begin{array}{*{20}c}\n",
       ". \\\\\n",
       ". \\\\\n",
       ". \\\\\n",
       ". \\\\\n",
       ". \\\\\n",
       "\\end{array}\n",
       "\\right]\n",
       "\\end{array}\\right.$\""
      ]
     },
     "execution_count": 8,
     "metadata": {},
     "output_type": "execute_result"
    }
   ],
   "source": [
    "S = S1 | S2; latexify(S)"
   ]
  },
  {
   "cell_type": "markdown",
   "metadata": {},
   "source": [
    "#### Composition en série"
   ]
  },
  {
   "cell_type": "code",
   "execution_count": 9,
   "metadata": {},
   "outputs": [
    {
     "data": {
      "text/latex": [
       "$S=\\left\\{\\begin{array}{lcl}\n",
       "x_n & = & \\left[\n",
       "\\begin{array}{*{20}c}\n",
       "0 & . & . & . & . \\\\\n",
       ". & 0 & . & . & . \\\\\n",
       ". & . & 0 & . & . \\\\\n",
       "0 & 0 & 0 & 0 & . \\\\\n",
       "0 & 0 & 0 & . & 0 \\\\\n",
       "\\end{array}\n",
       "\\right]\n",
       " x_n \\oplus \\left[\n",
       "\\begin{array}{*{20}c}\n",
       "1 & 2 & 3 & . & . \\\\\n",
       "4 & 5 & 6 & . & . \\\\\n",
       "7 & 8 & 9 & . & . \\\\\n",
       ". & . & . & 1 & 2 \\\\\n",
       ". & . & . & 3 & 4 \\\\\n",
       "\\end{array}\n",
       "\\right]\n",
       " x_{n-1} \\oplus \\left[\n",
       "\\begin{array}{*{20}c}\n",
       "0 \\\\\n",
       "0 \\\\\n",
       "0 \\\\\n",
       ". \\\\\n",
       ". \\\\\n",
       "\\end{array}\n",
       "\\right]\n",
       " u_n\\\\ y_n & = & \\left[\n",
       "\\begin{array}{*{20}c}\n",
       ". & . & . & 0 & 0 \\\\\n",
       "\\end{array}\n",
       "\\right]\n",
       " x_n\\\\ x_0 & = & \\left[\n",
       "\\begin{array}{*{20}c}\n",
       ". \\\\\n",
       ". \\\\\n",
       ". \\\\\n",
       ". \\\\\n",
       ". \\\\\n",
       "\\end{array}\n",
       "\\right]\n",
       "\\end{array}\\right.$"
      ],
      "text/plain": [
       "L\"$S=\\left\\{\\begin{array}{lcl}\n",
       "x_n & = & \\left[\n",
       "\\begin{array}{*{20}c}\n",
       "0 & . & . & . & . \\\\\n",
       ". & 0 & . & . & . \\\\\n",
       ". & . & 0 & . & . \\\\\n",
       "0 & 0 & 0 & 0 & . \\\\\n",
       "0 & 0 & 0 & . & 0 \\\\\n",
       "\\end{array}\n",
       "\\right]\n",
       " x_n \\oplus \\left[\n",
       "\\begin{array}{*{20}c}\n",
       "1 & 2 & 3 & . & . \\\\\n",
       "4 & 5 & 6 & . & . \\\\\n",
       "7 & 8 & 9 & . & . \\\\\n",
       ". & . & . & 1 & 2 \\\\\n",
       ". & . & . & 3 & 4 \\\\\n",
       "\\end{array}\n",
       "\\right]\n",
       " x_{n-1} \\oplus \\left[\n",
       "\\begin{array}{*{20}c}\n",
       "0 \\\\\n",
       "0 \\\\\n",
       "0 \\\\\n",
       ". \\\\\n",
       ". \\\\\n",
       "\\end{array}\n",
       "\\right]\n",
       " u_n\\\\ y_n & = & \\left[\n",
       "\\begin{array}{*{20}c}\n",
       ". & . & . & 0 & 0 \\\\\n",
       "\\end{array}\n",
       "\\right]\n",
       " x_n\\\\ x_0 & = & \\left[\n",
       "\\begin{array}{*{20}c}\n",
       ". \\\\\n",
       ". \\\\\n",
       ". \\\\\n",
       ". \\\\\n",
       ". \\\\\n",
       "\\end{array}\n",
       "\\right]\n",
       "\\end{array}\\right.$\""
      ]
     },
     "execution_count": 9,
     "metadata": {},
     "output_type": "execute_result"
    }
   ],
   "source": [
    "S = S1 * S2; latexify(S)"
   ]
  },
  {
   "cell_type": "markdown",
   "metadata": {},
   "source": [
    "#### Entrées communes"
   ]
  },
  {
   "cell_type": "code",
   "execution_count": 10,
   "metadata": {},
   "outputs": [
    {
     "data": {
      "text/latex": [
       "$S=\\left\\{\\begin{array}{lcl}\n",
       "x_n & = & \\left[\n",
       "\\begin{array}{*{20}c}\n",
       "0 & . & . & . & . \\\\\n",
       ". & 0 & . & . & . \\\\\n",
       ". & . & 0 & . & . \\\\\n",
       ". & . & . & 0 & . \\\\\n",
       ". & . & . & . & 0 \\\\\n",
       "\\end{array}\n",
       "\\right]\n",
       " x_n \\oplus \\left[\n",
       "\\begin{array}{*{20}c}\n",
       "1 & 2 & . & . & . \\\\\n",
       "3 & 4 & . & . & . \\\\\n",
       ". & . & 1 & 2 & 3 \\\\\n",
       ". & . & 4 & 5 & 6 \\\\\n",
       ". & . & 7 & 8 & 9 \\\\\n",
       "\\end{array}\n",
       "\\right]\n",
       " x_{n-1} \\oplus \\left[\n",
       "\\begin{array}{*{20}c}\n",
       "0 & . \\\\\n",
       "0 & . \\\\\n",
       ". & 0 \\\\\n",
       ". & 0 \\\\\n",
       ". & 0 \\\\\n",
       "\\end{array}\n",
       "\\right]\n",
       " u_n\\\\ y_n & = & \\left[\n",
       "\\begin{array}{*{20}c}\n",
       "0 & 0 & 0 & 0 & 0 \\\\\n",
       "\\end{array}\n",
       "\\right]\n",
       " x_n\\\\ x_0 & = & \\left[\n",
       "\\begin{array}{*{20}c}\n",
       ". \\\\\n",
       ". \\\\\n",
       ". \\\\\n",
       ". \\\\\n",
       ". \\\\\n",
       "\\end{array}\n",
       "\\right]\n",
       "\\end{array}\\right.$"
      ],
      "text/plain": [
       "L\"$S=\\left\\{\\begin{array}{lcl}\n",
       "x_n & = & \\left[\n",
       "\\begin{array}{*{20}c}\n",
       "0 & . & . & . & . \\\\\n",
       ". & 0 & . & . & . \\\\\n",
       ". & . & 0 & . & . \\\\\n",
       ". & . & . & 0 & . \\\\\n",
       ". & . & . & . & 0 \\\\\n",
       "\\end{array}\n",
       "\\right]\n",
       " x_n \\oplus \\left[\n",
       "\\begin{array}{*{20}c}\n",
       "1 & 2 & . & . & . \\\\\n",
       "3 & 4 & . & . & . \\\\\n",
       ". & . & 1 & 2 & 3 \\\\\n",
       ". & . & 4 & 5 & 6 \\\\\n",
       ". & . & 7 & 8 & 9 \\\\\n",
       "\\end{array}\n",
       "\\right]\n",
       " x_{n-1} \\oplus \\left[\n",
       "\\begin{array}{*{20}c}\n",
       "0 & . \\\\\n",
       "0 & . \\\\\n",
       ". & 0 \\\\\n",
       ". & 0 \\\\\n",
       ". & 0 \\\\\n",
       "\\end{array}\n",
       "\\right]\n",
       " u_n\\\\ y_n & = & \\left[\n",
       "\\begin{array}{*{20}c}\n",
       "0 & 0 & 0 & 0 & 0 \\\\\n",
       "\\end{array}\n",
       "\\right]\n",
       " x_n\\\\ x_0 & = & \\left[\n",
       "\\begin{array}{*{20}c}\n",
       ". \\\\\n",
       ". \\\\\n",
       ". \\\\\n",
       ". \\\\\n",
       ". \\\\\n",
       "\\end{array}\n",
       "\\right]\n",
       "\\end{array}\\right.$\""
      ]
     },
     "execution_count": 10,
     "metadata": {},
     "output_type": "execute_result"
    }
   ],
   "source": [
    "S = [S1 S2]; latexify(S)"
   ]
  },
  {
   "cell_type": "markdown",
   "metadata": {},
   "source": [
    "#### Sorties communes"
   ]
  },
  {
   "cell_type": "code",
   "execution_count": 11,
   "metadata": {},
   "outputs": [
    {
     "data": {
      "text/latex": [
       "$S=\\left\\{\\begin{array}{lcl}\n",
       "x_n & = & \\left[\n",
       "\\begin{array}{*{20}c}\n",
       "0 & . & . & . & . \\\\\n",
       ". & 0 & . & . & . \\\\\n",
       ". & . & 0 & . & . \\\\\n",
       ". & . & . & 0 & . \\\\\n",
       ". & . & . & . & 0 \\\\\n",
       "\\end{array}\n",
       "\\right]\n",
       " x_n \\oplus \\left[\n",
       "\\begin{array}{*{20}c}\n",
       "1 & 2 & . & . & . \\\\\n",
       "3 & 4 & . & . & . \\\\\n",
       ". & . & 1 & 2 & 3 \\\\\n",
       ". & . & 4 & 5 & 6 \\\\\n",
       ". & . & 7 & 8 & 9 \\\\\n",
       "\\end{array}\n",
       "\\right]\n",
       " x_{n-1} \\oplus \\left[\n",
       "\\begin{array}{*{20}c}\n",
       "0 \\\\\n",
       "0 \\\\\n",
       "0 \\\\\n",
       "0 \\\\\n",
       "0 \\\\\n",
       "\\end{array}\n",
       "\\right]\n",
       " u_n\\\\ y_n & = & \\left[\n",
       "\\begin{array}{*{20}c}\n",
       "0 & 0 & . & . & . \\\\\n",
       ". & . & 0 & 0 & 0 \\\\\n",
       "\\end{array}\n",
       "\\right]\n",
       " x_n\\\\ x_0 & = & \\left[\n",
       "\\begin{array}{*{20}c}\n",
       ". \\\\\n",
       ". \\\\\n",
       ". \\\\\n",
       ". \\\\\n",
       ". \\\\\n",
       "\\end{array}\n",
       "\\right]\n",
       "\\end{array}\\right.$"
      ],
      "text/plain": [
       "L\"$S=\\left\\{\\begin{array}{lcl}\n",
       "x_n & = & \\left[\n",
       "\\begin{array}{*{20}c}\n",
       "0 & . & . & . & . \\\\\n",
       ". & 0 & . & . & . \\\\\n",
       ". & . & 0 & . & . \\\\\n",
       ". & . & . & 0 & . \\\\\n",
       ". & . & . & . & 0 \\\\\n",
       "\\end{array}\n",
       "\\right]\n",
       " x_n \\oplus \\left[\n",
       "\\begin{array}{*{20}c}\n",
       "1 & 2 & . & . & . \\\\\n",
       "3 & 4 & . & . & . \\\\\n",
       ". & . & 1 & 2 & 3 \\\\\n",
       ". & . & 4 & 5 & 6 \\\\\n",
       ". & . & 7 & 8 & 9 \\\\\n",
       "\\end{array}\n",
       "\\right]\n",
       " x_{n-1} \\oplus \\left[\n",
       "\\begin{array}{*{20}c}\n",
       "0 \\\\\n",
       "0 \\\\\n",
       "0 \\\\\n",
       "0 \\\\\n",
       "0 \\\\\n",
       "\\end{array}\n",
       "\\right]\n",
       " u_n\\\\ y_n & = & \\left[\n",
       "\\begin{array}{*{20}c}\n",
       "0 & 0 & . & . & . \\\\\n",
       ". & . & 0 & 0 & 0 \\\\\n",
       "\\end{array}\n",
       "\\right]\n",
       " x_n\\\\ x_0 & = & \\left[\n",
       "\\begin{array}{*{20}c}\n",
       ". \\\\\n",
       ". \\\\\n",
       ". \\\\\n",
       ". \\\\\n",
       ". \\\\\n",
       "\\end{array}\n",
       "\\right]\n",
       "\\end{array}\\right.$\""
      ]
     },
     "execution_count": 11,
     "metadata": {},
     "output_type": "execute_result"
    }
   ],
   "source": [
    "S = [S1; S2]; latexify(S)"
   ]
  },
  {
   "cell_type": "markdown",
   "metadata": {},
   "source": [
    "#### Composition avec retro-action"
   ]
  },
  {
   "cell_type": "code",
   "execution_count": 12,
   "metadata": {},
   "outputs": [
    {
     "data": {
      "text/latex": [
       "$S=\\left\\{\\begin{array}{lcl}\n",
       "x_n & = & \\left[\n",
       "\\begin{array}{*{20}c}\n",
       "0 & . & 0 & 0 & 0 \\\\\n",
       ". & 0 & 0 & 0 & 0 \\\\\n",
       "0 & 0 & 0 & . & . \\\\\n",
       "0 & 0 & . & 0 & . \\\\\n",
       "0 & 0 & . & . & 0 \\\\\n",
       "\\end{array}\n",
       "\\right]\n",
       " x_n \\oplus \\left[\n",
       "\\begin{array}{*{20}c}\n",
       "1 & 2 & . & . & . \\\\\n",
       "3 & 4 & . & . & . \\\\\n",
       ". & . & 1 & 2 & 3 \\\\\n",
       ". & . & 4 & 5 & 6 \\\\\n",
       ". & . & 7 & 8 & 9 \\\\\n",
       "\\end{array}\n",
       "\\right]\n",
       " x_{n-1} \\oplus \\left[\n",
       "\\begin{array}{*{20}c}\n",
       "0 \\\\\n",
       "0 \\\\\n",
       ". \\\\\n",
       ". \\\\\n",
       ". \\\\\n",
       "\\end{array}\n",
       "\\right]\n",
       " u_n\\\\ y_n & = & \\left[\n",
       "\\begin{array}{*{20}c}\n",
       "0 & 0 & . & . & . \\\\\n",
       "\\end{array}\n",
       "\\right]\n",
       " x_n\\\\ x_0 & = & \\left[\n",
       "\\begin{array}{*{20}c}\n",
       ". \\\\\n",
       ". \\\\\n",
       ". \\\\\n",
       ". \\\\\n",
       ". \\\\\n",
       "\\end{array}\n",
       "\\right]\n",
       "\\end{array}\\right.$"
      ],
      "text/plain": [
       "L\"$S=\\left\\{\\begin{array}{lcl}\n",
       "x_n & = & \\left[\n",
       "\\begin{array}{*{20}c}\n",
       "0 & . & 0 & 0 & 0 \\\\\n",
       ". & 0 & 0 & 0 & 0 \\\\\n",
       "0 & 0 & 0 & . & . \\\\\n",
       "0 & 0 & . & 0 & . \\\\\n",
       "0 & 0 & . & . & 0 \\\\\n",
       "\\end{array}\n",
       "\\right]\n",
       " x_n \\oplus \\left[\n",
       "\\begin{array}{*{20}c}\n",
       "1 & 2 & . & . & . \\\\\n",
       "3 & 4 & . & . & . \\\\\n",
       ". & . & 1 & 2 & 3 \\\\\n",
       ". & . & 4 & 5 & 6 \\\\\n",
       ". & . & 7 & 8 & 9 \\\\\n",
       "\\end{array}\n",
       "\\right]\n",
       " x_{n-1} \\oplus \\left[\n",
       "\\begin{array}{*{20}c}\n",
       "0 \\\\\n",
       "0 \\\\\n",
       ". \\\\\n",
       ". \\\\\n",
       ". \\\\\n",
       "\\end{array}\n",
       "\\right]\n",
       " u_n\\\\ y_n & = & \\left[\n",
       "\\begin{array}{*{20}c}\n",
       "0 & 0 & . & . & . \\\\\n",
       "\\end{array}\n",
       "\\right]\n",
       " x_n\\\\ x_0 & = & \\left[\n",
       "\\begin{array}{*{20}c}\n",
       ". \\\\\n",
       ". \\\\\n",
       ". \\\\\n",
       ". \\\\\n",
       ". \\\\\n",
       "\\end{array}\n",
       "\\right]\n",
       "\\end{array}\\right.$\""
      ]
     },
     "execution_count": 12,
     "metadata": {},
     "output_type": "execute_result"
    }
   ],
   "source": [
    "S = S1 / S2; latexify(S)"
   ]
  },
  {
   "cell_type": "markdown",
   "metadata": {},
   "source": [
    "## Conversion système implicte Max-Plus vers système explicite Max-Plus"
   ]
  },
  {
   "cell_type": "code",
   "execution_count": 13,
   "metadata": {},
   "outputs": [],
   "source": [
    "# TODO S = mpexplicit(S1); latexify(S)"
   ]
  },
  {
   "cell_type": "markdown",
   "metadata": {},
   "source": [
    "## Simulation de système linéaire Max-Plus\n",
    "\n",
    "La fonction `mpsimul` permet de retourner les états $X(n)$ (ou bien le dernier état) d'un système linéaire Max-Plus en injectant des données $U(n)$ Max-Plus sous la forme d'un vecteur."
   ]
  },
  {
   "cell_type": "code",
   "execution_count": 14,
   "metadata": {},
   "outputs": [
    {
     "data": {
      "text/plain": [
       "9-element Max-Plus vector:\n",
       "   1\n",
       "   5\n",
       "   9\n",
       "  13\n",
       "  17\n",
       "  21\n",
       "  25\n",
       "  29\n",
       "  33\n"
      ]
     },
     "execution_count": 14,
     "metadata": {},
     "output_type": "execute_result"
    }
   ],
   "source": [
    "u = Vector(MP(1:0.5:5))\n",
    "y = mpsimul(S, u, true) # Retourne l'historiques des états"
   ]
  },
  {
   "cell_type": "code",
   "execution_count": 15,
   "metadata": {},
   "outputs": [
    {
     "data": {
      "text/plain": [
       "1-element Max-Plus vector:\n",
       "  33\n"
      ]
     },
     "execution_count": 15,
     "metadata": {},
     "output_type": "execute_result"
    }
   ],
   "source": [
    "mpsimul(S, u, false) # Retourne le dernier état calculé"
   ]
  },
  {
   "cell_type": "markdown",
   "metadata": {},
   "source": [
    "On peut ploter le résultat directement les nombres Max-Plus."
   ]
  },
  {
   "cell_type": "code",
   "execution_count": 16,
   "metadata": {},
   "outputs": [],
   "source": [
    "using Plots"
   ]
  },
  {
   "cell_type": "code",
   "execution_count": 17,
   "metadata": {
    "scrolled": false
   },
   "outputs": [
    {
     "data": {
      "image/svg+xml": [
       "<?xml version=\"1.0\" encoding=\"utf-8\"?>\n",
       "<svg xmlns=\"http://www.w3.org/2000/svg\" xmlns:xlink=\"http://www.w3.org/1999/xlink\" width=\"600\" height=\"400\" viewBox=\"0 0 2400 1600\">\n",
       "<defs>\n",
       "  <clipPath id=\"clip620\">\n",
       "    <rect x=\"0\" y=\"0\" width=\"2400\" height=\"1600\"/>\n",
       "  </clipPath>\n",
       "</defs>\n",
       "<path clip-path=\"url(#clip620)\" d=\"\n",
       "M0 1600 L2400 1600 L2400 0 L0 0  Z\n",
       "  \" fill=\"#ffffff\" fill-rule=\"evenodd\" fill-opacity=\"1\"/>\n",
       "<defs>\n",
       "  <clipPath id=\"clip621\">\n",
       "    <rect x=\"480\" y=\"0\" width=\"1681\" height=\"1600\"/>\n",
       "  </clipPath>\n",
       "</defs>\n",
       "<path clip-path=\"url(#clip620)\" d=\"\n",
       "M140.696 1486.45 L2352.76 1486.45 L2352.76 47.2441 L140.696 47.2441  Z\n",
       "  \" fill=\"#ffffff\" fill-rule=\"evenodd\" fill-opacity=\"1\"/>\n",
       "<defs>\n",
       "  <clipPath id=\"clip622\">\n",
       "    <rect x=\"140\" y=\"47\" width=\"2213\" height=\"1440\"/>\n",
       "  </clipPath>\n",
       "</defs>\n",
       "<polyline clip-path=\"url(#clip622)\" style=\"stroke:#000000; stroke-width:2; stroke-opacity:0.1; fill:none\" points=\"\n",
       "  203.301,1486.45 203.301,47.2441 \n",
       "  \"/>\n",
       "<polyline clip-path=\"url(#clip622)\" style=\"stroke:#000000; stroke-width:2; stroke-opacity:0.1; fill:none\" points=\"\n",
       "  725.013,1486.45 725.013,47.2441 \n",
       "  \"/>\n",
       "<polyline clip-path=\"url(#clip622)\" style=\"stroke:#000000; stroke-width:2; stroke-opacity:0.1; fill:none\" points=\"\n",
       "  1246.73,1486.45 1246.73,47.2441 \n",
       "  \"/>\n",
       "<polyline clip-path=\"url(#clip622)\" style=\"stroke:#000000; stroke-width:2; stroke-opacity:0.1; fill:none\" points=\"\n",
       "  1768.44,1486.45 1768.44,47.2441 \n",
       "  \"/>\n",
       "<polyline clip-path=\"url(#clip622)\" style=\"stroke:#000000; stroke-width:2; stroke-opacity:0.1; fill:none\" points=\"\n",
       "  2290.15,1486.45 2290.15,47.2441 \n",
       "  \"/>\n",
       "<polyline clip-path=\"url(#clip620)\" style=\"stroke:#000000; stroke-width:4; stroke-opacity:1; fill:none\" points=\"\n",
       "  140.696,1486.45 2352.76,1486.45 \n",
       "  \"/>\n",
       "<polyline clip-path=\"url(#clip620)\" style=\"stroke:#000000; stroke-width:4; stroke-opacity:1; fill:none\" points=\"\n",
       "  203.301,1486.45 203.301,1469.18 \n",
       "  \"/>\n",
       "<polyline clip-path=\"url(#clip620)\" style=\"stroke:#000000; stroke-width:4; stroke-opacity:1; fill:none\" points=\"\n",
       "  725.013,1486.45 725.013,1469.18 \n",
       "  \"/>\n",
       "<polyline clip-path=\"url(#clip620)\" style=\"stroke:#000000; stroke-width:4; stroke-opacity:1; fill:none\" points=\"\n",
       "  1246.73,1486.45 1246.73,1469.18 \n",
       "  \"/>\n",
       "<polyline clip-path=\"url(#clip620)\" style=\"stroke:#000000; stroke-width:4; stroke-opacity:1; fill:none\" points=\"\n",
       "  1768.44,1486.45 1768.44,1469.18 \n",
       "  \"/>\n",
       "<polyline clip-path=\"url(#clip620)\" style=\"stroke:#000000; stroke-width:4; stroke-opacity:1; fill:none\" points=\"\n",
       "  2290.15,1486.45 2290.15,1469.18 \n",
       "  \"/>\n",
       "<path clip-path=\"url(#clip620)\" d=\"M 0 0 M193.683 1543.18 L201.322 1543.18 L201.322 1516.82 L193.012 1518.49 L193.012 1514.23 L201.276 1512.56 L205.951 1512.56 L205.951 1543.18 L213.59 1543.18 L213.59 1547.12 L193.683 1547.12 L193.683 1543.18 Z\" fill=\"#000000\" fill-rule=\"evenodd\" fill-opacity=\"1\" /><path clip-path=\"url(#clip620)\" d=\"M 0 0 M719.666 1543.18 L735.986 1543.18 L735.986 1547.12 L714.041 1547.12 L714.041 1543.18 Q716.703 1540.43 721.287 1535.8 Q725.893 1531.15 727.074 1529.81 Q729.319 1527.28 730.199 1525.55 Q731.101 1523.79 731.101 1522.1 Q731.101 1519.34 729.157 1517.61 Q727.236 1515.87 724.134 1515.87 Q721.935 1515.87 719.481 1516.63 Q717.05 1517.4 714.273 1518.95 L714.273 1514.23 Q717.097 1513.09 719.55 1512.51 Q722.004 1511.93 724.041 1511.93 Q729.411 1511.93 732.606 1514.62 Q735.8 1517.31 735.8 1521.8 Q735.8 1523.93 734.99 1525.85 Q734.203 1527.74 732.097 1530.34 Q731.518 1531.01 728.416 1534.23 Q725.314 1537.42 719.666 1543.18 Z\" fill=\"#000000\" fill-rule=\"evenodd\" fill-opacity=\"1\" /><path clip-path=\"url(#clip620)\" d=\"M 0 0 M1250.97 1528.49 Q1254.33 1529.2 1256.2 1531.47 Q1258.1 1533.74 1258.1 1537.07 Q1258.1 1542.19 1254.58 1544.99 Q1251.07 1547.79 1244.58 1547.79 Q1242.41 1547.79 1240.09 1547.35 Q1237.8 1546.93 1235.35 1546.08 L1235.35 1541.56 Q1237.29 1542.7 1239.61 1543.28 Q1241.92 1543.86 1244.45 1543.86 Q1248.84 1543.86 1251.14 1542.12 Q1253.45 1540.38 1253.45 1537.07 Q1253.45 1534.02 1251.3 1532.31 Q1249.17 1530.57 1245.35 1530.57 L1241.32 1530.57 L1241.32 1526.73 L1245.53 1526.73 Q1248.98 1526.73 1250.81 1525.36 Q1252.64 1523.97 1252.64 1521.38 Q1252.64 1518.72 1250.74 1517.31 Q1248.87 1515.87 1245.35 1515.87 Q1243.43 1515.87 1241.23 1516.29 Q1239.03 1516.7 1236.39 1517.58 L1236.39 1513.42 Q1239.05 1512.68 1241.37 1512.31 Q1243.7 1511.93 1245.77 1511.93 Q1251.09 1511.93 1254.19 1514.37 Q1257.29 1516.77 1257.29 1520.89 Q1257.29 1523.76 1255.65 1525.75 Q1254.01 1527.72 1250.97 1528.49 Z\" fill=\"#000000\" fill-rule=\"evenodd\" fill-opacity=\"1\" /><path clip-path=\"url(#clip620)\" d=\"M 0 0 M1771.45 1516.63 L1759.64 1535.08 L1771.45 1535.08 L1771.45 1516.63 M1770.22 1512.56 L1776.1 1512.56 L1776.1 1535.08 L1781.03 1535.08 L1781.03 1538.97 L1776.1 1538.97 L1776.1 1547.12 L1771.45 1547.12 L1771.45 1538.97 L1755.85 1538.97 L1755.85 1534.46 L1770.22 1512.56 Z\" fill=\"#000000\" fill-rule=\"evenodd\" fill-opacity=\"1\" /><path clip-path=\"url(#clip620)\" d=\"M 0 0 M2280.43 1512.56 L2298.78 1512.56 L2298.78 1516.5 L2284.71 1516.5 L2284.71 1524.97 Q2285.73 1524.62 2286.75 1524.46 Q2287.77 1524.27 2288.78 1524.27 Q2294.57 1524.27 2297.95 1527.44 Q2301.33 1530.62 2301.33 1536.03 Q2301.33 1541.61 2297.86 1544.71 Q2294.39 1547.79 2288.07 1547.79 Q2285.89 1547.79 2283.62 1547.42 Q2281.38 1547.05 2278.97 1546.31 L2278.97 1541.61 Q2281.05 1542.74 2283.28 1543.3 Q2285.5 1543.86 2287.97 1543.86 Q2291.98 1543.86 2294.32 1541.75 Q2296.66 1539.64 2296.66 1536.03 Q2296.66 1532.42 2294.32 1530.31 Q2291.98 1528.21 2287.97 1528.21 Q2286.1 1528.21 2284.22 1528.62 Q2282.37 1529.04 2280.43 1529.92 L2280.43 1512.56 Z\" fill=\"#000000\" fill-rule=\"evenodd\" fill-opacity=\"1\" /><polyline clip-path=\"url(#clip622)\" style=\"stroke:#000000; stroke-width:2; stroke-opacity:0.1; fill:none\" points=\"\n",
       "  140.696,1276 2352.76,1276 \n",
       "  \"/>\n",
       "<polyline clip-path=\"url(#clip622)\" style=\"stroke:#000000; stroke-width:2; stroke-opacity:0.1; fill:none\" points=\"\n",
       "  140.696,1063.85 2352.76,1063.85 \n",
       "  \"/>\n",
       "<polyline clip-path=\"url(#clip622)\" style=\"stroke:#000000; stroke-width:2; stroke-opacity:0.1; fill:none\" points=\"\n",
       "  140.696,851.705 2352.76,851.705 \n",
       "  \"/>\n",
       "<polyline clip-path=\"url(#clip622)\" style=\"stroke:#000000; stroke-width:2; stroke-opacity:0.1; fill:none\" points=\"\n",
       "  140.696,639.558 2352.76,639.558 \n",
       "  \"/>\n",
       "<polyline clip-path=\"url(#clip622)\" style=\"stroke:#000000; stroke-width:2; stroke-opacity:0.1; fill:none\" points=\"\n",
       "  140.696,427.411 2352.76,427.411 \n",
       "  \"/>\n",
       "<polyline clip-path=\"url(#clip622)\" style=\"stroke:#000000; stroke-width:2; stroke-opacity:0.1; fill:none\" points=\"\n",
       "  140.696,215.264 2352.76,215.264 \n",
       "  \"/>\n",
       "<polyline clip-path=\"url(#clip620)\" style=\"stroke:#000000; stroke-width:4; stroke-opacity:1; fill:none\" points=\"\n",
       "  140.696,1486.45 140.696,47.2441 \n",
       "  \"/>\n",
       "<polyline clip-path=\"url(#clip620)\" style=\"stroke:#000000; stroke-width:4; stroke-opacity:1; fill:none\" points=\"\n",
       "  140.696,1276 167.24,1276 \n",
       "  \"/>\n",
       "<polyline clip-path=\"url(#clip620)\" style=\"stroke:#000000; stroke-width:4; stroke-opacity:1; fill:none\" points=\"\n",
       "  140.696,1063.85 167.24,1063.85 \n",
       "  \"/>\n",
       "<polyline clip-path=\"url(#clip620)\" style=\"stroke:#000000; stroke-width:4; stroke-opacity:1; fill:none\" points=\"\n",
       "  140.696,851.705 167.24,851.705 \n",
       "  \"/>\n",
       "<polyline clip-path=\"url(#clip620)\" style=\"stroke:#000000; stroke-width:4; stroke-opacity:1; fill:none\" points=\"\n",
       "  140.696,639.558 167.24,639.558 \n",
       "  \"/>\n",
       "<polyline clip-path=\"url(#clip620)\" style=\"stroke:#000000; stroke-width:4; stroke-opacity:1; fill:none\" points=\"\n",
       "  140.696,427.411 167.24,427.411 \n",
       "  \"/>\n",
       "<polyline clip-path=\"url(#clip620)\" style=\"stroke:#000000; stroke-width:4; stroke-opacity:1; fill:none\" points=\"\n",
       "  140.696,215.264 167.24,215.264 \n",
       "  \"/>\n",
       "<path clip-path=\"url(#clip620)\" d=\"M 0 0 M83.7929 1258.72 L102.149 1258.72 L102.149 1262.65 L88.0753 1262.65 L88.0753 1271.13 Q89.0938 1270.78 90.1123 1270.62 Q91.1308 1270.43 92.1493 1270.43 Q97.9363 1270.43 101.316 1273.6 Q104.696 1276.77 104.696 1282.19 Q104.696 1287.77 101.223 1290.87 Q97.7511 1293.95 91.4317 1293.95 Q89.2558 1293.95 86.9873 1293.58 Q84.7419 1293.21 82.3346 1292.47 L82.3346 1287.77 Q84.4179 1288.9 86.6401 1289.46 Q88.8623 1290.01 91.3391 1290.01 Q95.3437 1290.01 97.6817 1287.91 Q100.02 1285.8 100.02 1282.19 Q100.02 1278.58 97.6817 1276.47 Q95.3437 1274.37 91.3391 1274.37 Q89.4641 1274.37 87.5892 1274.78 Q85.7373 1275.2 83.7929 1276.08 L83.7929 1258.72 Z\" fill=\"#000000\" fill-rule=\"evenodd\" fill-opacity=\"1\" /><path clip-path=\"url(#clip620)\" d=\"M 0 0 M53.3995 1077.2 L61.0384 1077.2 L61.0384 1050.83 L52.7282 1052.5 L52.7282 1048.24 L60.9921 1046.57 L65.668 1046.57 L65.668 1077.2 L73.3068 1077.2 L73.3068 1081.13 L53.3995 1081.13 L53.3995 1077.2 Z\" fill=\"#000000\" fill-rule=\"evenodd\" fill-opacity=\"1\" /><path clip-path=\"url(#clip620)\" d=\"M 0 0 M92.7512 1049.65 Q89.1401 1049.65 87.3114 1053.21 Q85.5058 1056.76 85.5058 1063.89 Q85.5058 1070.99 87.3114 1074.56 Q89.1401 1078.1 92.7512 1078.1 Q96.3854 1078.1 98.1909 1074.56 Q100.02 1070.99 100.02 1063.89 Q100.02 1056.76 98.1909 1053.21 Q96.3854 1049.65 92.7512 1049.65 M92.7512 1045.95 Q98.5613 1045.95 101.617 1050.55 Q104.696 1055.14 104.696 1063.89 Q104.696 1072.61 101.617 1077.22 Q98.5613 1081.8 92.7512 1081.8 Q86.941 1081.8 83.8623 1077.22 Q80.8068 1072.61 80.8068 1063.89 Q80.8068 1055.14 83.8623 1050.55 Q86.941 1045.95 92.7512 1045.95 Z\" fill=\"#000000\" fill-rule=\"evenodd\" fill-opacity=\"1\" /><path clip-path=\"url(#clip620)\" d=\"M 0 0 M54.3949 865.05 L62.0337 865.05 L62.0337 838.684 L53.7236 840.351 L53.7236 836.091 L61.9874 834.425 L66.6633 834.425 L66.6633 865.05 L74.3022 865.05 L74.3022 868.985 L54.3949 868.985 L54.3949 865.05 Z\" fill=\"#000000\" fill-rule=\"evenodd\" fill-opacity=\"1\" /><path clip-path=\"url(#clip620)\" d=\"M 0 0 M83.7929 834.425 L102.149 834.425 L102.149 838.36 L88.0753 838.36 L88.0753 846.832 Q89.0938 846.485 90.1123 846.323 Q91.1308 846.138 92.1493 846.138 Q97.9363 846.138 101.316 849.309 Q104.696 852.48 104.696 857.897 Q104.696 863.475 101.223 866.577 Q97.7511 869.656 91.4317 869.656 Q89.2558 869.656 86.9873 869.286 Q84.7419 868.915 82.3346 868.175 L82.3346 863.475 Q84.4179 864.61 86.6401 865.165 Q88.8623 865.721 91.3391 865.721 Q95.3437 865.721 97.6817 863.614 Q100.02 861.508 100.02 857.897 Q100.02 854.286 97.6817 852.179 Q95.3437 850.073 91.3391 850.073 Q89.4641 850.073 87.5892 850.489 Q85.7373 850.906 83.7929 851.786 L83.7929 834.425 Z\" fill=\"#000000\" fill-rule=\"evenodd\" fill-opacity=\"1\" /><path clip-path=\"url(#clip620)\" d=\"M 0 0 M56.6171 652.903 L72.9365 652.903 L72.9365 656.838 L50.9921 656.838 L50.9921 652.903 Q53.6541 650.148 58.2375 645.519 Q62.8439 640.866 64.0245 639.523 Q66.2698 637 67.1494 635.264 Q68.0522 633.505 68.0522 631.815 Q68.0522 629.06 66.1078 627.324 Q64.1865 625.588 61.0847 625.588 Q58.8856 625.588 56.4319 626.352 Q54.0014 627.116 51.2236 628.667 L51.2236 623.945 Q54.0477 622.81 56.5014 622.232 Q58.955 621.653 60.9921 621.653 Q66.3624 621.653 69.5568 624.338 Q72.7513 627.023 72.7513 631.514 Q72.7513 633.644 71.9411 635.565 Q71.1541 637.463 69.0476 640.056 Q68.4689 640.727 65.367 643.944 Q62.2652 647.139 56.6171 652.903 Z\" fill=\"#000000\" fill-rule=\"evenodd\" fill-opacity=\"1\" /><path clip-path=\"url(#clip620)\" d=\"M 0 0 M92.7512 625.357 Q89.1401 625.357 87.3114 628.921 Q85.5058 632.463 85.5058 639.593 Q85.5058 646.699 87.3114 650.264 Q89.1401 653.806 92.7512 653.806 Q96.3854 653.806 98.1909 650.264 Q100.02 646.699 100.02 639.593 Q100.02 632.463 98.1909 628.921 Q96.3854 625.357 92.7512 625.357 M92.7512 621.653 Q98.5613 621.653 101.617 626.259 Q104.696 630.843 104.696 639.593 Q104.696 648.319 101.617 652.926 Q98.5613 657.509 92.7512 657.509 Q86.941 657.509 83.8623 652.926 Q80.8068 648.319 80.8068 639.593 Q80.8068 630.843 83.8623 626.259 Q86.941 621.653 92.7512 621.653 Z\" fill=\"#000000\" fill-rule=\"evenodd\" fill-opacity=\"1\" /><path clip-path=\"url(#clip620)\" d=\"M 0 0 M57.6125 440.756 L73.9318 440.756 L73.9318 444.691 L51.9875 444.691 L51.9875 440.756 Q54.6495 438.001 59.2328 433.372 Q63.8393 428.719 65.0198 427.376 Q67.2652 424.853 68.1448 423.117 Q69.0476 421.358 69.0476 419.668 Q69.0476 416.914 67.1032 415.177 Q65.1819 413.441 62.08 413.441 Q59.881 413.441 57.4273 414.205 Q54.9967 414.969 52.219 416.52 L52.219 411.798 Q55.043 410.664 57.4967 410.085 Q59.9504 409.506 61.9874 409.506 Q67.3578 409.506 70.5522 412.191 Q73.7466 414.876 73.7466 419.367 Q73.7466 421.497 72.9365 423.418 Q72.1494 425.316 70.0429 427.909 Q69.4642 428.58 66.3624 431.798 Q63.2606 434.992 57.6125 440.756 Z\" fill=\"#000000\" fill-rule=\"evenodd\" fill-opacity=\"1\" /><path clip-path=\"url(#clip620)\" d=\"M 0 0 M83.7929 410.131 L102.149 410.131 L102.149 414.066 L88.0753 414.066 L88.0753 422.538 Q89.0938 422.191 90.1123 422.029 Q91.1308 421.844 92.1493 421.844 Q97.9363 421.844 101.316 425.015 Q104.696 428.187 104.696 433.603 Q104.696 439.182 101.223 442.284 Q97.7511 445.362 91.4317 445.362 Q89.2558 445.362 86.9873 444.992 Q84.7419 444.622 82.3346 443.881 L82.3346 439.182 Q84.4179 440.316 86.6401 440.872 Q88.8623 441.427 91.3391 441.427 Q95.3437 441.427 97.6817 439.321 Q100.02 437.214 100.02 433.603 Q100.02 429.992 97.6817 427.886 Q95.3437 425.779 91.3391 425.779 Q89.4641 425.779 87.5892 426.196 Q85.7373 426.613 83.7929 427.492 L83.7929 410.131 Z\" fill=\"#000000\" fill-rule=\"evenodd\" fill-opacity=\"1\" /><path clip-path=\"url(#clip620)\" d=\"M 0 0 M66.7559 213.91 Q70.1124 214.628 71.9874 216.896 Q73.8855 219.165 73.8855 222.498 Q73.8855 227.614 70.367 230.415 Q66.8485 233.216 60.3671 233.216 Q58.1912 233.216 55.8764 232.776 Q53.5847 232.359 51.131 231.503 L51.131 226.989 Q53.0754 228.123 55.3903 228.702 Q57.7051 229.28 60.2282 229.28 Q64.6263 229.28 66.918 227.544 Q69.2328 225.808 69.2328 222.498 Q69.2328 219.443 67.08 217.73 Q64.9504 215.994 61.131 215.994 L57.1032 215.994 L57.1032 212.151 L61.3161 212.151 Q64.7652 212.151 66.5939 210.785 Q68.4226 209.396 68.4226 206.804 Q68.4226 204.142 66.5245 202.73 Q64.6495 201.295 61.131 201.295 Q59.2097 201.295 57.0106 201.711 Q54.8115 202.128 52.1727 203.007 L52.1727 198.841 Q54.8347 198.1 57.1495 197.73 Q59.4875 197.359 61.5476 197.359 Q66.8717 197.359 69.9735 199.79 Q73.0753 202.197 73.0753 206.318 Q73.0753 209.188 71.4318 211.179 Q69.7883 213.146 66.7559 213.91 Z\" fill=\"#000000\" fill-rule=\"evenodd\" fill-opacity=\"1\" /><path clip-path=\"url(#clip620)\" d=\"M 0 0 M92.7512 201.063 Q89.1401 201.063 87.3114 204.628 Q85.5058 208.169 85.5058 215.299 Q85.5058 222.406 87.3114 225.97 Q89.1401 229.512 92.7512 229.512 Q96.3854 229.512 98.1909 225.97 Q100.02 222.406 100.02 215.299 Q100.02 208.169 98.1909 204.628 Q96.3854 201.063 92.7512 201.063 M92.7512 197.359 Q98.5613 197.359 101.617 201.966 Q104.696 206.549 104.696 215.299 Q104.696 224.026 101.617 228.632 Q98.5613 233.216 92.7512 233.216 Q86.941 233.216 83.8623 228.632 Q80.8068 224.026 80.8068 215.299 Q80.8068 206.549 83.8623 201.966 Q86.941 197.359 92.7512 197.359 Z\" fill=\"#000000\" fill-rule=\"evenodd\" fill-opacity=\"1\" /><polyline clip-path=\"url(#clip622)\" style=\"stroke:#009af9; stroke-width:4; stroke-opacity:1; fill:none\" points=\"\n",
       "  203.301,1445.72 464.157,1276 725.013,1106.28 985.87,936.563 1246.73,766.846 1507.58,597.129 1768.44,427.411 2029.29,257.694 2290.15,87.9763 \n",
       "  \"/>\n",
       "<path clip-path=\"url(#clip620)\" d=\"\n",
       "M214.431 216.178 L779.797 216.178 L779.797 95.2176 L214.431 95.2176  Z\n",
       "  \" fill=\"#ffffff\" fill-rule=\"evenodd\" fill-opacity=\"1\"/>\n",
       "<polyline clip-path=\"url(#clip620)\" style=\"stroke:#000000; stroke-width:4; stroke-opacity:1; fill:none\" points=\"\n",
       "  214.431,216.178 779.797,216.178 779.797,95.2176 214.431,95.2176 214.431,216.178 \n",
       "  \"/>\n",
       "<polyline clip-path=\"url(#clip620)\" style=\"stroke:#009af9; stroke-width:4; stroke-opacity:1; fill:none\" points=\"\n",
       "  239.009,155.698 386.48,155.698 \n",
       "  \"/>\n",
       "<path clip-path=\"url(#clip620)\" d=\"M 0 0 M411.058 136.959 L420.873 136.959 L420.873 140.269 L415.318 140.269 L415.318 175.917 L420.873 175.917 L420.873 179.228 L411.058 179.228 L411.058 136.959 Z\" fill=\"#000000\" fill-rule=\"evenodd\" fill-opacity=\"1\" /><path clip-path=\"url(#clip620)\" d=\"M 0 0 M433.975 138.418 L433.975 151.265 L430.04 151.265 L430.04 138.418 L433.975 138.418 M442.725 138.418 L442.725 151.265 L438.79 151.265 L438.79 138.418 L442.725 138.418 Z\" fill=\"#000000\" fill-rule=\"evenodd\" fill-opacity=\"1\" /><path clip-path=\"url(#clip620)\" d=\"M 0 0 M468.28 147.816 L468.28 151.843 Q466.475 150.917 464.53 150.455 Q462.586 149.992 460.503 149.992 Q457.331 149.992 455.734 150.964 Q454.16 151.936 454.16 153.88 Q454.16 155.362 455.294 156.218 Q456.429 157.052 459.855 157.816 L461.313 158.14 Q465.85 159.112 467.748 160.894 Q469.669 162.654 469.669 165.825 Q469.669 169.436 466.799 171.542 Q463.952 173.649 458.952 173.649 Q456.868 173.649 454.6 173.232 Q452.355 172.839 449.855 172.028 L449.855 167.63 Q452.216 168.857 454.507 169.482 Q456.799 170.084 459.044 170.084 Q462.054 170.084 463.674 169.066 Q465.294 168.024 465.294 166.149 Q465.294 164.413 464.114 163.487 Q462.956 162.561 458.998 161.704 L457.517 161.357 Q453.558 160.524 451.799 158.811 Q450.04 157.075 450.04 154.066 Q450.04 150.408 452.632 148.418 Q455.225 146.427 459.993 146.427 Q462.354 146.427 464.438 146.774 Q466.521 147.121 468.28 147.816 Z\" fill=\"#000000\" fill-rule=\"evenodd\" fill-opacity=\"1\" /><path clip-path=\"url(#clip620)\" d=\"M 0 0 M476.452 147.052 L480.711 147.052 L480.711 172.978 L476.452 172.978 L476.452 147.052 M476.452 136.959 L480.711 136.959 L480.711 142.353 L476.452 142.353 L476.452 136.959 Z\" fill=\"#000000\" fill-rule=\"evenodd\" fill-opacity=\"1\" /><path clip-path=\"url(#clip620)\" d=\"M 0 0 M509.808 152.029 Q511.405 149.158 513.627 147.793 Q515.85 146.427 518.859 146.427 Q522.91 146.427 525.109 149.274 Q527.308 152.098 527.308 157.329 L527.308 172.978 L523.025 172.978 L523.025 157.468 Q523.025 153.742 521.706 151.936 Q520.387 150.13 517.678 150.13 Q514.368 150.13 512.447 152.33 Q510.526 154.529 510.526 158.325 L510.526 172.978 L506.243 172.978 L506.243 157.468 Q506.243 153.718 504.924 151.936 Q503.604 150.13 500.85 150.13 Q497.586 150.13 495.665 152.353 Q493.743 154.552 493.743 158.325 L493.743 172.978 L489.461 172.978 L489.461 147.052 L493.743 147.052 L493.743 151.08 Q495.202 148.695 497.239 147.561 Q499.276 146.427 502.077 146.427 Q504.901 146.427 506.868 147.862 Q508.859 149.297 509.808 152.029 Z\" fill=\"#000000\" fill-rule=\"evenodd\" fill-opacity=\"1\" /><path clip-path=\"url(#clip620)\" d=\"M 0 0 M535.363 162.746 L535.363 147.052 L539.623 147.052 L539.623 162.584 Q539.623 166.265 541.058 168.116 Q542.493 169.945 545.363 169.945 Q548.812 169.945 550.803 167.746 Q552.817 165.547 552.817 161.751 L552.817 147.052 L557.076 147.052 L557.076 172.978 L552.817 172.978 L552.817 168.996 Q551.266 171.357 549.206 172.515 Q547.169 173.649 544.461 173.649 Q539.993 173.649 537.678 170.871 Q535.363 168.093 535.363 162.746 M546.081 146.427 L546.081 146.427 Z\" fill=\"#000000\" fill-rule=\"evenodd\" fill-opacity=\"1\" /><path clip-path=\"url(#clip620)\" d=\"M 0 0 M565.849 136.959 L570.109 136.959 L570.109 172.978 L565.849 172.978 L565.849 136.959 Z\" fill=\"#000000\" fill-rule=\"evenodd\" fill-opacity=\"1\" /><path clip-path=\"url(#clip620)\" d=\"M 0 0 M590.803 159.945 Q585.641 159.945 583.65 161.126 Q581.659 162.306 581.659 165.154 Q581.659 167.422 583.141 168.765 Q584.646 170.084 587.215 170.084 Q590.757 170.084 592.886 167.584 Q595.039 165.061 595.039 160.894 L595.039 159.945 L590.803 159.945 M599.298 158.186 L599.298 172.978 L595.039 172.978 L595.039 169.042 Q593.581 171.403 591.405 172.538 Q589.229 173.649 586.081 173.649 Q582.099 173.649 579.738 171.427 Q577.4 169.181 577.4 165.431 Q577.4 161.056 580.317 158.834 Q583.257 156.612 589.067 156.612 L595.039 156.612 L595.039 156.195 Q595.039 153.255 593.095 151.658 Q591.173 150.038 587.678 150.038 Q585.456 150.038 583.349 150.57 Q581.243 151.103 579.298 152.167 L579.298 148.232 Q581.636 147.33 583.835 146.89 Q586.034 146.427 588.118 146.427 Q593.743 146.427 596.52 149.343 Q599.298 152.26 599.298 158.186 Z\" fill=\"#000000\" fill-rule=\"evenodd\" fill-opacity=\"1\" /><path clip-path=\"url(#clip620)\" d=\"M 0 0 M612.284 139.691 L612.284 147.052 L621.057 147.052 L621.057 150.362 L612.284 150.362 L612.284 164.436 Q612.284 167.607 613.141 168.51 Q614.02 169.413 616.682 169.413 L621.057 169.413 L621.057 172.978 L616.682 172.978 Q611.752 172.978 609.877 171.149 Q608.002 169.297 608.002 164.436 L608.002 150.362 L604.877 150.362 L604.877 147.052 L608.002 147.052 L608.002 139.691 L612.284 139.691 Z\" fill=\"#000000\" fill-rule=\"evenodd\" fill-opacity=\"1\" /><path clip-path=\"url(#clip620)\" d=\"M 0 0 M626.659 147.052 L630.918 147.052 L630.918 172.978 L626.659 172.978 L626.659 147.052 M626.659 136.959 L630.918 136.959 L630.918 142.353 L626.659 142.353 L626.659 136.959 Z\" fill=\"#000000\" fill-rule=\"evenodd\" fill-opacity=\"1\" /><path clip-path=\"url(#clip620)\" d=\"M 0 0 M649.877 150.038 Q646.451 150.038 644.46 152.723 Q642.469 155.385 642.469 160.038 Q642.469 164.691 644.437 167.376 Q646.428 170.038 649.877 170.038 Q653.279 170.038 655.27 167.353 Q657.261 164.667 657.261 160.038 Q657.261 155.431 655.27 152.746 Q653.279 150.038 649.877 150.038 M649.877 146.427 Q655.432 146.427 658.603 150.038 Q661.775 153.649 661.775 160.038 Q661.775 166.404 658.603 170.038 Q655.432 173.649 649.877 173.649 Q644.298 173.649 641.127 170.038 Q637.979 166.404 637.979 160.038 Q637.979 153.649 641.127 150.038 Q644.298 146.427 649.877 146.427 Z\" fill=\"#000000\" fill-rule=\"evenodd\" fill-opacity=\"1\" /><path clip-path=\"url(#clip620)\" d=\"M 0 0 M690.386 157.329 L690.386 172.978 L686.126 172.978 L686.126 157.468 Q686.126 153.788 684.691 151.959 Q683.256 150.13 680.386 150.13 Q676.937 150.13 674.946 152.33 Q672.955 154.529 672.955 158.325 L672.955 172.978 L668.673 172.978 L668.673 147.052 L672.955 147.052 L672.955 151.08 Q674.483 148.742 676.543 147.584 Q678.626 146.427 681.335 146.427 Q685.802 146.427 688.094 149.205 Q690.386 151.959 690.386 157.329 Z\" fill=\"#000000\" fill-rule=\"evenodd\" fill-opacity=\"1\" /><path clip-path=\"url(#clip620)\" d=\"M 0 0 M702.909 138.418 L702.909 151.265 L698.974 151.265 L698.974 138.418 L702.909 138.418 M711.659 138.418 L711.659 151.265 L707.724 151.265 L707.724 138.418 L711.659 138.418 Z\" fill=\"#000000\" fill-rule=\"evenodd\" fill-opacity=\"1\" /><path clip-path=\"url(#clip620)\" d=\"M 0 0 M730.64 136.959 L730.64 179.228 L720.825 179.228 L720.825 175.917 L726.358 175.917 L726.358 140.269 L720.825 140.269 L720.825 136.959 L730.64 136.959 Z\" fill=\"#000000\" fill-rule=\"evenodd\" fill-opacity=\"1\" /></svg>\n"
      ]
     },
     "execution_count": 17,
     "metadata": {},
     "output_type": "execute_result"
    }
   ],
   "source": [
    "plot(u, y, label=[\"simulation\"], legend=:topleft)"
   ]
  },
  {
   "cell_type": "markdown",
   "metadata": {},
   "source": [
    "Autre exemple, système avec des entrées communes :"
   ]
  },
  {
   "cell_type": "code",
   "execution_count": 18,
   "metadata": {},
   "outputs": [
    {
     "data": {
      "text/plain": [
       "9-element Max-Plus vector:\n",
       "   1\n",
       "  10\n",
       "  19\n",
       "  28\n",
       "  37\n",
       "  46\n",
       "  55\n",
       "  64\n",
       "  73\n"
      ]
     },
     "execution_count": 18,
     "metadata": {},
     "output_type": "execute_result"
    }
   ],
   "source": [
    "u = [MP(1:0.5:5) MP(1:0.5:5)]\n",
    "y = mpsimul([S1 S2], u, true)"
   ]
  }
 ],
 "metadata": {
  "kernelspec": {
   "display_name": "Julia 1.6.0",
   "language": "julia",
   "name": "julia-1.6"
  },
  "language_info": {
   "file_extension": ".jl",
   "mimetype": "application/julia",
   "name": "julia",
   "version": "1.6.0"
  }
 },
 "nbformat": 4,
 "nbformat_minor": 2
}
