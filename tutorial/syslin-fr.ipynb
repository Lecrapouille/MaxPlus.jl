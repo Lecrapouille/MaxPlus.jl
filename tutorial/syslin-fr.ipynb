{
 "cells": [
  {
   "cell_type": "markdown",
   "metadata": {},
   "source": [
    "# Système linéaire max-plus\n",
    "\n",
    "work in progress ..."
   ]
  },
  {
   "cell_type": "code",
   "execution_count": 2,
   "metadata": {},
   "outputs": [],
   "source": [
    "push!(LOAD_PATH, pwd())\n",
    "using MaxPlus"
   ]
  },
  {
   "cell_type": "code",
   "execution_count": 6,
   "metadata": {},
   "outputs": [
    {
     "data": {
      "text/plain": [
       "Implicit dynamic linear maxplus system:\n",
       "  x(n) = D*x(n) + A*x(n-1) + B*u(n)\n",
       "  y(n) = C*x(n)\n",
       "  x(0) = x0\n",
       "\n",
       "with:\n",
       "  D  = MP{Float64}[0 . .; . 0 .; . . 0]\n",
       "  A  = MP{Float64}[1 2 3; 4 5 6; 7 8 9]\n",
       "  B  = MP{Float64}[0; 0; 0]\n",
       "  C  = MP{Float64}[0 0 0]\n",
       "  x0 = MP{Float64}[.; .; .]\n"
      ]
     },
     "execution_count": 6,
     "metadata": {},
     "output_type": "execute_result"
    }
   ],
   "source": [
    "S1 = mpsyslin(MP([1.0 2; 3 4]), MP([0.0; 0]), MP([0.0 0]), mpeye(Float64, 2,2))"
   ]
  },
  {
   "cell_type": "code",
   "execution_count": 7,
   "metadata": {},
   "outputs": [
    {
     "data": {
      "text/plain": [
       "Implicit dynamic linear maxplus system:\n",
       "  x(n) = D*x(n) + A*x(n-1) + B*u(n)\n",
       "  y(n) = C*x(n)\n",
       "  x(0) = x0\n",
       "\n",
       "with:\n",
       "  D  = MP{Float64}[0 . .; . 0 .; . . 0]\n",
       "  A  = MP{Float64}[1 2 3; 4 5 6; 7 8 9]\n",
       "  B  = MP{Float64}[0; 0; 0]\n",
       "  C  = MP{Float64}[0 0 0]\n",
       "  x0 = MP{Float64}[.; .; .]\n"
      ]
     },
     "execution_count": 7,
     "metadata": {},
     "output_type": "execute_result"
    }
   ],
   "source": [
    "S2 = mpsyslin(MP([1.0 2 3; 4 5 6; 7 8 9]), MP([0.0;0;0]), MP([0.0 0 0]), mpeye(Float64, 3,3))"
   ]
  },
  {
   "cell_type": "markdown",
   "metadata": {},
   "source": [
    "Vers du code LaTeX :"
   ]
  },
  {
   "cell_type": "code",
   "execution_count": 10,
   "metadata": {},
   "outputs": [
    {
     "name": "stdout",
     "output_type": "stream",
     "text": [
      "\\begin{array}{lcl}\n",
      "x_n & = & \\left[\n",
      "\\begin{array}{*{20}c}\n",
      "0 & . \\\\\n",
      ". & 0 \\\\\n",
      "\\end{array}\n",
      "\\right]\n",
      " x_n \\oplus \\left[\n",
      "\\begin{array}{*{20}c}\n",
      "1 & 2 \\\\\n",
      "3 & 4 \\\\\n",
      "\\end{array}\n",
      "\\right]\n",
      " x_{n-1} \\oplus \\left[\n",
      "\\begin{array}{*{20}c}\n",
      "0 \\\\\n",
      "0 \\\\\n",
      "\\end{array}\n",
      "\\right]\n",
      " u_n\\\\y_n & = & \\left[\n",
      "\\begin{array}{*{20}c}\n",
      "0 & 0 \\\\\n",
      "\\end{array}\n",
      "\\right]\n",
      " x_n\\\\x_0 & = & \\left[\n",
      "\\begin{array}{*{20}c}\n",
      ". \\\\\n",
      ". \\\\\n",
      "\\end{array}\n",
      "\\right]\n",
      "\\end{array}"
     ]
    }
   ],
   "source": [
    "LaTeX(stdout, S1)"
   ]
  },
  {
   "cell_type": "markdown",
   "metadata": {},
   "source": [
    "Ce qui donnera pour S1:\n",
    "$$\\begin{array}{lcl}\n",
    "x_n & = & \\left[\n",
    "\\begin{array}{*{20}c}\n",
    "0 & . \\\\\n",
    ". & 0 \\\\\n",
    "\\end{array}\n",
    "\\right]\n",
    " x_n \\oplus \\left[\n",
    "\\begin{array}{*{20}c}\n",
    "1 & 2 \\\\\n",
    "3 & 4 \\\\\n",
    "\\end{array}\n",
    "\\right]\n",
    " x_{n-1} \\oplus \\left[\n",
    "\\begin{array}{*{20}c}\n",
    "0 \\\\\n",
    "0 \\\\\n",
    "\\end{array}\n",
    "\\right]\n",
    " u_n\\\\y_n & = & \\left[\n",
    "\\begin{array}{*{20}c}\n",
    "0 & 0 \\\\\n",
    "\\end{array}\n",
    "\\right]\n",
    " x_n\\\\x_0 & = & \\left[\n",
    "\\begin{array}{*{20}c}\n",
    ". \\\\\n",
    ". \\\\\n",
    "\\end{array}\n",
    "\\right]\n",
    "\\end{array}$$\n",
    "\n",
    "Et pour S2:\n",
    "$$\\begin{array}{lcl}\n",
    "x_n & = & \\left[\n",
    "\\begin{array}{*{20}c}\n",
    "0 & . & . \\\\\n",
    ". & 0 & . \\\\\n",
    ". & . & 0 \\\\\n",
    "\\end{array}\n",
    "\\right]\n",
    " x_n \\oplus \\left[\n",
    "\\begin{array}{*{20}c}\n",
    "1 & 2 & 3 \\\\\n",
    "4 & 5 & 6 \\\\\n",
    "7 & 8 & 9 \\\\\n",
    "\\end{array}\n",
    "\\right]\n",
    " x_{n-1} \\oplus \\left[\n",
    "\\begin{array}{*{20}c}\n",
    "0 \\\\\n",
    "0 \\\\\n",
    "0 \\\\\n",
    "\\end{array}\n",
    "\\right]\n",
    " u_n\\\\y_n & = & \\left[\n",
    "\\begin{array}{*{20}c}\n",
    "0 & 0 & 0 \\\\\n",
    "\\end{array}\n",
    "\\right]\n",
    " x_n\\\\x_0 & = & \\left[\n",
    "\\begin{array}{*{20}c}\n",
    ". \\\\\n",
    ". \\\\\n",
    ". \\\\\n",
    "\\end{array}\n",
    "\\right]\n",
    "\\end{array}$$"
   ]
  },
  {
   "cell_type": "markdown",
   "metadata": {},
   "source": [
    "---\n",
    "#### Conversion vers système explicite"
   ]
  },
  {
   "cell_type": "code",
   "execution_count": 11,
   "metadata": {},
   "outputs": [
    {
     "data": {
      "text/plain": [
       "Implicit dynamic linear maxplus system:\n",
       "  x(n) = D*x(n) + A*x(n-1) + B*u(n)\n",
       "  y(n) = C*x(n)\n",
       "  x(0) = x0\n",
       "\n",
       "with:\n",
       "  D  = MP{Float64}[0 .; . 0]\n",
       "  A  = MP{Float64}[1 2; 3 4]\n",
       "  B  = MP{Float64}[0; 0]\n",
       "  C  = MP{Float64}[0 0]\n",
       "  x0 = MP{Float64}[.; .]\n"
      ]
     },
     "execution_count": 11,
     "metadata": {},
     "output_type": "execute_result"
    }
   ],
   "source": [
    "S = mpexplicit(S1)"
   ]
  },
  {
   "cell_type": "code",
   "execution_count": 14,
   "metadata": {},
   "outputs": [],
   "source": [
    "# LaTeX(stdout, S)"
   ]
  },
  {
   "cell_type": "markdown",
   "metadata": {},
   "source": [
    "$$\\begin{array}{lcl}\n",
    "x_n & = & \\left[\n",
    "\\begin{array}{*{20}c}\n",
    "0 & . \\\\\n",
    ". & 0 \\\\\n",
    "\\end{array}\n",
    "\\right]\n",
    " x_n \\oplus \\left[\n",
    "\\begin{array}{*{20}c}\n",
    "1 & 2 \\\\\n",
    "3 & 4 \\\\\n",
    "\\end{array}\n",
    "\\right]\n",
    " x_{n-1} \\oplus \\left[\n",
    "\\begin{array}{*{20}c}\n",
    "0 \\\\\n",
    "0 \\\\\n",
    "\\end{array}\n",
    "\\right]\n",
    " u_n\\\\y_n & = & \\left[\n",
    "\\begin{array}{*{20}c}\n",
    "0 & 0 \\\\\n",
    "\\end{array}\n",
    "\\right]\n",
    " x_n\\\\x_0 & = & \\left[\n",
    "\\begin{array}{*{20}c}\n",
    ". \\\\\n",
    ". \\\\\n",
    "\\end{array}\n",
    "\\right]\n",
    "\\end{array}$$"
   ]
  },
  {
   "cell_type": "markdown",
   "metadata": {},
   "source": [
    "---\n",
    "### Simulation"
   ]
  },
  {
   "cell_type": "code",
   "execution_count": 53,
   "metadata": {},
   "outputs": [
    {
     "data": {
      "text/plain": [
       "1×10 Array{MP{Float64},2}:\n",
       " 1  5  9  13  17  21  25  29  33  37"
      ]
     },
     "execution_count": 53,
     "metadata": {},
     "output_type": "execute_result"
    }
   ],
   "source": [
    "u = 1:10\n",
    "res = mpsimul(S, MP(u), true)"
   ]
  },
  {
   "cell_type": "code",
   "execution_count": 37,
   "metadata": {},
   "outputs": [],
   "source": [
    "using Plots"
   ]
  },
  {
   "cell_type": "code",
   "execution_count": 57,
   "metadata": {},
   "outputs": [
    {
     "data": {
      "image/svg+xml": [
       "<?xml version=\"1.0\" encoding=\"utf-8\"?>\n",
       "<svg xmlns=\"http://www.w3.org/2000/svg\" xmlns:xlink=\"http://www.w3.org/1999/xlink\" width=\"600\" height=\"400\" viewBox=\"0 0 2400 1600\">\n",
       "<defs>\n",
       "  <clipPath id=\"clip9800\">\n",
       "    <rect x=\"0\" y=\"0\" width=\"2400\" height=\"1600\"/>\n",
       "  </clipPath>\n",
       "</defs>\n",
       "<polygon clip-path=\"url(#clip9800)\" points=\"\n",
       "0,1600 2400,1600 2400,0 0,0 \n",
       "  \" fill=\"#ffffff\" fill-rule=\"evenodd\" fill-opacity=\"1\"/>\n",
       "<defs>\n",
       "  <clipPath id=\"clip9801\">\n",
       "    <rect x=\"480\" y=\"0\" width=\"1681\" height=\"1600\"/>\n",
       "  </clipPath>\n",
       "</defs>\n",
       "<polygon clip-path=\"url(#clip9800)\" points=\"\n",
       "140.517,1487.47 2352.76,1487.47 2352.76,47.2441 140.517,47.2441 \n",
       "  \" fill=\"#ffffff\" fill-rule=\"evenodd\" fill-opacity=\"1\"/>\n",
       "<defs>\n",
       "  <clipPath id=\"clip9802\">\n",
       "    <rect x=\"140\" y=\"47\" width=\"2213\" height=\"1441\"/>\n",
       "  </clipPath>\n",
       "</defs>\n",
       "<polyline clip-path=\"url(#clip9802)\" style=\"stroke:#000000; stroke-width:2; stroke-opacity:0.1; fill:none\" points=\"\n",
       "  435.018,1487.47 435.018,47.2441 \n",
       "  \"/>\n",
       "<polyline clip-path=\"url(#clip9802)\" style=\"stroke:#000000; stroke-width:2; stroke-opacity:0.1; fill:none\" points=\"\n",
       "  898.8,1487.47 898.8,47.2441 \n",
       "  \"/>\n",
       "<polyline clip-path=\"url(#clip9802)\" style=\"stroke:#000000; stroke-width:2; stroke-opacity:0.1; fill:none\" points=\"\n",
       "  1362.58,1487.47 1362.58,47.2441 \n",
       "  \"/>\n",
       "<polyline clip-path=\"url(#clip9802)\" style=\"stroke:#000000; stroke-width:2; stroke-opacity:0.1; fill:none\" points=\"\n",
       "  1826.36,1487.47 1826.36,47.2441 \n",
       "  \"/>\n",
       "<polyline clip-path=\"url(#clip9802)\" style=\"stroke:#000000; stroke-width:2; stroke-opacity:0.1; fill:none\" points=\"\n",
       "  2290.15,1487.47 2290.15,47.2441 \n",
       "  \"/>\n",
       "<polyline clip-path=\"url(#clip9802)\" style=\"stroke:#000000; stroke-width:2; stroke-opacity:0.1; fill:none\" points=\"\n",
       "  140.517,1484.46 2352.76,1484.46 \n",
       "  \"/>\n",
       "<polyline clip-path=\"url(#clip9802)\" style=\"stroke:#000000; stroke-width:2; stroke-opacity:0.1; fill:none\" points=\"\n",
       "  140.517,1107.04 2352.76,1107.04 \n",
       "  \"/>\n",
       "<polyline clip-path=\"url(#clip9802)\" style=\"stroke:#000000; stroke-width:2; stroke-opacity:0.1; fill:none\" points=\"\n",
       "  140.517,729.618 2352.76,729.618 \n",
       "  \"/>\n",
       "<polyline clip-path=\"url(#clip9802)\" style=\"stroke:#000000; stroke-width:2; stroke-opacity:0.1; fill:none\" points=\"\n",
       "  140.517,352.199 2352.76,352.199 \n",
       "  \"/>\n",
       "<polyline clip-path=\"url(#clip9800)\" style=\"stroke:#000000; stroke-width:4; stroke-opacity:1; fill:none\" points=\"\n",
       "  140.517,1487.47 2352.76,1487.47 \n",
       "  \"/>\n",
       "<polyline clip-path=\"url(#clip9800)\" style=\"stroke:#000000; stroke-width:4; stroke-opacity:1; fill:none\" points=\"\n",
       "  140.517,1487.47 140.517,47.2441 \n",
       "  \"/>\n",
       "<polyline clip-path=\"url(#clip9800)\" style=\"stroke:#000000; stroke-width:4; stroke-opacity:1; fill:none\" points=\"\n",
       "  435.018,1487.47 435.018,1465.87 \n",
       "  \"/>\n",
       "<polyline clip-path=\"url(#clip9800)\" style=\"stroke:#000000; stroke-width:4; stroke-opacity:1; fill:none\" points=\"\n",
       "  898.8,1487.47 898.8,1465.87 \n",
       "  \"/>\n",
       "<polyline clip-path=\"url(#clip9800)\" style=\"stroke:#000000; stroke-width:4; stroke-opacity:1; fill:none\" points=\"\n",
       "  1362.58,1487.47 1362.58,1465.87 \n",
       "  \"/>\n",
       "<polyline clip-path=\"url(#clip9800)\" style=\"stroke:#000000; stroke-width:4; stroke-opacity:1; fill:none\" points=\"\n",
       "  1826.36,1487.47 1826.36,1465.87 \n",
       "  \"/>\n",
       "<polyline clip-path=\"url(#clip9800)\" style=\"stroke:#000000; stroke-width:4; stroke-opacity:1; fill:none\" points=\"\n",
       "  2290.15,1487.47 2290.15,1465.87 \n",
       "  \"/>\n",
       "<polyline clip-path=\"url(#clip9800)\" style=\"stroke:#000000; stroke-width:4; stroke-opacity:1; fill:none\" points=\"\n",
       "  140.517,1484.46 173.7,1484.46 \n",
       "  \"/>\n",
       "<polyline clip-path=\"url(#clip9800)\" style=\"stroke:#000000; stroke-width:4; stroke-opacity:1; fill:none\" points=\"\n",
       "  140.517,1107.04 173.7,1107.04 \n",
       "  \"/>\n",
       "<polyline clip-path=\"url(#clip9800)\" style=\"stroke:#000000; stroke-width:4; stroke-opacity:1; fill:none\" points=\"\n",
       "  140.517,729.618 173.7,729.618 \n",
       "  \"/>\n",
       "<polyline clip-path=\"url(#clip9800)\" style=\"stroke:#000000; stroke-width:4; stroke-opacity:1; fill:none\" points=\"\n",
       "  140.517,352.199 173.7,352.199 \n",
       "  \"/>\n",
       "<g clip-path=\"url(#clip9800)\">\n",
       "<text style=\"fill:#000000; fill-opacity:1; font-family:Arial,Helvetica Neue,Helvetica,sans-serif; font-size:48px; text-anchor:middle;\" transform=\"rotate(0, 435.018, 1541.47)\" x=\"435.018\" y=\"1541.47\">2</text>\n",
       "</g>\n",
       "<g clip-path=\"url(#clip9800)\">\n",
       "<text style=\"fill:#000000; fill-opacity:1; font-family:Arial,Helvetica Neue,Helvetica,sans-serif; font-size:48px; text-anchor:middle;\" transform=\"rotate(0, 898.8, 1541.47)\" x=\"898.8\" y=\"1541.47\">4</text>\n",
       "</g>\n",
       "<g clip-path=\"url(#clip9800)\">\n",
       "<text style=\"fill:#000000; fill-opacity:1; font-family:Arial,Helvetica Neue,Helvetica,sans-serif; font-size:48px; text-anchor:middle;\" transform=\"rotate(0, 1362.58, 1541.47)\" x=\"1362.58\" y=\"1541.47\">6</text>\n",
       "</g>\n",
       "<g clip-path=\"url(#clip9800)\">\n",
       "<text style=\"fill:#000000; fill-opacity:1; font-family:Arial,Helvetica Neue,Helvetica,sans-serif; font-size:48px; text-anchor:middle;\" transform=\"rotate(0, 1826.36, 1541.47)\" x=\"1826.36\" y=\"1541.47\">8</text>\n",
       "</g>\n",
       "<g clip-path=\"url(#clip9800)\">\n",
       "<text style=\"fill:#000000; fill-opacity:1; font-family:Arial,Helvetica Neue,Helvetica,sans-serif; font-size:48px; text-anchor:middle;\" transform=\"rotate(0, 2290.15, 1541.47)\" x=\"2290.15\" y=\"1541.47\">10</text>\n",
       "</g>\n",
       "<g clip-path=\"url(#clip9800)\">\n",
       "<text style=\"fill:#000000; fill-opacity:1; font-family:Arial,Helvetica Neue,Helvetica,sans-serif; font-size:48px; text-anchor:end;\" transform=\"rotate(0, 116.517, 1501.96)\" x=\"116.517\" y=\"1501.96\">0</text>\n",
       "</g>\n",
       "<g clip-path=\"url(#clip9800)\">\n",
       "<text style=\"fill:#000000; fill-opacity:1; font-family:Arial,Helvetica Neue,Helvetica,sans-serif; font-size:48px; text-anchor:end;\" transform=\"rotate(0, 116.517, 1124.54)\" x=\"116.517\" y=\"1124.54\">10</text>\n",
       "</g>\n",
       "<g clip-path=\"url(#clip9800)\">\n",
       "<text style=\"fill:#000000; fill-opacity:1; font-family:Arial,Helvetica Neue,Helvetica,sans-serif; font-size:48px; text-anchor:end;\" transform=\"rotate(0, 116.517, 747.118)\" x=\"116.517\" y=\"747.118\">20</text>\n",
       "</g>\n",
       "<g clip-path=\"url(#clip9800)\">\n",
       "<text style=\"fill:#000000; fill-opacity:1; font-family:Arial,Helvetica Neue,Helvetica,sans-serif; font-size:48px; text-anchor:end;\" transform=\"rotate(0, 116.517, 369.699)\" x=\"116.517\" y=\"369.699\">30</text>\n",
       "</g>\n",
       "<polyline clip-path=\"url(#clip9802)\" style=\"stroke:#009af9; stroke-width:4; stroke-opacity:1; fill:none\" points=\"\n",
       "  203.127,1446.71 435.018,1295.75 666.909,1144.78 898.8,993.811 1130.69,842.843 1362.58,691.876 1594.47,540.908 1826.36,389.94 2058.25,238.973 2290.15,88.0053 \n",
       "  \n",
       "  \"/>\n",
       "<polygon clip-path=\"url(#clip9800)\" points=\"\n",
       "1824.11,251.724 2280.76,251.724 2280.76,130.764 1824.11,130.764 \n",
       "  \" fill=\"#ffffff\" fill-rule=\"evenodd\" fill-opacity=\"1\"/>\n",
       "<polyline clip-path=\"url(#clip9800)\" style=\"stroke:#000000; stroke-width:4; stroke-opacity:1; fill:none\" points=\"\n",
       "  1824.11,251.724 2280.76,251.724 2280.76,130.764 1824.11,130.764 1824.11,251.724 \n",
       "  \"/>\n",
       "<polyline clip-path=\"url(#clip9800)\" style=\"stroke:#009af9; stroke-width:4; stroke-opacity:1; fill:none\" points=\"\n",
       "  1848.11,191.244 1992.11,191.244 \n",
       "  \"/>\n",
       "<g clip-path=\"url(#clip9800)\">\n",
       "<text style=\"fill:#000000; fill-opacity:1; font-family:Arial,Helvetica Neue,Helvetica,sans-serif; font-size:48px; text-anchor:start;\" transform=\"rotate(0, 2016.11, 208.744)\" x=\"2016.11\" y=\"208.744\">simulation</text>\n",
       "</g>\n",
       "</svg>\n"
      ]
     },
     "execution_count": 57,
     "metadata": {},
     "output_type": "execute_result"
    }
   ],
   "source": [
    "y = plustimes(res[:])\n",
    "plot(u, y, label=[\"simulation\"])"
   ]
  },
  {
   "cell_type": "markdown",
   "metadata": {},
   "source": [
    "---\n",
    "### Composition de systèmes"
   ]
  },
  {
   "cell_type": "markdown",
   "metadata": {},
   "source": [
    "Composition parallèle :"
   ]
  },
  {
   "cell_type": "code",
   "execution_count": 62,
   "metadata": {},
   "outputs": [],
   "source": [
    "S = S1 + S2;\n",
    "# LaTeX(stdout, S)"
   ]
  },
  {
   "cell_type": "markdown",
   "metadata": {},
   "source": [
    "$$\\begin{array}{lcl}\n",
    "x_n & = & \\left[\n",
    "\\begin{array}{*{20}c}\n",
    "0 & . & . & . & . \\\\\n",
    ". & 0 & . & . & . \\\\\n",
    ". & . & 0 & . & . \\\\\n",
    ". & . & . & 0 & . \\\\\n",
    ". & . & . & . & 0 \\\\\n",
    "\\end{array}\n",
    "\\right]\n",
    " x_n \\oplus \\left[\n",
    "\\begin{array}{*{20}c}\n",
    "1 & 2 & . & . & . \\\\\n",
    "3 & 4 & . & . & . \\\\\n",
    ". & . & 1 & 2 & 3 \\\\\n",
    ". & . & 4 & 5 & 6 \\\\\n",
    ". & . & 7 & 8 & 9 \\\\\n",
    "\\end{array}\n",
    "\\right]\n",
    " x_{n-1} \\oplus \\left[\n",
    "\\begin{array}{*{20}c}\n",
    "0 \\\\\n",
    "0 \\\\\n",
    "0 \\\\\n",
    "0 \\\\\n",
    "0 \\\\\n",
    "\\end{array}\n",
    "\\right]\n",
    " u_n\\\\y_n & = & \\left[\n",
    "\\begin{array}{*{20}c}\n",
    "0 & 0 & 0 & 0 & 0 \\\\\n",
    "\\end{array}\n",
    "\\right]\n",
    " x_n\\\\x_0 & = & \\left[\n",
    "\\begin{array}{*{20}c}\n",
    ". \\\\\n",
    ". \\\\\n",
    ". \\\\\n",
    ". \\\\\n",
    ". \\\\\n",
    "\\end{array}\n",
    "\\right]\n",
    "\\end{array}$$"
   ]
  },
  {
   "cell_type": "markdown",
   "metadata": {},
   "source": [
    "Composition diagonale :"
   ]
  },
  {
   "cell_type": "code",
   "execution_count": 64,
   "metadata": {},
   "outputs": [],
   "source": [
    "S = S1 | S2;\n",
    "# LaTeX(stdout, S)"
   ]
  },
  {
   "cell_type": "markdown",
   "metadata": {},
   "source": [
    "$$\\begin{array}{lcl}\n",
    "x_n & = & \\left[\n",
    "\\begin{array}{*{20}c}\n",
    "0 & . & . & . & . \\\\\n",
    ". & 0 & . & . & . \\\\\n",
    ". & . & 0 & . & . \\\\\n",
    ". & . & . & 0 & . \\\\\n",
    ". & . & . & . & 0 \\\\\n",
    "\\end{array}\n",
    "\\right]\n",
    " x_n \\oplus \\left[\n",
    "\\begin{array}{*{20}c}\n",
    "1 & 2 & . & . & . \\\\\n",
    "3 & 4 & . & . & . \\\\\n",
    ". & . & 1 & 2 & 3 \\\\\n",
    ". & . & 4 & 5 & 6 \\\\\n",
    ". & . & 7 & 8 & 9 \\\\\n",
    "\\end{array}\n",
    "\\right]\n",
    " x_{n-1} \\oplus \\left[\n",
    "\\begin{array}{*{20}c}\n",
    "0 & . \\\\\n",
    "0 & . \\\\\n",
    ". & 0 \\\\\n",
    ". & 0 \\\\\n",
    ". & 0 \\\\\n",
    "\\end{array}\n",
    "\\right]\n",
    " u_n\\\\y_n & = & \\left[\n",
    "\\begin{array}{*{20}c}\n",
    "0 & 0 & . & . & . \\\\\n",
    ". & . & 0 & 0 & 0 \\\\\n",
    "\\end{array}\n",
    "\\right]\n",
    " x_n\\\\x_0 & = & \\left[\n",
    "\\begin{array}{*{20}c}\n",
    ". \\\\\n",
    ". \\\\\n",
    ". \\\\\n",
    ". \\\\\n",
    ". \\\\\n",
    "\\end{array}\n",
    "\\right]\n",
    "\\end{array}$$"
   ]
  },
  {
   "cell_type": "markdown",
   "metadata": {},
   "source": [
    "Composition en série :"
   ]
  },
  {
   "cell_type": "code",
   "execution_count": 67,
   "metadata": {},
   "outputs": [],
   "source": [
    "S = S1 * S2;\n",
    "# LaTeX(stdout, S)"
   ]
  },
  {
   "cell_type": "markdown",
   "metadata": {},
   "source": [
    "$$\\begin{array}{lcl}\n",
    "x_n & = & \\left[\n",
    "\\begin{array}{*{20}c}\n",
    "0 & . & . & . & . \\\\\n",
    ". & 0 & . & . & . \\\\\n",
    ". & . & 0 & . & . \\\\\n",
    "0 & 0 & 0 & 0 & . \\\\\n",
    "0 & 0 & 0 & . & 0 \\\\\n",
    "\\end{array}\n",
    "\\right]\n",
    " x_n \\oplus \\left[\n",
    "\\begin{array}{*{20}c}\n",
    "1 & 2 & 3 & . & . \\\\\n",
    "4 & 5 & 6 & . & . \\\\\n",
    "7 & 8 & 9 & . & . \\\\\n",
    ". & . & . & 1 & 2 \\\\\n",
    ". & . & . & 3 & 4 \\\\\n",
    "\\end{array}\n",
    "\\right]\n",
    " x_{n-1} \\oplus \\left[\n",
    "\\begin{array}{*{20}c}\n",
    "0 \\\\\n",
    "0 \\\\\n",
    "0 \\\\\n",
    ". \\\\\n",
    ". \\\\\n",
    "\\end{array}\n",
    "\\right]\n",
    " u_n\\\\y_n & = & \\left[\n",
    "\\begin{array}{*{20}c}\n",
    ". & . & . & 0 & 0 \\\\\n",
    "\\end{array}\n",
    "\\right]\n",
    " x_n\\\\x_0 & = & \\left[\n",
    "\\begin{array}{*{20}c}\n",
    ". \\\\\n",
    ". \\\\\n",
    ". \\\\\n",
    ". \\\\\n",
    ". \\\\\n",
    "\\end{array}\n",
    "\\right]\n",
    "\\end{array}$$"
   ]
  },
  {
   "cell_type": "markdown",
   "metadata": {},
   "source": [
    "Entrées communes :"
   ]
  },
  {
   "cell_type": "code",
   "execution_count": 71,
   "metadata": {},
   "outputs": [],
   "source": [
    "S = [S1 S2];\n",
    "# LaTeX(stdout, S)"
   ]
  },
  {
   "cell_type": "markdown",
   "metadata": {},
   "source": [
    "$$\\begin{array}{lcl}\n",
    "x_n & = & \\left[\n",
    "\\begin{array}{*{20}c}\n",
    "0 & . & . & . & . \\\\\n",
    ". & 0 & . & . & . \\\\\n",
    ". & . & 0 & . & . \\\\\n",
    ". & . & . & 0 & . \\\\\n",
    ". & . & . & . & 0 \\\\\n",
    "\\end{array}\n",
    "\\right]\n",
    " x_n \\oplus \\left[\n",
    "\\begin{array}{*{20}c}\n",
    "1 & 2 & . & . & . \\\\\n",
    "3 & 4 & . & . & . \\\\\n",
    ". & . & 1 & 2 & 3 \\\\\n",
    ". & . & 4 & 5 & 6 \\\\\n",
    ". & . & 7 & 8 & 9 \\\\\n",
    "\\end{array}\n",
    "\\right]\n",
    " x_{n-1} \\oplus \\left[\n",
    "\\begin{array}{*{20}c}\n",
    "0 & . \\\\\n",
    "0 & . \\\\\n",
    ". & 0 \\\\\n",
    ". & 0 \\\\\n",
    ". & 0 \\\\\n",
    "\\end{array}\n",
    "\\right]\n",
    " u_n\\\\y_n & = & \\left[\n",
    "\\begin{array}{*{20}c}\n",
    "0 & 0 & 0 & 0 & 0 \\\\\n",
    "\\end{array}\n",
    "\\right]\n",
    " x_n\\\\x_0 & = & \\left[\n",
    "\\begin{array}{*{20}c}\n",
    ". \\\\\n",
    ". \\\\\n",
    ". \\\\\n",
    ". \\\\\n",
    ". \\\\\n",
    "\\end{array}\n",
    "\\right]\n",
    "\\end{array}$$"
   ]
  },
  {
   "cell_type": "markdown",
   "metadata": {},
   "source": [
    "Sorties communes :"
   ]
  },
  {
   "cell_type": "code",
   "execution_count": 74,
   "metadata": {},
   "outputs": [],
   "source": [
    "S = [S1; S2];\n",
    "# LaTeX(stdout, S)"
   ]
  },
  {
   "cell_type": "markdown",
   "metadata": {},
   "source": [
    "$$\\begin{array}{lcl}\n",
    "x_n & = & \\left[\n",
    "\\begin{array}{*{20}c}\n",
    "0 & . & . & . & . \\\\\n",
    ". & 0 & . & . & . \\\\\n",
    ". & . & 0 & . & . \\\\\n",
    ". & . & . & 0 & . \\\\\n",
    ". & . & . & . & 0 \\\\\n",
    "\\end{array}\n",
    "\\right]\n",
    " x_n \\oplus \\left[\n",
    "\\begin{array}{*{20}c}\n",
    "1 & 2 & . & . & . \\\\\n",
    "3 & 4 & . & . & . \\\\\n",
    ". & . & 1 & 2 & 3 \\\\\n",
    ". & . & 4 & 5 & 6 \\\\\n",
    ". & . & 7 & 8 & 9 \\\\\n",
    "\\end{array}\n",
    "\\right]\n",
    " x_{n-1} \\oplus \\left[\n",
    "\\begin{array}{*{20}c}\n",
    "0 \\\\\n",
    "0 \\\\\n",
    "0 \\\\\n",
    "0 \\\\\n",
    "0 \\\\\n",
    "\\end{array}\n",
    "\\right]\n",
    " u_n\\\\y_n & = & \\left[\n",
    "\\begin{array}{*{20}c}\n",
    "0 & 0 & . & . & . \\\\\n",
    ". & . & 0 & 0 & 0 \\\\\n",
    "\\end{array}\n",
    "\\right]\n",
    " x_n\\\\x_0 & = & \\left[\n",
    "\\begin{array}{*{20}c}\n",
    ". \\\\\n",
    ". \\\\\n",
    ". \\\\\n",
    ". \\\\\n",
    ". \\\\\n",
    "\\end{array}\n",
    "\\right]\n",
    "\\end{array}$$"
   ]
  },
  {
   "cell_type": "markdown",
   "metadata": {},
   "source": [
    "Composition avec retro-action :"
   ]
  },
  {
   "cell_type": "code",
   "execution_count": 76,
   "metadata": {},
   "outputs": [],
   "source": [
    "S = S1 / S2;\n",
    "# LaTeX(stdout, S)"
   ]
  },
  {
   "cell_type": "markdown",
   "metadata": {},
   "source": [
    "$$\\begin{array}{lcl}\n",
    "x_n & = & \\left[\n",
    "\\begin{array}{*{20}c}\n",
    "0 & . & 0 & 0 & 0 \\\\\n",
    ". & 0 & 0 & 0 & 0 \\\\\n",
    "0 & 0 & 0 & . & . \\\\\n",
    "0 & 0 & . & 0 & . \\\\\n",
    "0 & 0 & . & . & 0 \\\\\n",
    "\\end{array}\n",
    "\\right]\n",
    " x_n \\oplus \\left[\n",
    "\\begin{array}{*{20}c}\n",
    "1 & 2 & . & . & . \\\\\n",
    "3 & 4 & . & . & . \\\\\n",
    ". & . & 1 & 2 & 3 \\\\\n",
    ". & . & 4 & 5 & 6 \\\\\n",
    ". & . & 7 & 8 & 9 \\\\\n",
    "\\end{array}\n",
    "\\right]\n",
    " x_{n-1} \\oplus \\left[\n",
    "\\begin{array}{*{20}c}\n",
    "0 \\\\\n",
    "0 \\\\\n",
    ". \\\\\n",
    ". \\\\\n",
    ". \\\\\n",
    "\\end{array}\n",
    "\\right]\n",
    " u_n\\\\y_n & = & \\left[\n",
    "\\begin{array}{*{20}c}\n",
    "0 & 0 & . & . & . \\\\\n",
    "\\end{array}\n",
    "\\right]\n",
    " x_n\\\\x_0 & = & \\left[\n",
    "\\begin{array}{*{20}c}\n",
    ". \\\\\n",
    ". \\\\\n",
    ". \\\\\n",
    ". \\\\\n",
    ". \\\\\n",
    "\\end{array}\n",
    "\\right]\n",
    "\\end{array}$$"
   ]
  }
 ],
 "metadata": {
  "kernelspec": {
   "display_name": "Julia 1.0.3",
   "language": "julia",
   "name": "julia-1.0"
  },
  "language_info": {
   "file_extension": ".jl",
   "mimetype": "application/julia",
   "name": "julia",
   "version": "1.0.3"
  }
 },
 "nbformat": 4,
 "nbformat_minor": 2
}
